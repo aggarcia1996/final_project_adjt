{
 "cells": [
  {
   "attachments": {},
   "cell_type": "markdown",
   "metadata": {},
   "source": [
    "# Assignment: End to End Machine Learning - Predicting the risk of heart disease\n",
    "\n",
    "## Table of Contents\n",
    "\n",
    "* [A. Importing Libraries](#libraries)\n",
    "* [B. Importing data](#data)\n",
    "\n",
    "\n",
    "* [2. MLC2: Data understanding](#data_understanding)\n",
    "    * [2.1. MLC2.1.: Univariate data analysis](#univariate_data_analysis)\n",
    "        * [2.1.1. Dataset size](#dataset_size)\n",
    "        * [2.1.2. Direct visualization of the data](#direct_visualization)\n",
    "        * [2.1.3. Types of variables available](#variable_types)\n",
    "        * [2.1.4. Descriptive statistics](#descriptive_statistics)\n",
    "        * [2.1.5. Null values](#null_values)\n",
    "        * [2.1.6. Distribution of target](#target_distribution)\n",
    "        * [2.1.7. Identification of Outliers](#identification_outliers)\n",
    "    * [2.2. MLC2.2.: Multivariate data analysis](#multivariate_data_analysis)\n",
    "        * [2.2.1. Distribution of variables 2 to 2 (scatter plot)](#dist_num_var)\n",
    "        * [2.2.2. Correlation Between Variables 2 to 2 (linear correlation)](#cor_num_var)\n",
    "        * [2.2.3. Cross-tabs](#cross_tab)\n",
    "        * [2.2.4. Correlation between combinations of variables and the class](#corr_comb)\n",
    "\n",
    "\n",
    "\n",
    "        \n",
    "* [3. MLC3: Data preparation](#data_preparation)\n",
    "    * [3.1. MLC 3.1. Data cleaning](#data_cleaning)\n",
    "        * [3.1.1. Dealing with variable types](#dealing_variable_types)\n",
    "        * [3.1.2. Imputation of null values](#nulls_imputation)\n",
    "        * [3.1.3. Handling Outliers](#handling_outliers)\n",
    "        * [3.1.4. Elimination of features with low variance](#low_variance)\n",
    "    * [3.2. MLC 3.2. Data transformation](#data_transformation)\n",
    "        * [3.2.1. Transformation of categorical variables](#transformation_categorical)\n",
    "        * [3.2.2. Transformation of numerical variables](#transformation_num)\n",
    "        * [3.2.3. Transformation of date variables](#transformation_date)\n",
    "        * [3.2.4. Transformation of text variables](#transformation_text)"
   ]
  },
  {
   "attachments": {},
   "cell_type": "markdown",
   "metadata": {
    "id": "JOnZta7evWcr"
   },
   "source": [
    "## A. Importing libraries<a class=\"anchor\" id=\"libraries\"></a>"
   ]
  },
  {
   "cell_type": "code",
   "execution_count": null,
   "metadata": {
    "executionInfo": {
     "elapsed": 746,
     "status": "ok",
     "timestamp": 1623862446388,
     "user": {
      "displayName": "Heribert Valero Lapaz",
      "photoUrl": "https://lh3.googleusercontent.com/a-/AOh14GiDQN9Z8lZvf-E2xQnxjggQiKp8Ts_xByohDhhjfr4=s64",
      "userId": "15770364476741364744"
     },
     "user_tz": -120
    },
    "id": "SQ9SzFrRvWcs"
   },
   "outputs": [],
   "source": [
    "# Import Libraries\n",
    "# =========================================================\n",
    "# import numpy and pandas\n",
    "import numpy as np\n",
    "import pandas as pd\n",
    "\n",
    "# import libraries for plotting\n",
    "import matplotlib.pyplot as plt\n",
    "import matplotlib.ticker as ticker\n",
    "import seaborn as sns\n",
    "# import plotly.express as px\n",
    "# from plotly.subplots import make_subplots\n",
    "# import plotly.graph_objects as go\n",
    "\n",
    "# Configuration of pandas\n",
    "pd.set_option('display.max_rows', 500)\n",
    "pd.options.display.float_format = '{:,.2f}'.format\n",
    "\n",
    "# Configuration of matplotlib\n",
    "# %matplotlib inline \n",
    "plt.rcParams['savefig.bbox'] = \"tight\"\n",
    "# plt.style.use('ggplot')\n",
    "\n",
    "\n",
    "\n",
    "# import sklear for preprocessing functions\n",
    "from sklearn import preprocessing\n",
    "from sklearn.preprocessing import MinMaxScaler"
   ]
  },
  {
   "cell_type": "code",
   "execution_count": null,
   "metadata": {
    "colab": {
     "base_uri": "https://localhost:8080/"
    },
    "executionInfo": {
     "elapsed": 18,
     "status": "ok",
     "timestamp": 1623862446395,
     "user": {
      "displayName": "Heribert Valero Lapaz",
      "photoUrl": "https://lh3.googleusercontent.com/a-/AOh14GiDQN9Z8lZvf-E2xQnxjggQiKp8Ts_xByohDhhjfr4=s64",
      "userId": "15770364476741364744"
     },
     "user_tz": -120
    },
    "id": "mw_kn8XnvWcu",
    "outputId": "d6db6f41-4621-4d80-8bb5-569b76c16108"
   },
   "outputs": [],
   "source": [
    "# validate version of sklearn\n",
    "# =========================================================\n",
    "from sklearn import __version__ as sklearn_version\n",
    "print('Installed version for scikit-learn: {}.'.format(sklearn_version))"
   ]
  },
  {
   "attachments": {},
   "cell_type": "markdown",
   "metadata": {
    "id": "8SzH9E8VvWcu"
   },
   "source": [
    "## B. Importing data<a class=\"anchor\" id=\"data\"></a>"
   ]
  },
  {
   "cell_type": "code",
   "execution_count": null,
   "metadata": {
    "executionInfo": {
     "elapsed": 15,
     "status": "ok",
     "timestamp": 1623862446399,
     "user": {
      "displayName": "Heribert Valero Lapaz",
      "photoUrl": "https://lh3.googleusercontent.com/a-/AOh14GiDQN9Z8lZvf-E2xQnxjggQiKp8Ts_xByohDhhjfr4=s64",
      "userId": "15770364476741364744"
     },
     "user_tz": -120
    },
    "id": "lf4VyhAwvWcw"
   },
   "outputs": [],
   "source": [
    "# Import data\n",
    "# ======================================================================================\n",
    "df_comm_act = pd.read_csv(\"data/commercial_activity_df.csv\")\n",
    "df_prod = pd.read_csv(\"data/products_df.csv\")\n",
    "df_socio_dem = pd.read_csv(\"data/sociodemographic_df.csv\")\n",
    "\n",
    "display(df_comm_act.shape)\n",
    "display(df_comm_act.head())\n",
    "display(df_prod.shape)\n",
    "display(df_prod.head())\n",
    "display(df_socio_dem.shape)\n",
    "display(df_socio_dem.head())"
   ]
  },
  {
   "attachments": {},
   "cell_type": "markdown",
   "metadata": {
    "id": "h79Ym6NAvWcy"
   },
   "source": [
    "## MLC2: Data Understanding<a class=\"anchor\" id=\"data_understanding\"></a>"
   ]
  },
  {
   "cell_type": "markdown",
   "metadata": {
    "id": "OoYntc2qvWcz"
   },
   "source": [
    "## MLC2.1: Univariate data analysis<a class=\"anchor\" id=\"univariate_data_analysis\"></a>\n"
   ]
  },
  {
   "cell_type": "markdown",
   "metadata": {
    "id": "_5Y1ER9UvWcz"
   },
   "source": [
    "### 2.1.1. Dataset size<a class=\"anchor\" id=\"dataset_size\"></a>\n"
   ]
  },
  {
   "cell_type": "code",
   "execution_count": null,
   "metadata": {},
   "outputs": [],
   "source": [
    "# Get the number of registers, attributes and in-memory size\n",
    "# ======================================================================================\n",
    "\n",
    "# testing out if I am modifying this in my branc"
   ]
  },
  {
   "cell_type": "markdown",
   "metadata": {
    "id": "LEFWcztJvWc0"
   },
   "source": [
    "### 2.1.2.  Direct visualization of the data<a class=\"anchor\" id=\"direct_visualization\"></a>"
   ]
  },
  {
   "cell_type": "code",
   "execution_count": null,
   "metadata": {},
   "outputs": [],
   "source": [
    "# Overview of the columns and its data\n",
    "# ======================================================================================"
   ]
  },
  {
   "cell_type": "markdown",
   "metadata": {
    "id": "ENBDWwLKvWc3"
   },
   "source": [
    "### 2.1.3. Types of variables available<a class=\"anchor\" id=\"variable_types\"></a>"
   ]
  },
  {
   "cell_type": "code",
   "execution_count": null,
   "metadata": {
    "colab": {
     "base_uri": "https://localhost:8080/"
    },
    "executionInfo": {
     "elapsed": 63,
     "status": "ok",
     "timestamp": 1623862451000,
     "user": {
      "displayName": "Heribert Valero Lapaz",
      "photoUrl": "https://lh3.googleusercontent.com/a-/AOh14GiDQN9Z8lZvf-E2xQnxjggQiKp8Ts_xByohDhhjfr4=s64",
      "userId": "15770364476741364744"
     },
     "user_tz": -120
    },
    "id": "UWicvH7fvWc4",
    "outputId": "49d80d45-43d9-4fc8-8e6b-a8bbb0ee4537"
   },
   "outputs": [],
   "source": [
    "# Data Types\n",
    "# ======================================================================================\n",
    "df.info(verbose=True)"
   ]
  },
  {
   "cell_type": "markdown",
   "metadata": {
    "id": "UpYCyp_6vWc4"
   },
   "source": [
    "### 2.1.4. Descriptive statistics<a class=\"anchor\" id=\"descriptive_statistics\"></a>"
   ]
  },
  {
   "cell_type": "code",
   "execution_count": null,
   "metadata": {
    "colab": {
     "base_uri": "https://localhost:8080/",
     "height": 0
    },
    "executionInfo": {
     "elapsed": 399,
     "status": "ok",
     "timestamp": 1623862451338,
     "user": {
      "displayName": "Heribert Valero Lapaz",
      "photoUrl": "https://lh3.googleusercontent.com/a-/AOh14GiDQN9Z8lZvf-E2xQnxjggQiKp8Ts_xByohDhhjfr4=s64",
      "userId": "15770364476741364744"
     },
     "user_tz": -120
    },
    "id": "YJ6Ki3h6vWc5",
    "outputId": "934cc4eb-7048-48b8-9e45-f363dcb44f5d"
   },
   "outputs": [],
   "source": [
    "# Descriptive statistics for numerical values\n",
    "# ======================================================================================"
   ]
  },
  {
   "cell_type": "code",
   "execution_count": null,
   "metadata": {
    "colab": {
     "base_uri": "https://localhost:8080/",
     "height": 0
    },
    "executionInfo": {
     "elapsed": 14,
     "status": "ok",
     "timestamp": 1623862451339,
     "user": {
      "displayName": "Heribert Valero Lapaz",
      "photoUrl": "https://lh3.googleusercontent.com/a-/AOh14GiDQN9Z8lZvf-E2xQnxjggQiKp8Ts_xByohDhhjfr4=s64",
      "userId": "15770364476741364744"
     },
     "user_tz": -120
    },
    "id": "vlLIwNyAvWc6",
    "outputId": "c84221cc-8abb-4693-ca8c-672785367b0b"
   },
   "outputs": [],
   "source": [
    "# Descriptive statistics for categorical values\n",
    "# ======================================================================================\n"
   ]
  },
  {
   "cell_type": "markdown",
   "metadata": {
    "id": "25VkoomnvWc7"
   },
   "source": [
    "### 2.1.5. Number/fractions of null values<a class=\"anchor\" id=\"null_values\"></a>"
   ]
  },
  {
   "cell_type": "code",
   "execution_count": null,
   "metadata": {},
   "outputs": [],
   "source": [
    "# % of null values in our data set\n",
    "# ======================================================================================\n",
    "\n",
    "for col in df_chd_data.columns:\n",
    "  total_values = len(df_chd_data)\n",
    "  missing_values = df_chd_data[col].isna().sum()\n",
    "  percentage = ((missing_values/total_values)*100).round(2)\n",
    "  if missing_values != 0:\n",
    "    print('Column {} with {} missing values, {}% of {} values'.format(col, missing_values, percentage, total_values))"
   ]
  },
  {
   "cell_type": "markdown",
   "metadata": {
    "id": "F54D8S4-vWc8"
   },
   "source": [
    "### 2.1.6. Distribution / range of target values<a class=\"anchor\" id=\"target_distribution\"></a>"
   ]
  },
  {
   "cell_type": "code",
   "execution_count": 1,
   "metadata": {},
   "outputs": [],
   "source": [
    "# Create a target variable\n",
    "# ======================================================================================\n",
    "target = 2\n",
    "\n",
    "target = target*3"
   ]
  },
  {
   "cell_type": "code",
   "execution_count": null,
   "metadata": {
    "colab": {
     "base_uri": "https://localhost:8080/"
    },
    "executionInfo": {
     "elapsed": 48,
     "status": "ok",
     "timestamp": 1623862451828,
     "user": {
      "displayName": "Heribert Valero Lapaz",
      "photoUrl": "https://lh3.googleusercontent.com/a-/AOh14GiDQN9Z8lZvf-E2xQnxjggQiKp8Ts_xByohDhhjfr4=s64",
      "userId": "15770364476741364744"
     },
     "user_tz": -120
    },
    "id": "NTNIryLcvWc9",
    "outputId": "726cc67f-e7c0-4d35-a89d-431fb9d40bd6"
   },
   "outputs": [],
   "source": [
    "# Understand how are the values split in our target variable and visualize it \n",
    "# ======================================================================================"
   ]
  },
  {
   "cell_type": "markdown",
   "metadata": {
    "id": "3NoiFOkFvWdD"
   },
   "source": [
    "### 2.1.7 Identification of Outliers<a class=\"anchor\" id=\"identification_outliers\"></a>"
   ]
  },
  {
   "cell_type": "markdown",
   "metadata": {},
   "source": [
    "#### Numercial Values"
   ]
  },
  {
   "cell_type": "code",
   "execution_count": null,
   "metadata": {},
   "outputs": [],
   "source": [
    "# Check if there are outliers in the data (numerical values)\n",
    "# ======================================================================================"
   ]
  },
  {
   "cell_type": "code",
   "execution_count": null,
   "metadata": {},
   "outputs": [],
   "source": [
    "# Boxplot for columns with outliers\n",
    "# ======================================================================================\n"
   ]
  },
  {
   "cell_type": "markdown",
   "metadata": {},
   "source": [
    "#### Categorical Values"
   ]
  },
  {
   "cell_type": "code",
   "execution_count": null,
   "metadata": {},
   "outputs": [],
   "source": [
    "# Understand the cardinality of the categorical features\n",
    "# ======================================================================================"
   ]
  },
  {
   "cell_type": "markdown",
   "metadata": {},
   "source": [
    "## MLC2.2: Multivariate data analysis<a class=\"anchor\" id=\"multivariate_data_analysis\"></a>\n"
   ]
  },
  {
   "attachments": {},
   "cell_type": "markdown",
   "metadata": {
    "id": "3NoiFOkFvWdD"
   },
   "source": [
    "### 2.2.1 Distribution of variables 2 to 2 (scatter plot) <a class=\"anchor\" id=\"dist_num_var\"></a>"
   ]
  },
  {
   "attachments": {},
   "cell_type": "markdown",
   "metadata": {
    "id": "3NoiFOkFvWdD"
   },
   "source": [
    "### 2.2.2 Correlation Between Variables 2 to 2 (linear correlation) <a class=\"anchor\" id=\"cor_num_var\"></a>"
   ]
  },
  {
   "attachments": {},
   "cell_type": "markdown",
   "metadata": {
    "id": "3NoiFOkFvWdD"
   },
   "source": [
    "### 2.2.3 Cross-tabs <a class=\"anchor\" id=\"cross_tab\"></a>"
   ]
  },
  {
   "attachments": {},
   "cell_type": "markdown",
   "metadata": {
    "id": "3NoiFOkFvWdD"
   },
   "source": [
    "### 2.2.4 Correlation between combinations of variables and the class <a class=\"anchor\" id=\"corr_comb\"></a>"
   ]
  },
  {
   "cell_type": "code",
   "execution_count": null,
   "metadata": {},
   "outputs": [],
   "source": [
    "# Correlation\n",
    "# ======================================================================\n",
    "\n",
    "correlation = df.corr().round(2)\n",
    "plt.figure(figsize = (14,7))\n",
    "sns.heatmap(correlation, \n",
    "            annot = True, \n",
    "            cmap = sns.diverging_palette(20, 220, n=200), \n",
    "            center=0.05)"
   ]
  },
  {
   "cell_type": "markdown",
   "metadata": {
    "id": "h5S7G4XAvWdO"
   },
   "source": [
    "## MLC3: Data Preparation<a class=\"anchor\" id=\"data_preparation\"></a>\n"
   ]
  },
  {
   "cell_type": "markdown",
   "metadata": {
    "id": "G0Fk9u-xvWdO"
   },
   "source": [
    "### MLC3.1: Data Cleaning<a class=\"anchor\" id=\"data_cleaning\"></a>\n"
   ]
  },
  {
   "cell_type": "markdown",
   "metadata": {
    "id": "43VUn-8QvWdO"
   },
   "source": [
    "### 3.1.1. Dealing with variable types<a class=\"anchor\" id=\"dealing_variable_types\"></a>"
   ]
  },
  {
   "cell_type": "markdown",
   "metadata": {
    "id": "OPpx4kIxvWdQ"
   },
   "source": [
    "### 3.1.2. Imputation of null values<a class=\"anchor\" id=\"nulls_imputation\"></a>"
   ]
  },
  {
   "attachments": {},
   "cell_type": "markdown",
   "metadata": {
    "id": "OPpx4kIxvWdQ"
   },
   "source": [
    "### 3.1.3. Handling Outliers<a class=\"anchor\" id=\"handling_outliers\"></a>"
   ]
  },
  {
   "attachments": {},
   "cell_type": "markdown",
   "metadata": {
    "id": "OPpx4kIxvWdQ"
   },
   "source": [
    "### 3.1.4. Elimination of features with low variance or highly correlated<a class=\"anchor\" id=\"ft_low_var\"></a>"
   ]
  },
  {
   "cell_type": "markdown",
   "metadata": {
    "id": "jBnu6hbrvWde"
   },
   "source": [
    "### MLC3.2: Data transformation<a class=\"anchor\" id=\"data_transformation\"></a>\n",
    "### 3.2.1. Transformation of categorical variables<a class=\"anchor\" id=\"transformation_categorical\"></a>"
   ]
  },
  {
   "attachments": {},
   "cell_type": "markdown",
   "metadata": {
    "id": "OPpx4kIxvWdQ"
   },
   "source": [
    "### 3.3.2. Transformation of numerical variables<a class=\"anchor\" id=\"transformation_num\"></a>"
   ]
  },
  {
   "attachments": {},
   "cell_type": "markdown",
   "metadata": {
    "id": "OPpx4kIxvWdQ"
   },
   "source": [
    "### 3.3.3. Transformation of date variables<a class=\"anchor\" id=\"transformation_date\"></a>"
   ]
  },
  {
   "attachments": {},
   "cell_type": "markdown",
   "metadata": {
    "id": "OPpx4kIxvWdQ"
   },
   "source": [
    "### 3.3.4. Transformation of text variables<a class=\"anchor\" id=\"transformation_text\"></a>"
   ]
  }
 ],
 "metadata": {
  "colab": {
   "name": "Binary Classifier - JFK Flights Delay (2).ipynb",
   "provenance": [],
   "toc_visible": true
  },
  "kernelspec": {
   "display_name": "nuclio_env",
   "language": "python",
   "name": "python3"
  },
  "language_info": {
   "codemirror_mode": {
    "name": "ipython",
    "version": 3
   },
   "file_extension": ".py",
   "mimetype": "text/x-python",
   "name": "python",
   "nbconvert_exporter": "python",
   "pygments_lexer": "ipython3",
   "version": "3.10.6"
  },
  "vscode": {
   "interpreter": {
    "hash": "d57a3be1851da81093a09dd653771bf0551bceb0851bf264872914090ea1b7c4"
   }
  }
 },
 "nbformat": 4,
 "nbformat_minor": 1
}
