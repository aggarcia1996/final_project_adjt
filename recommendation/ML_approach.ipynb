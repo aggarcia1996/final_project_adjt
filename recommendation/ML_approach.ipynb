{
 "cells": [
  {
   "cell_type": "code",
   "execution_count": null,
   "metadata": {},
   "outputs": [],
   "source": [
    "# Import Libraries\n",
    "# =========================================================\n",
    "\n",
    "import numpy as np\n",
    "import pandas as pd\n",
    "import warnings\n",
    "\n",
    "import matplotlib.pyplot as plt\n",
    "\n",
    "## GLOBAL SETTINGS\n",
    "pd.set_option(\"display.max_columns\", None)\n",
    "pd.options.mode.chained_assignment = None \n",
    "warnings.filterwarnings(\"ignore\")\n",
    "%matplotlib inline\n",
    "plt.style.use(\"ggplot\")\n",
    "pd.options.display.float_format = '{:,.2f}'.format\n",
    "pd.set_option(\"display.max_rows\", 500)\n",
    "plt.rcParams[\"savefig.bbox\"] = \"tight\""
   ]
  }
 ],
 "metadata": {
  "kernelspec": {
   "display_name": "base",
   "language": "python",
   "name": "python3"
  },
  "language_info": {
   "name": "python",
   "version": "3.9.13"
  },
  "orig_nbformat": 4,
  "vscode": {
   "interpreter": {
    "hash": "bf26a67949d1045d176220045f1879bd40fe3fcae6da0e73db280a872502b2ae"
   }
  }
 },
 "nbformat": 4,
 "nbformat_minor": 2
}
