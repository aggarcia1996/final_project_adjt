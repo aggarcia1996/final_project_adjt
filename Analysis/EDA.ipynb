{
 "cells": [
  {
   "cell_type": "code",
   "execution_count": 33,
   "metadata": {},
   "outputs": [],
   "source": [
    "# Import Libraries\n",
    "# =========================================================\n",
    "\n",
    "import numpy as np\n",
    "import pandas as pd\n",
    "from collections import Counter\n",
    "from itertools import product\n",
    "import warnings\n",
    "\n",
    "import matplotlib.pyplot as plt\n",
    "import matplotlib.ticker as ticker\n",
    "import seaborn as sns\n",
    "from plotly.subplots import make_subplots\n",
    "import plotly.graph_objects as go\n",
    "import plotly.express as px\n",
    "import plotly.offline as pyo\n",
    "\n",
    "## GLOBAL SETTINGS\n",
    "pd.options.mode.chained_assignment = None  # default='warn'\n",
    "warnings.filterwarnings('ignore')\n",
    "%matplotlib inline\n",
    "plt.style.use('ggplot')\n",
    "pd.set_option('display.max_rows', 500)\n",
    "pd.options.display.float_format = '{:,.2f}'.format\n",
    "plt.rcParams['savefig.bbox'] = \"tight\""
   ]
  },
  {
   "cell_type": "code",
   "execution_count": 34,
   "metadata": {},
   "outputs": [],
   "source": [
    "def missing_summary(df):\n",
    "    has_non = 0\n",
    "    for column in df.columns:\n",
    "        total_values = len(df)\n",
    "        missing_values = df[column].isnull().sum()\n",
    "        percentage = ((missing_values/total_values)*100).round(2)\n",
    "        if missing_values > 0:\n",
    "            print('df[\"{}\"] - Total values: {}, Missing values: {} ({}%)'.format(column, total_values, missing_values, percentage,))\n",
    "        else:\n",
    "            has_non += 1\n",
    "    if has_non == len(df.columns):\n",
    "        print(\"Provided dataframe does not have any missing values.\")\n",
    "\n",
    "# =========================================================\n",
    "def categorical_counter(data):\n",
    "    for column in data.select_dtypes(exclude = np.number).columns:\n",
    "        cat_length = len(data[column].unique())\n",
    "        print(f\"df[\\\"{column}\\\"] contains {cat_length} unique values.\")\n",
    "\n",
    "# =========================================================\n",
    "def numerical_distribution(df,feature, feature_2):\n",
    "    \n",
    "    print(f\"{feature} Overview:\")\n",
    "    integers = range(len(df[feature]))\n",
    "    fig = sns.scatterplot(data = df, \n",
    "        x = integers, \n",
    "        y = feature, \n",
    "        hue = feature_2, \n",
    "        style = feature_2)\n",
    " \n",
    "    print(99*\"#\")\n",
    "    quartile_1, quartile_3 = np.percentile(df[feature], [25, 75])\n",
    "    IQR= quartile_3 - quartile_1\n",
    "   \n",
    "    median = np.median(df[feature])\n",
    "    absolute_deviations = np.abs(df[feature] - median)\n",
    "    median_absolute_deviation = np.median(absolute_deviations)\n",
    "    mcv = median_absolute_deviation / median\n",
    "\n",
    "    print(f\"Summary statistics\\n {df[[feature]].describe()}\")\n",
    "    print()\n",
    "    print('Outliers analysis:\\n')\n",
    "    print(f'IQR: {IQR} || (median_abs_deviation): {median_absolute_deviation}|| The Median-based index: {mcv} ')"
   ]
  },
  {
   "cell_type": "code",
   "execution_count": 35,
   "metadata": {},
   "outputs": [],
   "source": [
    "df = pd.read_csv(\"Bobs_df.csv\")\n",
    "df.drop(\"Unnamed: 0\", axis = 1, inplace = True)"
   ]
  },
  {
   "attachments": {},
   "cell_type": "markdown",
   "metadata": {},
   "source": [
    "<h3>Feature Name and Description</h3>\n",
    "\n",
    "**active_customer**: \n",
    "Client activity indicator in our application\n",
    "\n",
    "**age**: \n",
    "Customer age\n",
    "\n",
    "**country_id**: \n",
    "Country of residence of the client\n",
    "\n",
    "**credit_card**: \n",
    "Credit cards\n",
    "\n",
    "**debit_card**: \n",
    "Debit card\n",
    "\n",
    "**deceased**: \n",
    "Deceased index. N/S\n",
    "\n",
    "**em_account_p**: \n",
    "easyMoney+ account\n",
    "\n",
    "**em_account_pp**: \n",
    "easyMoney++ acount\n",
    "\n",
    "**em_acount**: \n",
    "easyMoney account\n",
    "\n",
    "**emc_account**: \n",
    "easyMoney Crypto account\n",
    "\n",
    "**entry_channel**: \n",
    "Customer acquisition channel\n",
    "\n",
    "**entry_date**: \n",
    "Date on which first easyMoney contract was signed\n",
    "\n",
    "**funds**: \n",
    "Investment funds\n",
    "\n",
    "**gender**: \n",
    "Gender\n",
    "\n",
    "**loans**: \n",
    "Loans\n",
    "\n",
    "**long_term_deposit**: \n",
    "Long term deposits\n",
    "\n",
    "**mortgage**: \n",
    "Mortgage\n",
    "\n",
    "**payroll**: \n",
    "payroll\n",
    "\n",
    "**payroll_account**: \n",
    "Account awarded with a bonus due to payroll\n",
    "\n",
    "**pension_plan**: \n",
    "Pension plan\n",
    "\n",
    "**pk_cid**: \n",
    "Customer identifier\n",
    "\n",
    "**pk_partition**: \n",
    "Data ingestion date\n",
    "\n",
    "**region_code**: \n",
    "Customer's province of residence (for ES)\n",
    "\n",
    "**salary**: \n",
    "Household gross income\n",
    "\n",
    "**securities**: \n",
    "Securities\n",
    "\n",
    "**segment**: \n",
    "Customer business segment\n",
    "\n",
    "**short_term_deposit**: \n",
    "Short-term deposits\n"
   ]
  },
  {
   "cell_type": "code",
   "execution_count": 36,
   "metadata": {},
   "outputs": [
    {
     "name": "stdout",
     "output_type": "stream",
     "text": [
      "<class 'pandas.core.frame.DataFrame'>\n",
      "RangeIndex: 5962924 entries, 0 to 5962923\n",
      "Data columns (total 27 columns):\n",
      " #   Column              Dtype  \n",
      "---  ------              -----  \n",
      " 0   pk_cid              int64  \n",
      " 1   pk_partition        object \n",
      " 2   country_id          object \n",
      " 3   region_code         float64\n",
      " 4   gender              object \n",
      " 5   age                 int64  \n",
      " 6   deceased            object \n",
      " 7   salary              float64\n",
      " 8   short_term_deposit  int64  \n",
      " 9   loans               int64  \n",
      " 10  mortgage            int64  \n",
      " 11  funds               int64  \n",
      " 12  securities          int64  \n",
      " 13  long_term_deposit   int64  \n",
      " 14  em_account_pp       int64  \n",
      " 15  credit_card         int64  \n",
      " 16  payroll             float64\n",
      " 17  pension_plan        float64\n",
      " 18  payroll_account     int64  \n",
      " 19  emc_account         int64  \n",
      " 20  debit_card          int64  \n",
      " 21  em_account_p        int64  \n",
      " 22  em_acount           int64  \n",
      " 23  entry_date          object \n",
      " 24  entry_channel       object \n",
      " 25  active_customer     float64\n",
      " 26  segment             object \n",
      "dtypes: float64(5), int64(15), object(7)\n",
      "memory usage: 1.2+ GB\n"
     ]
    }
   ],
   "source": [
    "df.info()"
   ]
  },
  {
   "cell_type": "code",
   "execution_count": 37,
   "metadata": {},
   "outputs": [
    {
     "data": {
      "text/html": [
       "<div>\n",
       "<style scoped>\n",
       "    .dataframe tbody tr th:only-of-type {\n",
       "        vertical-align: middle;\n",
       "    }\n",
       "\n",
       "    .dataframe tbody tr th {\n",
       "        vertical-align: top;\n",
       "    }\n",
       "\n",
       "    .dataframe thead th {\n",
       "        text-align: right;\n",
       "    }\n",
       "</style>\n",
       "<table border=\"1\" class=\"dataframe\">\n",
       "  <thead>\n",
       "    <tr style=\"text-align: right;\">\n",
       "      <th></th>\n",
       "      <th>count</th>\n",
       "      <th>unique</th>\n",
       "      <th>top</th>\n",
       "      <th>freq</th>\n",
       "    </tr>\n",
       "  </thead>\n",
       "  <tbody>\n",
       "    <tr>\n",
       "      <th>pk_partition</th>\n",
       "      <td>5962924</td>\n",
       "      <td>17</td>\n",
       "      <td>2019-05-28</td>\n",
       "      <td>442995</td>\n",
       "    </tr>\n",
       "    <tr>\n",
       "      <th>country_id</th>\n",
       "      <td>5962924</td>\n",
       "      <td>41</td>\n",
       "      <td>ES</td>\n",
       "      <td>5960672</td>\n",
       "    </tr>\n",
       "    <tr>\n",
       "      <th>gender</th>\n",
       "      <td>5962899</td>\n",
       "      <td>2</td>\n",
       "      <td>H</td>\n",
       "      <td>3087502</td>\n",
       "    </tr>\n",
       "    <tr>\n",
       "      <th>deceased</th>\n",
       "      <td>5962924</td>\n",
       "      <td>2</td>\n",
       "      <td>N</td>\n",
       "      <td>5961849</td>\n",
       "    </tr>\n",
       "    <tr>\n",
       "      <th>entry_date</th>\n",
       "      <td>5962924</td>\n",
       "      <td>1499</td>\n",
       "      <td>2017-07-28</td>\n",
       "      <td>57389</td>\n",
       "    </tr>\n",
       "    <tr>\n",
       "      <th>entry_channel</th>\n",
       "      <td>5829891</td>\n",
       "      <td>68</td>\n",
       "      <td>KHE</td>\n",
       "      <td>3113947</td>\n",
       "    </tr>\n",
       "    <tr>\n",
       "      <th>segment</th>\n",
       "      <td>5828980</td>\n",
       "      <td>3</td>\n",
       "      <td>03 - UNIVERSITARIO</td>\n",
       "      <td>3900166</td>\n",
       "    </tr>\n",
       "  </tbody>\n",
       "</table>\n",
       "</div>"
      ],
      "text/plain": [
       "                 count unique                 top     freq\n",
       "pk_partition   5962924     17          2019-05-28   442995\n",
       "country_id     5962924     41                  ES  5960672\n",
       "gender         5962899      2                   H  3087502\n",
       "deceased       5962924      2                   N  5961849\n",
       "entry_date     5962924   1499          2017-07-28    57389\n",
       "entry_channel  5829891     68                 KHE  3113947\n",
       "segment        5828980      3  03 - UNIVERSITARIO  3900166"
      ]
     },
     "execution_count": 37,
     "metadata": {},
     "output_type": "execute_result"
    }
   ],
   "source": [
    "df.describe(include = [\"object\"]).T"
   ]
  },
  {
   "cell_type": "code",
   "execution_count": 38,
   "metadata": {},
   "outputs": [
    {
     "data": {
      "text/html": [
       "<div>\n",
       "<style scoped>\n",
       "    .dataframe tbody tr th:only-of-type {\n",
       "        vertical-align: middle;\n",
       "    }\n",
       "\n",
       "    .dataframe tbody tr th {\n",
       "        vertical-align: top;\n",
       "    }\n",
       "\n",
       "    .dataframe thead th {\n",
       "        text-align: right;\n",
       "    }\n",
       "</style>\n",
       "<table border=\"1\" class=\"dataframe\">\n",
       "  <thead>\n",
       "    <tr style=\"text-align: right;\">\n",
       "      <th></th>\n",
       "      <th>count</th>\n",
       "      <th>mean</th>\n",
       "      <th>std</th>\n",
       "      <th>min</th>\n",
       "      <th>25%</th>\n",
       "      <th>50%</th>\n",
       "      <th>75%</th>\n",
       "      <th>max</th>\n",
       "    </tr>\n",
       "  </thead>\n",
       "  <tbody>\n",
       "    <tr>\n",
       "      <th>pk_cid</th>\n",
       "      <td>5,962,924.00</td>\n",
       "      <td>1,234,929.80</td>\n",
       "      <td>162,302.04</td>\n",
       "      <td>15,891.00</td>\n",
       "      <td>1,112,532.00</td>\n",
       "      <td>1,231,097.00</td>\n",
       "      <td>1,352,339.00</td>\n",
       "      <td>1,553,689.00</td>\n",
       "    </tr>\n",
       "    <tr>\n",
       "      <th>region_code</th>\n",
       "      <td>5,960,660.00</td>\n",
       "      <td>25.81</td>\n",
       "      <td>13.60</td>\n",
       "      <td>1.00</td>\n",
       "      <td>13.00</td>\n",
       "      <td>28.00</td>\n",
       "      <td>36.00</td>\n",
       "      <td>52.00</td>\n",
       "    </tr>\n",
       "    <tr>\n",
       "      <th>age</th>\n",
       "      <td>5,962,924.00</td>\n",
       "      <td>29.76</td>\n",
       "      <td>11.98</td>\n",
       "      <td>2.00</td>\n",
       "      <td>22.00</td>\n",
       "      <td>25.00</td>\n",
       "      <td>34.00</td>\n",
       "      <td>105.00</td>\n",
       "    </tr>\n",
       "    <tr>\n",
       "      <th>salary</th>\n",
       "      <td>4,450,821.00</td>\n",
       "      <td>115,816.72</td>\n",
       "      <td>199,551.89</td>\n",
       "      <td>1,202.73</td>\n",
       "      <td>61,500.63</td>\n",
       "      <td>88,654.65</td>\n",
       "      <td>131,669.91</td>\n",
       "      <td>28,894,395.51</td>\n",
       "    </tr>\n",
       "    <tr>\n",
       "      <th>short_term_deposit</th>\n",
       "      <td>5,962,924.00</td>\n",
       "      <td>0.00</td>\n",
       "      <td>0.05</td>\n",
       "      <td>0.00</td>\n",
       "      <td>0.00</td>\n",
       "      <td>0.00</td>\n",
       "      <td>0.00</td>\n",
       "      <td>1.00</td>\n",
       "    </tr>\n",
       "    <tr>\n",
       "      <th>loans</th>\n",
       "      <td>5,962,924.00</td>\n",
       "      <td>0.00</td>\n",
       "      <td>0.01</td>\n",
       "      <td>0.00</td>\n",
       "      <td>0.00</td>\n",
       "      <td>0.00</td>\n",
       "      <td>0.00</td>\n",
       "      <td>1.00</td>\n",
       "    </tr>\n",
       "    <tr>\n",
       "      <th>mortgage</th>\n",
       "      <td>5,962,924.00</td>\n",
       "      <td>0.00</td>\n",
       "      <td>0.01</td>\n",
       "      <td>0.00</td>\n",
       "      <td>0.00</td>\n",
       "      <td>0.00</td>\n",
       "      <td>0.00</td>\n",
       "      <td>1.00</td>\n",
       "    </tr>\n",
       "    <tr>\n",
       "      <th>funds</th>\n",
       "      <td>5,962,924.00</td>\n",
       "      <td>0.00</td>\n",
       "      <td>0.06</td>\n",
       "      <td>0.00</td>\n",
       "      <td>0.00</td>\n",
       "      <td>0.00</td>\n",
       "      <td>0.00</td>\n",
       "      <td>1.00</td>\n",
       "    </tr>\n",
       "    <tr>\n",
       "      <th>securities</th>\n",
       "      <td>5,962,924.00</td>\n",
       "      <td>0.00</td>\n",
       "      <td>0.06</td>\n",
       "      <td>0.00</td>\n",
       "      <td>0.00</td>\n",
       "      <td>0.00</td>\n",
       "      <td>0.00</td>\n",
       "      <td>1.00</td>\n",
       "    </tr>\n",
       "    <tr>\n",
       "      <th>long_term_deposit</th>\n",
       "      <td>5,962,924.00</td>\n",
       "      <td>0.02</td>\n",
       "      <td>0.13</td>\n",
       "      <td>0.00</td>\n",
       "      <td>0.00</td>\n",
       "      <td>0.00</td>\n",
       "      <td>0.00</td>\n",
       "      <td>1.00</td>\n",
       "    </tr>\n",
       "    <tr>\n",
       "      <th>em_account_pp</th>\n",
       "      <td>5,962,924.00</td>\n",
       "      <td>0.00</td>\n",
       "      <td>0.00</td>\n",
       "      <td>0.00</td>\n",
       "      <td>0.00</td>\n",
       "      <td>0.00</td>\n",
       "      <td>0.00</td>\n",
       "      <td>0.00</td>\n",
       "    </tr>\n",
       "    <tr>\n",
       "      <th>credit_card</th>\n",
       "      <td>5,962,924.00</td>\n",
       "      <td>0.01</td>\n",
       "      <td>0.11</td>\n",
       "      <td>0.00</td>\n",
       "      <td>0.00</td>\n",
       "      <td>0.00</td>\n",
       "      <td>0.00</td>\n",
       "      <td>1.00</td>\n",
       "    </tr>\n",
       "    <tr>\n",
       "      <th>payroll</th>\n",
       "      <td>5,962,863.00</td>\n",
       "      <td>0.03</td>\n",
       "      <td>0.18</td>\n",
       "      <td>0.00</td>\n",
       "      <td>0.00</td>\n",
       "      <td>0.00</td>\n",
       "      <td>0.00</td>\n",
       "      <td>1.00</td>\n",
       "    </tr>\n",
       "    <tr>\n",
       "      <th>pension_plan</th>\n",
       "      <td>5,962,863.00</td>\n",
       "      <td>0.04</td>\n",
       "      <td>0.19</td>\n",
       "      <td>0.00</td>\n",
       "      <td>0.00</td>\n",
       "      <td>0.00</td>\n",
       "      <td>0.00</td>\n",
       "      <td>1.00</td>\n",
       "    </tr>\n",
       "    <tr>\n",
       "      <th>payroll_account</th>\n",
       "      <td>5,962,924.00</td>\n",
       "      <td>0.06</td>\n",
       "      <td>0.23</td>\n",
       "      <td>0.00</td>\n",
       "      <td>0.00</td>\n",
       "      <td>0.00</td>\n",
       "      <td>0.00</td>\n",
       "      <td>1.00</td>\n",
       "    </tr>\n",
       "    <tr>\n",
       "      <th>emc_account</th>\n",
       "      <td>5,962,924.00</td>\n",
       "      <td>0.05</td>\n",
       "      <td>0.23</td>\n",
       "      <td>0.00</td>\n",
       "      <td>0.00</td>\n",
       "      <td>0.00</td>\n",
       "      <td>0.00</td>\n",
       "      <td>1.00</td>\n",
       "    </tr>\n",
       "    <tr>\n",
       "      <th>debit_card</th>\n",
       "      <td>5,962,924.00</td>\n",
       "      <td>0.09</td>\n",
       "      <td>0.29</td>\n",
       "      <td>0.00</td>\n",
       "      <td>0.00</td>\n",
       "      <td>0.00</td>\n",
       "      <td>0.00</td>\n",
       "      <td>1.00</td>\n",
       "    </tr>\n",
       "    <tr>\n",
       "      <th>em_account_p</th>\n",
       "      <td>5,962,924.00</td>\n",
       "      <td>0.00</td>\n",
       "      <td>0.00</td>\n",
       "      <td>0.00</td>\n",
       "      <td>0.00</td>\n",
       "      <td>0.00</td>\n",
       "      <td>0.00</td>\n",
       "      <td>1.00</td>\n",
       "    </tr>\n",
       "    <tr>\n",
       "      <th>em_acount</th>\n",
       "      <td>5,962,924.00</td>\n",
       "      <td>0.73</td>\n",
       "      <td>0.44</td>\n",
       "      <td>0.00</td>\n",
       "      <td>0.00</td>\n",
       "      <td>1.00</td>\n",
       "      <td>1.00</td>\n",
       "      <td>1.00</td>\n",
       "    </tr>\n",
       "    <tr>\n",
       "      <th>active_customer</th>\n",
       "      <td>5,962,924.00</td>\n",
       "      <td>0.40</td>\n",
       "      <td>0.49</td>\n",
       "      <td>0.00</td>\n",
       "      <td>0.00</td>\n",
       "      <td>0.00</td>\n",
       "      <td>1.00</td>\n",
       "      <td>1.00</td>\n",
       "    </tr>\n",
       "  </tbody>\n",
       "</table>\n",
       "</div>"
      ],
      "text/plain": [
       "                          count         mean        std       min  \\\n",
       "pk_cid             5,962,924.00 1,234,929.80 162,302.04 15,891.00   \n",
       "region_code        5,960,660.00        25.81      13.60      1.00   \n",
       "age                5,962,924.00        29.76      11.98      2.00   \n",
       "salary             4,450,821.00   115,816.72 199,551.89  1,202.73   \n",
       "short_term_deposit 5,962,924.00         0.00       0.05      0.00   \n",
       "loans              5,962,924.00         0.00       0.01      0.00   \n",
       "mortgage           5,962,924.00         0.00       0.01      0.00   \n",
       "funds              5,962,924.00         0.00       0.06      0.00   \n",
       "securities         5,962,924.00         0.00       0.06      0.00   \n",
       "long_term_deposit  5,962,924.00         0.02       0.13      0.00   \n",
       "em_account_pp      5,962,924.00         0.00       0.00      0.00   \n",
       "credit_card        5,962,924.00         0.01       0.11      0.00   \n",
       "payroll            5,962,863.00         0.03       0.18      0.00   \n",
       "pension_plan       5,962,863.00         0.04       0.19      0.00   \n",
       "payroll_account    5,962,924.00         0.06       0.23      0.00   \n",
       "emc_account        5,962,924.00         0.05       0.23      0.00   \n",
       "debit_card         5,962,924.00         0.09       0.29      0.00   \n",
       "em_account_p       5,962,924.00         0.00       0.00      0.00   \n",
       "em_acount          5,962,924.00         0.73       0.44      0.00   \n",
       "active_customer    5,962,924.00         0.40       0.49      0.00   \n",
       "\n",
       "                            25%          50%          75%           max  \n",
       "pk_cid             1,112,532.00 1,231,097.00 1,352,339.00  1,553,689.00  \n",
       "region_code               13.00        28.00        36.00         52.00  \n",
       "age                       22.00        25.00        34.00        105.00  \n",
       "salary                61,500.63    88,654.65   131,669.91 28,894,395.51  \n",
       "short_term_deposit         0.00         0.00         0.00          1.00  \n",
       "loans                      0.00         0.00         0.00          1.00  \n",
       "mortgage                   0.00         0.00         0.00          1.00  \n",
       "funds                      0.00         0.00         0.00          1.00  \n",
       "securities                 0.00         0.00         0.00          1.00  \n",
       "long_term_deposit          0.00         0.00         0.00          1.00  \n",
       "em_account_pp              0.00         0.00         0.00          0.00  \n",
       "credit_card                0.00         0.00         0.00          1.00  \n",
       "payroll                    0.00         0.00         0.00          1.00  \n",
       "pension_plan               0.00         0.00         0.00          1.00  \n",
       "payroll_account            0.00         0.00         0.00          1.00  \n",
       "emc_account                0.00         0.00         0.00          1.00  \n",
       "debit_card                 0.00         0.00         0.00          1.00  \n",
       "em_account_p               0.00         0.00         0.00          1.00  \n",
       "em_acount                  0.00         1.00         1.00          1.00  \n",
       "active_customer            0.00         0.00         1.00          1.00  "
      ]
     },
     "execution_count": 38,
     "metadata": {},
     "output_type": "execute_result"
    }
   ],
   "source": [
    "df.describe(include = np.number).T"
   ]
  },
  {
   "cell_type": "code",
   "execution_count": 39,
   "metadata": {},
   "outputs": [
    {
     "name": "stdout",
     "output_type": "stream",
     "text": [
      "df[\"region_code\"] - Total values: 5962924, Missing values: 2264 (0.04%)\n",
      "df[\"gender\"] - Total values: 5962924, Missing values: 25 (0.0%)\n",
      "df[\"salary\"] - Total values: 5962924, Missing values: 1512103 (25.36%)\n",
      "df[\"payroll\"] - Total values: 5962924, Missing values: 61 (0.0%)\n",
      "df[\"pension_plan\"] - Total values: 5962924, Missing values: 61 (0.0%)\n",
      "df[\"entry_channel\"] - Total values: 5962924, Missing values: 133033 (2.23%)\n",
      "df[\"segment\"] - Total values: 5962924, Missing values: 133944 (2.25%)\n"
     ]
    }
   ],
   "source": [
    "missing_summary(df)"
   ]
  },
  {
   "cell_type": "code",
   "execution_count": 40,
   "metadata": {},
   "outputs": [
    {
     "name": "stdout",
     "output_type": "stream",
     "text": [
      "df[\"pk_partition\"] contains 17 unique values.\n",
      "df[\"country_id\"] contains 41 unique values.\n",
      "df[\"gender\"] contains 3 unique values.\n",
      "df[\"deceased\"] contains 2 unique values.\n",
      "df[\"entry_date\"] contains 1499 unique values.\n",
      "df[\"entry_channel\"] contains 69 unique values.\n",
      "df[\"segment\"] contains 4 unique values.\n"
     ]
    }
   ],
   "source": [
    "categorical_counter(df)"
   ]
  },
  {
   "cell_type": "code",
   "execution_count": 41,
   "metadata": {},
   "outputs": [
    {
     "data": {
      "text/plain": [
       "1    3087502\n",
       "0    2875422\n",
       "Name: Male, dtype: int64"
      ]
     },
     "execution_count": 41,
     "metadata": {},
     "output_type": "execute_result"
    }
   ],
   "source": [
    "## we have 25 cases without gender. we'll just make them female for now\n",
    "df = df.rename(columns = { \"gender\": \"Male\" })\n",
    "df[\"Male\"] = df[\"Male\"].map(lambda x: 1 if x == \"H\" else 0)\n",
    "\n",
    "df[\"Male\"].value_counts()"
   ]
  },
  {
   "cell_type": "code",
   "execution_count": 42,
   "metadata": {},
   "outputs": [
    {
     "data": {
      "text/plain": [
       "0    5961849\n",
       "1       1075\n",
       "Name: deceased, dtype: int64"
      ]
     },
     "execution_count": 42,
     "metadata": {},
     "output_type": "execute_result"
    }
   ],
   "source": [
    "df[\"deceased\"] = df[\"deceased\"].map(lambda x: 1 if x == \"S\" else 0)\n",
    "df[\"deceased\"].value_counts()"
   ]
  },
  {
   "cell_type": "code",
   "execution_count": 43,
   "metadata": {},
   "outputs": [],
   "source": [
    "df[\"pk_partition\"] = pd.to_datetime(df[\"pk_partition\"])\n",
    "df[\"entry_date\"] = pd.to_datetime(df[\"entry_date\"], errors='coerce')\n",
    "df[\"entry_date\"] = df[\"entry_date\"].where(df[\"entry_date\"].notna(), df[\"entry_date\"].dt.floor(\"d\") - pd.DateOffset(days = 1))"
   ]
  },
  {
   "cell_type": "code",
   "execution_count": 44,
   "metadata": {},
   "outputs": [
    {
     "name": "stdout",
     "output_type": "stream",
     "text": [
      "<class 'pandas.core.frame.DataFrame'>\n",
      "RangeIndex: 5962924 entries, 0 to 5962923\n",
      "Data columns (total 27 columns):\n",
      " #   Column              Dtype         \n",
      "---  ------              -----         \n",
      " 0   pk_cid              int64         \n",
      " 1   pk_partition        datetime64[ns]\n",
      " 2   country_id          object        \n",
      " 3   region_code         float64       \n",
      " 4   Male                int64         \n",
      " 5   age                 int64         \n",
      " 6   deceased            int64         \n",
      " 7   salary              float64       \n",
      " 8   short_term_deposit  int64         \n",
      " 9   loans               int64         \n",
      " 10  mortgage            int64         \n",
      " 11  funds               int64         \n",
      " 12  securities          int64         \n",
      " 13  long_term_deposit   int64         \n",
      " 14  em_account_pp       int64         \n",
      " 15  credit_card         int64         \n",
      " 16  payroll             float64       \n",
      " 17  pension_plan        float64       \n",
      " 18  payroll_account     int64         \n",
      " 19  emc_account         int64         \n",
      " 20  debit_card          int64         \n",
      " 21  em_account_p        int64         \n",
      " 22  em_acount           int64         \n",
      " 23  entry_date          datetime64[ns]\n",
      " 24  entry_channel       object        \n",
      " 25  active_customer     float64       \n",
      " 26  segment             object        \n",
      "dtypes: datetime64[ns](2), float64(5), int64(17), object(3)\n",
      "memory usage: 1.2+ GB\n"
     ]
    }
   ],
   "source": [
    "df.info()"
   ]
  },
  {
   "cell_type": "code",
   "execution_count": 45,
   "metadata": {},
   "outputs": [],
   "source": [
    "df[\"pk_cid\"] = df[\"pk_cid\"].astype(str)\n",
    "df[\"region_code\"] = df[\"region_code\"].astype(str)"
   ]
  },
  {
   "cell_type": "code",
   "execution_count": 46,
   "metadata": {},
   "outputs": [
    {
     "data": {
      "text/plain": [
       "<AxesSubplot:title={'center':'Number of new registrations over time'}, xlabel='entry_date'>"
      ]
     },
     "execution_count": 46,
     "metadata": {},
     "output_type": "execute_result"
    },
    {
     "data": {
      "image/png": "[encoded data removed]",
      "text/plain": [
       "<Figure size 1500x500 with 1 Axes>"
      ]
     },
     "metadata": {},
     "output_type": "display_data"
    }
   ],
   "source": [
    "df.groupby(\"entry_date\").agg({\"pk_cid\": \"count\"}).plot(figsize = (15, 5), title = \"Number of new registrations over time\")"
   ]
  },
  {
   "cell_type": "code",
   "execution_count": 47,
   "metadata": {},
   "outputs": [
    {
     "data": {
      "text/plain": [
       "<AxesSubplot:title={'center':'Customer growth over time'}, xlabel='pk_partition'>"
      ]
     },
     "execution_count": 47,
     "metadata": {},
     "output_type": "execute_result"
    },
    {
     "data": {
      "image/png": "[encoded data removed]",
      "text/plain": [
       "<Figure size 1500x500 with 1 Axes>"
      ]
     },
     "metadata": {},
     "output_type": "display_data"
    }
   ],
   "source": [
    "df.groupby(\"pk_partition\").agg({\"pk_cid\": \"count\"}).plot(figsize = (15, 5), title = \"Customer growth over time\")"
   ]
  },
  {
   "cell_type": "code",
   "execution_count": 48,
   "metadata": {},
   "outputs": [
    {
     "data": {
      "text/plain": [
       "<AxesSubplot:title={'center':'Distribution of age'}, ylabel='Frequency'>"
      ]
     },
     "execution_count": 48,
     "metadata": {},
     "output_type": "execute_result"
    },
    {
     "data": {
      "image/png": "[encoded data removed]",
      "text/plain": [
       "<Figure size 1500x500 with 1 Axes>"
      ]
     },
     "metadata": {},
     "output_type": "display_data"
    }
   ],
   "source": [
    "df[\"age\"].plot(kind = \"hist\", bins = 100, figsize = (15, 5), title = \"Distribution of age\")"
   ]
  },
  {
   "cell_type": "code",
   "execution_count": 49,
   "metadata": {},
   "outputs": [],
   "source": [
    "unique_values = df.nunique()\n",
    "binary_features = unique_values[unique_values < 4].index.tolist()"
   ]
  },
  {
   "cell_type": "code",
   "execution_count": 50,
   "metadata": {},
   "outputs": [
    {
     "data": {
      "image/png": "[encoded data removed]",
      "text/plain": [
       "<Figure size 800x1000 with 18 Axes>"
      ]
     },
     "metadata": {},
     "output_type": "display_data"
    }
   ],
   "source": [
    "unique_values = df.nunique()\n",
    "binary_features = unique_values[unique_values == 2].index.tolist()\n",
    "n_features = len(binary_features)\n",
    "rows = (n_features // 3) + (n_features % 3 != 0)\n",
    "cols = 3\n",
    "fig, ax = plt.subplots(rows, cols, figsize = (8, 10), sharey=True)\n",
    "\n",
    "if rows > 1:\n",
    "    ax = ax.flatten()\n",
    "for i, column in enumerate(binary_features):\n",
    "    df[column].plot(kind = \"hist\", ax=ax[i], title = column)\n",
    "    ax[i].set_xticks([0, 1])\n",
    "\n",
    "plt.tight_layout()\n",
    "plt.show()"
   ]
  },
  {
   "cell_type": "code",
   "execution_count": 51,
   "metadata": {},
   "outputs": [
    {
     "name": "stdout",
     "output_type": "stream",
     "text": [
      "df[\"pk_cid\"] contains 456373 unique values.\n",
      "df[\"pk_partition\"] contains 17 unique values.\n",
      "df[\"country_id\"] contains 41 unique values.\n",
      "df[\"region_code\"] contains 53 unique values.\n",
      "df[\"entry_date\"] contains 1498 unique values.\n",
      "df[\"entry_channel\"] contains 69 unique values.\n",
      "df[\"segment\"] contains 4 unique values.\n"
     ]
    }
   ],
   "source": [
    "categorical_counter(df)"
   ]
  },
  {
   "cell_type": "code",
   "execution_count": 96,
   "metadata": {},
   "outputs": [],
   "source": [
    "def four_feature_scatterer(data, cat, x, y, size, title = \"Title\"):\n",
    "\n",
    "    vis = data.groupby([cat])[x, y, size].median().sort_values(by = y, ascending = False)\n",
    "\n",
    "    fig = px.scatter(vis, x = x, y = y, color = vis.index, size = size)\n",
    "    fig.update_layout(\n",
    "        barmode = \"overlay\",\n",
    "        title = {\n",
    "            \"text\": \"<b>\" + title + \"</b>\",\n",
    "            \"x\": 0.5,\n",
    "            \"xanchor\": \"center\"},      \n",
    "        height = 600)\n",
    "    fig.show()\n",
    "    fig.show(\"png\")"
   ]
  },
  {
   "cell_type": "code",
   "execution_count": 97,
   "metadata": {},
   "outputs": [
    {
     "data": {
      "application/vnd.plotly.v1+json": {
       "config": {
        "plotlyServerURL": "https://plot.ly"
       },
       "data": [
        {
         "hovertemplate": "entry_channel=004<br>salary=%{x}<br>age=%{y}<br>Male=%{marker.size}<extra></extra>",
         "legendgroup": "004",
         "marker": {
          "color": "#636efa",
          "size": [
           1
          ],
          "sizemode": "area",
          "sizeref": 0.0025,
          "symbol": "circle"
         },
         "mode": "markers",
         "name": "004",
         "orientation": "v",
         "showlegend": true,
         "type": "scatter",
         "x": [
          402884.04
         ],
         "xaxis": "x",
         "y": [
          88
         ],
         "yaxis": "y"
        },
        {
         "hovertemplate": "entry_channel=KGX<br>salary=%{x}<br>age=%{y}<br>Male=%{marker.size}<extra></extra>",
         "legendgroup": "KGX",
         "marker": {
          "color": "#EF553B",
          "size": [
           1
          ],
          "sizemode": "area",
          "sizeref": 0.0025,
          "symbol": "circle"
         },
         "mode": "markers",
         "name": "KGX",
         "orientation": "v",
         "showlegend": true,
         "type": "scatter",
         "x": [
          73322.43000000001
         ],
         "xaxis": "x",
         "y": [
          88
         ],
         "yaxis": "y"
        },
        {
         "hovertemplate": "entry_channel=KFF<br>salary=%{x}<br>age=%{y}<br>Male=%{marker.size}<extra></extra>",
         "legendgroup": "KFF",
         "marker": {
          "color": "#00cc96",
          "size": [
           1
          ],
          "sizemode": "area",
          "sizeref": 0.0025,
          "symbol": "circle"
         },
         "mode": "markers",
         "name": "KFF",
         "orientation": "v",
         "showlegend": true,
         "type": "scatter",
         "x": [
          148900.665
         ],
         "xaxis": "x",
         "y": [
          83.5
         ],
         "yaxis": "y"
        },
        {
         "hovertemplate": "entry_channel=007<br>salary=%{x}<br>age=%{y}<br>Male=%{marker.size}<extra></extra>",
         "legendgroup": "007",
         "marker": {
          "color": "#ab63fa",
          "size": [
           1
          ],
          "sizemode": "area",
          "sizeref": 0.0025,
          "symbol": "circle"
         },
         "mode": "markers",
         "name": "007",
         "orientation": "v",
         "showlegend": true,
         "type": "scatter",
         "x": [
          118168.65
         ],
         "xaxis": "x",
         "y": [
          68
         ],
         "yaxis": "y"
        },
        {
         "hovertemplate": "entry_channel=KAG<br>salary=%{x}<br>age=%{y}<br>Male=%{marker.size}<extra></extra>",
         "legendgroup": "KAG",
         "marker": {
          "color": "#FFA15A",
          "size": [
           1
          ],
          "sizemode": "area",
          "sizeref": 0.0025,
          "symbol": "circle"
         },
         "mode": "markers",
         "name": "KAG",
         "orientation": "v",
         "showlegend": true,
         "type": "scatter",
         "x": [
          127056.81
         ],
         "xaxis": "x",
         "y": [
          62
         ],
         "yaxis": "y"
        },
        {
         "hovertemplate": "entry_channel=KCI<br>salary=%{x}<br>age=%{y}<br>Male=%{marker.size}<extra></extra>",
         "legendgroup": "KCI",
         "marker": {
          "color": "#19d3f3",
          "size": [
           1
          ],
          "sizemode": "area",
          "sizeref": 0.0025,
          "symbol": "circle"
         },
         "mode": "markers",
         "name": "KCI",
         "orientation": "v",
         "showlegend": true,
         "type": "scatter",
         "x": [
          170924.79
         ],
         "xaxis": "x",
         "y": [
          59
         ],
         "yaxis": "y"
        },
        {
         "hovertemplate": "entry_channel=KCB<br>salary=%{x}<br>age=%{y}<br>Male=%{marker.size}<extra></extra>",
         "legendgroup": "KCB",
         "marker": {
          "color": "#FF6692",
          "size": [
           1
          ],
          "sizemode": "area",
          "sizeref": 0.0025,
          "symbol": "circle"
         },
         "mode": "markers",
         "name": "KCB",
         "orientation": "v",
         "showlegend": true,
         "type": "scatter",
         "x": [
          78500.1
         ],
         "xaxis": "x",
         "y": [
          59
         ],
         "yaxis": "y"
        },
        {
         "hovertemplate": "entry_channel=KAW<br>salary=%{x}<br>age=%{y}<br>Male=%{marker.size}<extra></extra>",
         "legendgroup": "KAW",
         "marker": {
          "color": "#B6E880",
          "size": [
           1
          ],
          "sizemode": "area",
          "sizeref": 0.0025,
          "symbol": "circle"
         },
         "mode": "markers",
         "name": "KAW",
         "orientation": "v",
         "showlegend": true,
         "type": "scatter",
         "x": [
          137379.21
         ],
         "xaxis": "x",
         "y": [
          57
         ],
         "yaxis": "y"
        },
        {
         "hovertemplate": "entry_channel=KDA<br>salary=%{x}<br>age=%{y}<br>Male=%{marker.size}<extra></extra>",
         "legendgroup": "KDA",
         "marker": {
          "color": "#FF97FF",
          "size": [
           1
          ],
          "sizemode": "area",
          "sizeref": 0.0025,
          "symbol": "circle"
         },
         "mode": "markers",
         "name": "KDA",
         "orientation": "v",
         "showlegend": true,
         "type": "scatter",
         "x": [
          118381.38
         ],
         "xaxis": "x",
         "y": [
          57
         ],
         "yaxis": "y"
        },
        {
         "hovertemplate": "entry_channel=KBU<br>salary=%{x}<br>age=%{y}<br>Male=%{marker.size}<extra></extra>",
         "legendgroup": "KBU",
         "marker": {
          "color": "#FECB52",
          "size": [
           1
          ],
          "sizemode": "area",
          "sizeref": 0.0025,
          "symbol": "circle"
         },
         "mode": "markers",
         "name": "KBU",
         "orientation": "v",
         "showlegend": true,
         "type": "scatter",
         "x": [
          103777.65
         ],
         "xaxis": "x",
         "y": [
          57
         ],
         "yaxis": "y"
        },
        {
         "hovertemplate": "entry_channel=KFD<br>salary=%{x}<br>age=%{y}<br>Male=%{marker.size}<extra></extra>",
         "legendgroup": "KFD",
         "marker": {
          "color": "#636efa",
          "size": [
           1
          ],
          "sizemode": "area",
          "sizeref": 0.0025,
          "symbol": "circle"
         },
         "mode": "markers",
         "name": "KFD",
         "orientation": "v",
         "showlegend": true,
         "type": "scatter",
         "x": [
          107079.42
         ],
         "xaxis": "x",
         "y": [
          56
         ],
         "yaxis": "y"
        },
        {
         "hovertemplate": "entry_channel=KAH<br>salary=%{x}<br>age=%{y}<br>Male=%{marker.size}<extra></extra>",
         "legendgroup": "KAH",
         "marker": {
          "color": "#EF553B",
          "size": [
           0
          ],
          "sizemode": "area",
          "sizeref": 0.0025,
          "symbol": "circle"
         },
         "mode": "markers",
         "name": "KAH",
         "orientation": "v",
         "showlegend": true,
         "type": "scatter",
         "x": [
          88217.85
         ],
         "xaxis": "x",
         "y": [
          55
         ],
         "yaxis": "y"
        },
        {
         "hovertemplate": "entry_channel=KBZ<br>salary=%{x}<br>age=%{y}<br>Male=%{marker.size}<extra></extra>",
         "legendgroup": "KBZ",
         "marker": {
          "color": "#00cc96",
          "size": [
           1
          ],
          "sizemode": "area",
          "sizeref": 0.0025,
          "symbol": "circle"
         },
         "mode": "markers",
         "name": "KBZ",
         "orientation": "v",
         "showlegend": true,
         "type": "scatter",
         "x": [
          200331.54
         ],
         "xaxis": "x",
         "y": [
          55
         ],
         "yaxis": "y"
        },
        {
         "hovertemplate": "entry_channel=KAR<br>salary=%{x}<br>age=%{y}<br>Male=%{marker.size}<extra></extra>",
         "legendgroup": "KAR",
         "marker": {
          "color": "#ab63fa",
          "size": [
           1
          ],
          "sizemode": "area",
          "sizeref": 0.0025,
          "symbol": "circle"
         },
         "mode": "markers",
         "name": "KAR",
         "orientation": "v",
         "showlegend": true,
         "type": "scatter",
         "x": [
          152779.74
         ],
         "xaxis": "x",
         "y": [
          54
         ],
         "yaxis": "y"
        },
        {
         "hovertemplate": "entry_channel=KAS<br>salary=%{x}<br>age=%{y}<br>Male=%{marker.size}<extra></extra>",
         "legendgroup": "KAS",
         "marker": {
          "color": "#FFA15A",
          "size": [
           1
          ],
          "sizemode": "area",
          "sizeref": 0.0025,
          "symbol": "circle"
         },
         "mode": "markers",
         "name": "KAS",
         "orientation": "v",
         "showlegend": true,
         "type": "scatter",
         "x": [
          161925.38999999998
         ],
         "xaxis": "x",
         "y": [
          54
         ],
         "yaxis": "y"
        },
        {
         "hovertemplate": "entry_channel=KAE<br>salary=%{x}<br>age=%{y}<br>Male=%{marker.size}<extra></extra>",
         "legendgroup": "KAE",
         "marker": {
          "color": "#19d3f3",
          "size": [
           1
          ],
          "sizemode": "area",
          "sizeref": 0.0025,
          "symbol": "circle"
         },
         "mode": "markers",
         "name": "KAE",
         "orientation": "v",
         "showlegend": true,
         "type": "scatter",
         "x": [
          47857.26
         ],
         "xaxis": "x",
         "y": [
          53.5
         ],
         "yaxis": "y"
        },
        {
         "hovertemplate": "entry_channel=KAB<br>salary=%{x}<br>age=%{y}<br>Male=%{marker.size}<extra></extra>",
         "legendgroup": "KAB",
         "marker": {
          "color": "#FF6692",
          "size": [
           1
          ],
          "sizemode": "area",
          "sizeref": 0.0025,
          "symbol": "circle"
         },
         "mode": "markers",
         "name": "KAB",
         "orientation": "v",
         "showlegend": true,
         "type": "scatter",
         "x": [
          181238.76
         ],
         "xaxis": "x",
         "y": [
          53
         ],
         "yaxis": "y"
        },
        {
         "hovertemplate": "entry_channel=KCC<br>salary=%{x}<br>age=%{y}<br>Male=%{marker.size}<extra></extra>",
         "legendgroup": "KCC",
         "marker": {
          "color": "#B6E880",
          "size": [
           1
          ],
          "sizemode": "area",
          "sizeref": 0.0025,
          "symbol": "circle"
         },
         "mode": "markers",
         "name": "KCC",
         "orientation": "v",
         "showlegend": true,
         "type": "scatter",
         "x": [
          115332.87
         ],
         "xaxis": "x",
         "y": [
          53
         ],
         "yaxis": "y"
        },
        {
         "hovertemplate": "entry_channel=KBW<br>salary=%{x}<br>age=%{y}<br>Male=%{marker.size}<extra></extra>",
         "legendgroup": "KBW",
         "marker": {
          "color": "#FF97FF",
          "size": [
           1
          ],
          "sizemode": "area",
          "sizeref": 0.0025,
          "symbol": "circle"
         },
         "mode": "markers",
         "name": "KBW",
         "orientation": "v",
         "showlegend": true,
         "type": "scatter",
         "x": [
          116140.62
         ],
         "xaxis": "x",
         "y": [
          53
         ],
         "yaxis": "y"
        },
        {
         "hovertemplate": "entry_channel=KAK<br>salary=%{x}<br>age=%{y}<br>Male=%{marker.size}<extra></extra>",
         "legendgroup": "KAK",
         "marker": {
          "color": "#FECB52",
          "size": [
           1
          ],
          "sizemode": "area",
          "sizeref": 0.0025,
          "symbol": "circle"
         },
         "mode": "markers",
         "name": "KAK",
         "orientation": "v",
         "showlegend": true,
         "type": "scatter",
         "x": [
          88036.62
         ],
         "xaxis": "x",
         "y": [
          52.5
         ],
         "yaxis": "y"
        },
        {
         "hovertemplate": "entry_channel=KCK<br>salary=%{x}<br>age=%{y}<br>Male=%{marker.size}<extra></extra>",
         "legendgroup": "KCK",
         "marker": {
          "color": "#636efa",
          "size": [
           1
          ],
          "sizemode": "area",
          "sizeref": 0.0025,
          "symbol": "circle"
         },
         "mode": "markers",
         "name": "KCK",
         "orientation": "v",
         "showlegend": true,
         "type": "scatter",
         "x": [
          121974
         ],
         "xaxis": "x",
         "y": [
          52
         ],
         "yaxis": "y"
        },
        {
         "hovertemplate": "entry_channel=KAJ<br>salary=%{x}<br>age=%{y}<br>Male=%{marker.size}<extra></extra>",
         "legendgroup": "KAJ",
         "marker": {
          "color": "#EF553B",
          "size": [
           1
          ],
          "sizemode": "area",
          "sizeref": 0.0025,
          "symbol": "circle"
         },
         "mode": "markers",
         "name": "KAJ",
         "orientation": "v",
         "showlegend": true,
         "type": "scatter",
         "x": [
          104904.63
         ],
         "xaxis": "x",
         "y": [
          52
         ],
         "yaxis": "y"
        },
        {
         "hovertemplate": "entry_channel=KBH<br>salary=%{x}<br>age=%{y}<br>Male=%{marker.size}<extra></extra>",
         "legendgroup": "KBH",
         "marker": {
          "color": "#00cc96",
          "size": [
           1
          ],
          "sizemode": "area",
          "sizeref": 0.0025,
          "symbol": "circle"
         },
         "mode": "markers",
         "name": "KBH",
         "orientation": "v",
         "showlegend": true,
         "type": "scatter",
         "x": [
          365769.87
         ],
         "xaxis": "x",
         "y": [
          52
         ],
         "yaxis": "y"
        },
        {
         "hovertemplate": "entry_channel=KAM<br>salary=%{x}<br>age=%{y}<br>Male=%{marker.size}<extra></extra>",
         "legendgroup": "KAM",
         "marker": {
          "color": "#ab63fa",
          "size": [
           1
          ],
          "sizemode": "area",
          "sizeref": 0.0025,
          "symbol": "circle"
         },
         "mode": "markers",
         "name": "KAM",
         "orientation": "v",
         "showlegend": true,
         "type": "scatter",
         "x": [
          117517.62
         ],
         "xaxis": "x",
         "y": [
          51
         ],
         "yaxis": "y"
        },
        {
         "hovertemplate": "entry_channel=KAF<br>salary=%{x}<br>age=%{y}<br>Male=%{marker.size}<extra></extra>",
         "legendgroup": "KAF",
         "marker": {
          "color": "#FFA15A",
          "size": [
           1
          ],
          "sizemode": "area",
          "sizeref": 0.0025,
          "symbol": "circle"
         },
         "mode": "markers",
         "name": "KAF",
         "orientation": "v",
         "showlegend": true,
         "type": "scatter",
         "x": [
          99812.76
         ],
         "xaxis": "x",
         "y": [
          50
         ],
         "yaxis": "y"
        },
        {
         "hovertemplate": "entry_channel=KBO<br>salary=%{x}<br>age=%{y}<br>Male=%{marker.size}<extra></extra>",
         "legendgroup": "KBO",
         "marker": {
          "color": "#19d3f3",
          "size": [
           1
          ],
          "sizemode": "area",
          "sizeref": 0.0025,
          "symbol": "circle"
         },
         "mode": "markers",
         "name": "KBO",
         "orientation": "v",
         "showlegend": true,
         "type": "scatter",
         "x": [
          83704.44
         ],
         "xaxis": "x",
         "y": [
          50
         ],
         "yaxis": "y"
        },
        {
         "hovertemplate": "entry_channel=KAQ<br>salary=%{x}<br>age=%{y}<br>Male=%{marker.size}<extra></extra>",
         "legendgroup": "KAQ",
         "marker": {
          "color": "#FF6692",
          "size": [
           1
          ],
          "sizemode": "area",
          "sizeref": 0.0025,
          "symbol": "circle"
         },
         "mode": "markers",
         "name": "KAQ",
         "orientation": "v",
         "showlegend": true,
         "type": "scatter",
         "x": [
          79654.62
         ],
         "xaxis": "x",
         "y": [
          50
         ],
         "yaxis": "y"
        },
        {
         "hovertemplate": "entry_channel=KCH<br>salary=%{x}<br>age=%{y}<br>Male=%{marker.size}<extra></extra>",
         "legendgroup": "KCH",
         "marker": {
          "color": "#B6E880",
          "size": [
           1
          ],
          "sizemode": "area",
          "sizeref": 0.0025,
          "symbol": "circle"
         },
         "mode": "markers",
         "name": "KCH",
         "orientation": "v",
         "showlegend": true,
         "type": "scatter",
         "x": [
          120678.51
         ],
         "xaxis": "x",
         "y": [
          49
         ],
         "yaxis": "y"
        },
        {
         "hovertemplate": "entry_channel=KBE<br>salary=%{x}<br>age=%{y}<br>Male=%{marker.size}<extra></extra>",
         "legendgroup": "KBE",
         "marker": {
          "color": "#FF97FF",
          "size": [
           1
          ],
          "sizemode": "area",
          "sizeref": 0.0025,
          "symbol": "circle"
         },
         "mode": "markers",
         "name": "KBE",
         "orientation": "v",
         "showlegend": true,
         "type": "scatter",
         "x": [
          138581.63999999998
         ],
         "xaxis": "x",
         "y": [
          49
         ],
         "yaxis": "y"
        },
        {
         "hovertemplate": "entry_channel=013<br>salary=%{x}<br>age=%{y}<br>Male=%{marker.size}<extra></extra>",
         "legendgroup": "013",
         "marker": {
          "color": "#FECB52",
          "size": [
           1
          ],
          "sizemode": "area",
          "sizeref": 0.0025,
          "symbol": "circle"
         },
         "mode": "markers",
         "name": "013",
         "orientation": "v",
         "showlegend": true,
         "type": "scatter",
         "x": [
          141897.36000000002
         ],
         "xaxis": "x",
         "y": [
          47
         ],
         "yaxis": "y"
        },
        {
         "hovertemplate": "entry_channel=KAY<br>salary=%{x}<br>age=%{y}<br>Male=%{marker.size}<extra></extra>",
         "legendgroup": "KAY",
         "marker": {
          "color": "#636efa",
          "size": [
           1
          ],
          "sizemode": "area",
          "sizeref": 0.0025,
          "symbol": "circle"
         },
         "mode": "markers",
         "name": "KAY",
         "orientation": "v",
         "showlegend": true,
         "type": "scatter",
         "x": [
          61763.06999999999
         ],
         "xaxis": "x",
         "y": [
          47
         ],
         "yaxis": "y"
        },
        {
         "hovertemplate": "entry_channel=KAA<br>salary=%{x}<br>age=%{y}<br>Male=%{marker.size}<extra></extra>",
         "legendgroup": "KAA",
         "marker": {
          "color": "#EF553B",
          "size": [
           1
          ],
          "sizemode": "area",
          "sizeref": 0.0025,
          "symbol": "circle"
         },
         "mode": "markers",
         "name": "KAA",
         "orientation": "v",
         "showlegend": true,
         "type": "scatter",
         "x": [
          153041.97
         ],
         "xaxis": "x",
         "y": [
          47
         ],
         "yaxis": "y"
        },
        {
         "hovertemplate": "entry_channel=KDT<br>salary=%{x}<br>age=%{y}<br>Male=%{marker.size}<extra></extra>",
         "legendgroup": "KDT",
         "marker": {
          "color": "#00cc96",
          "size": [
           1
          ],
          "sizemode": "area",
          "sizeref": 0.0025,
          "symbol": "circle"
         },
         "mode": "markers",
         "name": "KDT",
         "orientation": "v",
         "showlegend": true,
         "type": "scatter",
         "x": [
          103704.75
         ],
         "xaxis": "x",
         "y": [
          46
         ],
         "yaxis": "y"
        },
        {
         "hovertemplate": "entry_channel=KBY<br>salary=%{x}<br>age=%{y}<br>Male=%{marker.size}<extra></extra>",
         "legendgroup": "KBY",
         "marker": {
          "color": "#ab63fa",
          "size": [
           1
          ],
          "sizemode": "area",
          "sizeref": 0.0025,
          "symbol": "circle"
         },
         "mode": "markers",
         "name": "KBY",
         "orientation": "v",
         "showlegend": true,
         "type": "scatter",
         "x": [
          119602.56
         ],
         "xaxis": "x",
         "y": [
          44
         ],
         "yaxis": "y"
        },
        {
         "hovertemplate": "entry_channel=KDR<br>salary=%{x}<br>age=%{y}<br>Male=%{marker.size}<extra></extra>",
         "legendgroup": "KDR",
         "marker": {
          "color": "#FFA15A",
          "size": [
           1
          ],
          "sizemode": "area",
          "sizeref": 0.0025,
          "symbol": "circle"
         },
         "mode": "markers",
         "name": "KDR",
         "orientation": "v",
         "showlegend": true,
         "type": "scatter",
         "x": [
          151541.91
         ],
         "xaxis": "x",
         "y": [
          42
         ],
         "yaxis": "y"
        },
        {
         "hovertemplate": "entry_channel=KHC<br>salary=%{x}<br>age=%{y}<br>Male=%{marker.size}<extra></extra>",
         "legendgroup": "KHC",
         "marker": {
          "color": "#19d3f3",
          "size": [
           0
          ],
          "sizemode": "area",
          "sizeref": 0.0025,
          "symbol": "circle"
         },
         "mode": "markers",
         "name": "KHC",
         "orientation": "v",
         "showlegend": true,
         "type": "scatter",
         "x": [
          111482.61000000002
         ],
         "xaxis": "x",
         "y": [
          42
         ],
         "yaxis": "y"
        },
        {
         "hovertemplate": "entry_channel=KHO<br>salary=%{x}<br>age=%{y}<br>Male=%{marker.size}<extra></extra>",
         "legendgroup": "KHO",
         "marker": {
          "color": "#FF6692",
          "size": [
           1
          ],
          "sizemode": "area",
          "sizeref": 0.0025,
          "symbol": "circle"
         },
         "mode": "markers",
         "name": "KHO",
         "orientation": "v",
         "showlegend": true,
         "type": "scatter",
         "x": [
          123134.67
         ],
         "xaxis": "x",
         "y": [
          42
         ],
         "yaxis": "y"
        },
        {
         "hovertemplate": "entry_channel=KAZ<br>salary=%{x}<br>age=%{y}<br>Male=%{marker.size}<extra></extra>",
         "legendgroup": "KAZ",
         "marker": {
          "color": "#B6E880",
          "size": [
           0
          ],
          "sizemode": "area",
          "sizeref": 0.0025,
          "symbol": "circle"
         },
         "mode": "markers",
         "name": "KAZ",
         "orientation": "v",
         "showlegend": true,
         "type": "scatter",
         "x": [
          93290.88
         ],
         "xaxis": "x",
         "y": [
          42
         ],
         "yaxis": "y"
        },
        {
         "hovertemplate": "entry_channel=KCL<br>salary=%{x}<br>age=%{y}<br>Male=%{marker.size}<extra></extra>",
         "legendgroup": "KCL",
         "marker": {
          "color": "#FF97FF",
          "size": [
           1
          ],
          "sizemode": "area",
          "sizeref": 0.0025,
          "symbol": "circle"
         },
         "mode": "markers",
         "name": "KCL",
         "orientation": "v",
         "showlegend": true,
         "type": "scatter",
         "x": [
          140268.15000000002
         ],
         "xaxis": "x",
         "y": [
          41
         ],
         "yaxis": "y"
        },
        {
         "hovertemplate": "entry_channel=KBG<br>salary=%{x}<br>age=%{y}<br>Male=%{marker.size}<extra></extra>",
         "legendgroup": "KBG",
         "marker": {
          "color": "#FECB52",
          "size": [
           0
          ],
          "sizemode": "area",
          "sizeref": 0.0025,
          "symbol": "circle"
         },
         "mode": "markers",
         "name": "KBG",
         "orientation": "v",
         "showlegend": true,
         "type": "scatter",
         "x": [
          123394.47
         ],
         "xaxis": "x",
         "y": [
          41
         ],
         "yaxis": "y"
        },
        {
         "hovertemplate": "entry_channel=KFS<br>salary=%{x}<br>age=%{y}<br>Male=%{marker.size}<extra></extra>",
         "legendgroup": "KFS",
         "marker": {
          "color": "#636efa",
          "size": [
           1
          ],
          "sizemode": "area",
          "sizeref": 0.0025,
          "symbol": "circle"
         },
         "mode": "markers",
         "name": "KFS",
         "orientation": "v",
         "showlegend": true,
         "type": "scatter",
         "x": [
          83128.26
         ],
         "xaxis": "x",
         "y": [
          41
         ],
         "yaxis": "y"
        },
        {
         "hovertemplate": "entry_channel=KEJ<br>salary=%{x}<br>age=%{y}<br>Male=%{marker.size}<extra></extra>",
         "legendgroup": "KEJ",
         "marker": {
          "color": "#EF553B",
          "size": [
           1
          ],
          "sizemode": "area",
          "sizeref": 0.0025,
          "symbol": "circle"
         },
         "mode": "markers",
         "name": "KEJ",
         "orientation": "v",
         "showlegend": true,
         "type": "scatter",
         "x": [
          170212.13999999998
         ],
         "xaxis": "x",
         "y": [
          40
         ],
         "yaxis": "y"
        },
        {
         "hovertemplate": "entry_channel=KFA<br>salary=%{x}<br>age=%{y}<br>Male=%{marker.size}<extra></extra>",
         "legendgroup": "KFA",
         "marker": {
          "color": "#00cc96",
          "size": [
           1
          ],
          "sizemode": "area",
          "sizeref": 0.0025,
          "symbol": "circle"
         },
         "mode": "markers",
         "name": "KFA",
         "orientation": "v",
         "showlegend": true,
         "type": "scatter",
         "x": [
          130599.6
         ],
         "xaxis": "x",
         "y": [
          40
         ],
         "yaxis": "y"
        },
        {
         "hovertemplate": "entry_channel=KHL<br>salary=%{x}<br>age=%{y}<br>Male=%{marker.size}<extra></extra>",
         "legendgroup": "KHL",
         "marker": {
          "color": "#ab63fa",
          "size": [
           0
          ],
          "sizemode": "area",
          "sizeref": 0.0025,
          "symbol": "circle"
         },
         "mode": "markers",
         "name": "KHL",
         "orientation": "v",
         "showlegend": true,
         "type": "scatter",
         "x": [
          88055.97
         ],
         "xaxis": "x",
         "y": [
          40
         ],
         "yaxis": "y"
        },
        {
         "hovertemplate": "entry_channel=KHN<br>salary=%{x}<br>age=%{y}<br>Male=%{marker.size}<extra></extra>",
         "legendgroup": "KHN",
         "marker": {
          "color": "#FFA15A",
          "size": [
           0
          ],
          "sizemode": "area",
          "sizeref": 0.0025,
          "symbol": "circle"
         },
         "mode": "markers",
         "name": "KHN",
         "orientation": "v",
         "showlegend": true,
         "type": "scatter",
         "x": [
          89250.27
         ],
         "xaxis": "x",
         "y": [
          40
         ],
         "yaxis": "y"
        },
        {
         "hovertemplate": "entry_channel=KAT<br>salary=%{x}<br>age=%{y}<br>Male=%{marker.size}<extra></extra>",
         "legendgroup": "KAT",
         "marker": {
          "color": "#19d3f3",
          "size": [
           0
          ],
          "sizemode": "area",
          "sizeref": 0.0025,
          "symbol": "circle"
         },
         "mode": "markers",
         "name": "KAT",
         "orientation": "v",
         "showlegend": true,
         "type": "scatter",
         "x": [
          95322.81
         ],
         "xaxis": "x",
         "y": [
          38
         ],
         "yaxis": "y"
        },
        {
         "hovertemplate": "entry_channel=KFC<br>salary=%{x}<br>age=%{y}<br>Male=%{marker.size}<extra></extra>",
         "legendgroup": "KFC",
         "marker": {
          "color": "#FF6692",
          "size": [
           0
          ],
          "sizemode": "area",
          "sizeref": 0.0025,
          "symbol": "circle"
         },
         "mode": "markers",
         "name": "KFC",
         "orientation": "v",
         "showlegend": true,
         "type": "scatter",
         "x": [
          90243.54
         ],
         "xaxis": "x",
         "y": [
          38
         ],
         "yaxis": "y"
        },
        {
         "hovertemplate": "entry_channel=KHK<br>salary=%{x}<br>age=%{y}<br>Male=%{marker.size}<extra></extra>",
         "legendgroup": "KHK",
         "marker": {
          "color": "#B6E880",
          "size": [
           0
          ],
          "sizemode": "area",
          "sizeref": 0.0025,
          "symbol": "circle"
         },
         "mode": "markers",
         "name": "KHK",
         "orientation": "v",
         "showlegend": true,
         "type": "scatter",
         "x": [
          86887.04999999999
         ],
         "xaxis": "x",
         "y": [
          37
         ],
         "yaxis": "y"
        },
        {
         "hovertemplate": "entry_channel=KHM<br>salary=%{x}<br>age=%{y}<br>Male=%{marker.size}<extra></extra>",
         "legendgroup": "KHM",
         "marker": {
          "color": "#FF97FF",
          "size": [
           0
          ],
          "sizemode": "area",
          "sizeref": 0.0025,
          "symbol": "circle"
         },
         "mode": "markers",
         "name": "KHM",
         "orientation": "v",
         "showlegend": true,
         "type": "scatter",
         "x": [
          87243.33
         ],
         "xaxis": "x",
         "y": [
          36
         ],
         "yaxis": "y"
        },
        {
         "hovertemplate": "entry_channel=RED<br>salary=%{x}<br>age=%{y}<br>Male=%{marker.size}<extra></extra>",
         "legendgroup": "RED",
         "marker": {
          "color": "#FECB52",
          "size": [
           0
          ],
          "sizemode": "area",
          "sizeref": 0.0025,
          "symbol": "circle"
         },
         "mode": "markers",
         "name": "RED",
         "orientation": "v",
         "showlegend": true,
         "type": "scatter",
         "x": [
          83484
         ],
         "xaxis": "x",
         "y": [
          35
         ],
         "yaxis": "y"
        },
        {
         "hovertemplate": "entry_channel=KHF<br>salary=%{x}<br>age=%{y}<br>Male=%{marker.size}<extra></extra>",
         "legendgroup": "KHF",
         "marker": {
          "color": "#636efa",
          "size": [
           1
          ],
          "sizemode": "area",
          "sizeref": 0.0025,
          "symbol": "circle"
         },
         "mode": "markers",
         "name": "KHF",
         "orientation": "v",
         "showlegend": true,
         "type": "scatter",
         "x": [
          106957.17
         ],
         "xaxis": "x",
         "y": [
          24
         ],
         "yaxis": "y"
        },
        {
         "hovertemplate": "entry_channel=KEH<br>salary=%{x}<br>age=%{y}<br>Male=%{marker.size}<extra></extra>",
         "legendgroup": "KEH",
         "marker": {
          "color": "#EF553B",
          "size": [
           1
          ],
          "sizemode": "area",
          "sizeref": 0.0025,
          "symbol": "circle"
         },
         "mode": "markers",
         "name": "KEH",
         "orientation": "v",
         "showlegend": true,
         "type": "scatter",
         "x": [
          85596.48
         ],
         "xaxis": "x",
         "y": [
          24
         ],
         "yaxis": "y"
        },
        {
         "hovertemplate": "entry_channel=KHE<br>salary=%{x}<br>age=%{y}<br>Male=%{marker.size}<extra></extra>",
         "legendgroup": "KHE",
         "marker": {
          "color": "#00cc96",
          "size": [
           1
          ],
          "sizemode": "area",
          "sizeref": 0.0025,
          "symbol": "circle"
         },
         "mode": "markers",
         "name": "KHE",
         "orientation": "v",
         "showlegend": true,
         "type": "scatter",
         "x": [
          86877.12
         ],
         "xaxis": "x",
         "y": [
          23
         ],
         "yaxis": "y"
        },
        {
         "hovertemplate": "entry_channel=KHD<br>salary=%{x}<br>age=%{y}<br>Male=%{marker.size}<extra></extra>",
         "legendgroup": "KHD",
         "marker": {
          "color": "#ab63fa",
          "size": [
           1
          ],
          "sizemode": "area",
          "sizeref": 0.0025,
          "symbol": "circle"
         },
         "mode": "markers",
         "name": "KHD",
         "orientation": "v",
         "showlegend": true,
         "type": "scatter",
         "x": [
          90404.88
         ],
         "xaxis": "x",
         "y": [
          23
         ],
         "yaxis": "y"
        },
        {
         "hovertemplate": "entry_channel=KAD<br>salary=%{x}<br>age=%{y}<br>Male=%{marker.size}<extra></extra>",
         "legendgroup": "KAD",
         "marker": {
          "color": "#FFA15A",
          "size": [
           1
          ],
          "sizemode": "area",
          "sizeref": 0.0025,
          "symbol": "circle"
         },
         "mode": "markers",
         "name": "KAD",
         "orientation": "v",
         "showlegend": true,
         "type": "scatter",
         "x": [
          56112.3
         ],
         "xaxis": "x",
         "y": [
          23
         ],
         "yaxis": "y"
        },
        {
         "hovertemplate": "entry_channel=KDH<br>salary=%{x}<br>age=%{y}<br>Male=%{marker.size}<extra></extra>",
         "legendgroup": "KDH",
         "marker": {
          "color": "#19d3f3",
          "size": [
           0
          ],
          "sizemode": "area",
          "sizeref": 0.0025,
          "symbol": "circle"
         },
         "mode": "markers",
         "name": "KDH",
         "orientation": "v",
         "showlegend": true,
         "type": "scatter",
         "x": [
          151902.255
         ],
         "xaxis": "x",
         "y": [
          23
         ],
         "yaxis": "y"
        },
        {
         "hovertemplate": "entry_channel=KFK<br>salary=%{x}<br>age=%{y}<br>Male=%{marker.size}<extra></extra>",
         "legendgroup": "KFK",
         "marker": {
          "color": "#FF6692",
          "size": [
           1
          ],
          "sizemode": "area",
          "sizeref": 0.0025,
          "symbol": "circle"
         },
         "mode": "markers",
         "name": "KFK",
         "orientation": "v",
         "showlegend": true,
         "type": "scatter",
         "x": [
          35870.28
         ],
         "xaxis": "x",
         "y": [
          23
         ],
         "yaxis": "y"
        },
        {
         "hovertemplate": "entry_channel=KGC<br>salary=%{x}<br>age=%{y}<br>Male=%{marker.size}<extra></extra>",
         "legendgroup": "KGC",
         "marker": {
          "color": "#B6E880",
          "size": [
           1
          ],
          "sizemode": "area",
          "sizeref": 0.0025,
          "symbol": "circle"
         },
         "mode": "markers",
         "name": "KGC",
         "orientation": "v",
         "showlegend": true,
         "type": "scatter",
         "x": [
          32626.89
         ],
         "xaxis": "x",
         "y": [
          22
         ],
         "yaxis": "y"
        },
        {
         "hovertemplate": "entry_channel=KHP<br>salary=%{x}<br>age=%{y}<br>Male=%{marker.size}<extra></extra>",
         "legendgroup": "KHP",
         "marker": {
          "color": "#FF97FF",
          "size": [
           1
          ],
          "sizemode": "area",
          "sizeref": 0.0025,
          "symbol": "circle"
         },
         "mode": "markers",
         "name": "KHP",
         "orientation": "v",
         "showlegend": true,
         "type": "scatter",
         "x": [
          71173.14
         ],
         "xaxis": "x",
         "y": [
          20
         ],
         "yaxis": "y"
        },
        {
         "hovertemplate": "entry_channel=KHQ<br>salary=%{x}<br>age=%{y}<br>Male=%{marker.size}<extra></extra>",
         "legendgroup": "KHQ",
         "marker": {
          "color": "#FECB52",
          "size": [
           1
          ],
          "sizemode": "area",
          "sizeref": 0.0025,
          "symbol": "circle"
         },
         "mode": "markers",
         "name": "KHQ",
         "orientation": "v",
         "showlegend": true,
         "type": "scatter",
         "x": [
          86700.36
         ],
         "xaxis": "x",
         "y": [
          20
         ],
         "yaxis": "y"
        }
       ],
       "layout": {
        "barmode": "overlay",
        "height": 600,
        "legend": {
         "itemsizing": "constant",
         "title": {
          "text": "entry_channel"
         },
         "tracegroupgap": 0
        },
        "margin": {
         "t": 60
        },
        "template": {
         "data": {
          "bar": [
           {
            "error_x": {
             "color": "#2a3f5f"
            },
            "error_y": {
             "color": "#2a3f5f"
            },
            "marker": {
             "line": {
              "color": "#E5ECF6",
              "width": 0.5
             },
             "pattern": {
              "fillmode": "overlay",
              "size": 10,
              "solidity": 0.2
             }
            },
            "type": "bar"
           }
          ],
          "barpolar": [
           {
            "marker": {
             "line": {
              "color": "#E5ECF6",
              "width": 0.5
             },
             "pattern": {
              "fillmode": "overlay",
              "size": 10,
              "solidity": 0.2
             }
            },
            "type": "barpolar"
           }
          ],
          "carpet": [
           {
            "aaxis": {
             "endlinecolor": "#2a3f5f",
             "gridcolor": "white",
             "linecolor": "white",
             "minorgridcolor": "white",
             "startlinecolor": "#2a3f5f"
            },
            "baxis": {
             "endlinecolor": "#2a3f5f",
             "gridcolor": "white",
             "linecolor": "white",
             "minorgridcolor": "white",
             "startlinecolor": "#2a3f5f"
            },
            "type": "carpet"
           }
          ],
          "choropleth": [
           {
            "colorbar": {
             "outlinewidth": 0,
             "ticks": ""
            },
            "type": "choropleth"
           }
          ],
          "contour": [
           {
            "colorbar": {
             "outlinewidth": 0,
             "ticks": ""
            },
            "colorscale": [
             [
              0,
              "#0d0887"
             ],
             [
              0.1111111111111111,
              "#46039f"
             ],
             [
              0.2222222222222222,
              "#7201a8"
             ],
             [
              0.3333333333333333,
              "#9c179e"
             ],
             [
              0.4444444444444444,
              "#bd3786"
             ],
             [
              0.5555555555555556,
              "#d8576b"
             ],
             [
              0.6666666666666666,
              "#ed7953"
             ],
             [
              0.7777777777777778,
              "#fb9f3a"
             ],
             [
              0.8888888888888888,
              "#fdca26"
             ],
             [
              1,
              "#f0f921"
             ]
            ],
            "type": "contour"
           }
          ],
          "contourcarpet": [
           {
            "colorbar": {
             "outlinewidth": 0,
             "ticks": ""
            },
            "type": "contourcarpet"
           }
          ],
          "heatmap": [
           {
            "colorbar": {
             "outlinewidth": 0,
             "ticks": ""
            },
            "colorscale": [
             [
              0,
              "#0d0887"
             ],
             [
              0.1111111111111111,
              "#46039f"
             ],
             [
              0.2222222222222222,
              "#7201a8"
             ],
             [
              0.3333333333333333,
              "#9c179e"
             ],
             [
              0.4444444444444444,
              "#bd3786"
             ],
             [
              0.5555555555555556,
              "#d8576b"
             ],
             [
              0.6666666666666666,
              "#ed7953"
             ],
             [
              0.7777777777777778,
              "#fb9f3a"
             ],
             [
              0.8888888888888888,
              "#fdca26"
             ],
             [
              1,
              "#f0f921"
             ]
            ],
            "type": "heatmap"
           }
          ],
          "heatmapgl": [
           {
            "colorbar": {
             "outlinewidth": 0,
             "ticks": ""
            },
            "colorscale": [
             [
              0,
              "#0d0887"
             ],
             [
              0.1111111111111111,
              "#46039f"
             ],
             [
              0.2222222222222222,
              "#7201a8"
             ],
             [
              0.3333333333333333,
              "#9c179e"
             ],
             [
              0.4444444444444444,
              "#bd3786"
             ],
             [
              0.5555555555555556,
              "#d8576b"
             ],
             [
              0.6666666666666666,
              "#ed7953"
             ],
             [
              0.7777777777777778,
              "#fb9f3a"
             ],
             [
              0.8888888888888888,
              "#fdca26"
             ],
             [
              1,
              "#f0f921"
             ]
            ],
            "type": "heatmapgl"
           }
          ],
          "histogram": [
           {
            "marker": {
             "pattern": {
              "fillmode": "overlay",
              "size": 10,
              "solidity": 0.2
             }
            },
            "type": "histogram"
           }
          ],
          "histogram2d": [
           {
            "colorbar": {
             "outlinewidth": 0,
             "ticks": ""
            },
            "colorscale": [
             [
              0,
              "#0d0887"
             ],
             [
              0.1111111111111111,
              "#46039f"
             ],
             [
              0.2222222222222222,
              "#7201a8"
             ],
             [
              0.3333333333333333,
              "#9c179e"
             ],
             [
              0.4444444444444444,
              "#bd3786"
             ],
             [
              0.5555555555555556,
              "#d8576b"
             ],
             [
              0.6666666666666666,
              "#ed7953"
             ],
             [
              0.7777777777777778,
              "#fb9f3a"
             ],
             [
              0.8888888888888888,
              "#fdca26"
             ],
             [
              1,
              "#f0f921"
             ]
            ],
            "type": "histogram2d"
           }
          ],
          "histogram2dcontour": [
           {
            "colorbar": {
             "outlinewidth": 0,
             "ticks": ""
            },
            "colorscale": [
             [
              0,
              "#0d0887"
             ],
             [
              0.1111111111111111,
              "#46039f"
             ],
             [
              0.2222222222222222,
              "#7201a8"
             ],
             [
              0.3333333333333333,
              "#9c179e"
             ],
             [
              0.4444444444444444,
              "#bd3786"
             ],
             [
              0.5555555555555556,
              "#d8576b"
             ],
             [
              0.6666666666666666,
              "#ed7953"
             ],
             [
              0.7777777777777778,
              "#fb9f3a"
             ],
             [
              0.8888888888888888,
              "#fdca26"
             ],
             [
              1,
              "#f0f921"
             ]
            ],
            "type": "histogram2dcontour"
           }
          ],
          "mesh3d": [
           {
            "colorbar": {
             "outlinewidth": 0,
             "ticks": ""
            },
            "type": "mesh3d"
           }
          ],
          "parcoords": [
           {
            "line": {
             "colorbar": {
              "outlinewidth": 0,
              "ticks": ""
             }
            },
            "type": "parcoords"
           }
          ],
          "pie": [
           {
            "automargin": true,
            "type": "pie"
           }
          ],
          "scatter": [
           {
            "fillpattern": {
             "fillmode": "overlay",
             "size": 10,
             "solidity": 0.2
            },
            "type": "scatter"
           }
          ],
          "scatter3d": [
           {
            "line": {
             "colorbar": {
              "outlinewidth": 0,
              "ticks": ""
             }
            },
            "marker": {
             "colorbar": {
              "outlinewidth": 0,
              "ticks": ""
             }
            },
            "type": "scatter3d"
           }
          ],
          "scattercarpet": [
           {
            "marker": {
             "colorbar": {
              "outlinewidth": 0,
              "ticks": ""
             }
            },
            "type": "scattercarpet"
           }
          ],
          "scattergeo": [
           {
            "marker": {
             "colorbar": {
              "outlinewidth": 0,
              "ticks": ""
             }
            },
            "type": "scattergeo"
           }
          ],
          "scattergl": [
           {
            "marker": {
             "colorbar": {
              "outlinewidth": 0,
              "ticks": ""
             }
            },
            "type": "scattergl"
           }
          ],
          "scattermapbox": [
           {
            "marker": {
             "colorbar": {
              "outlinewidth": 0,
              "ticks": ""
             }
            },
            "type": "scattermapbox"
           }
          ],
          "scatterpolar": [
           {
            "marker": {
             "colorbar": {
              "outlinewidth": 0,
              "ticks": ""
             }
            },
            "type": "scatterpolar"
           }
          ],
          "scatterpolargl": [
           {
            "marker": {
             "colorbar": {
              "outlinewidth": 0,
              "ticks": ""
             }
            },
            "type": "scatterpolargl"
           }
          ],
          "scatterternary": [
           {
            "marker": {
             "colorbar": {
              "outlinewidth": 0,
              "ticks": ""
             }
            },
            "type": "scatterternary"
           }
          ],
          "surface": [
           {
            "colorbar": {
             "outlinewidth": 0,
             "ticks": ""
            },
            "colorscale": [
             [
              0,
              "#0d0887"
             ],
             [
              0.1111111111111111,
              "#46039f"
             ],
             [
              0.2222222222222222,
              "#7201a8"
             ],
             [
              0.3333333333333333,
              "#9c179e"
             ],
             [
              0.4444444444444444,
              "#bd3786"
             ],
             [
              0.5555555555555556,
              "#d8576b"
             ],
             [
              0.6666666666666666,
              "#ed7953"
             ],
             [
              0.7777777777777778,
              "#fb9f3a"
             ],
             [
              0.8888888888888888,
              "#fdca26"
             ],
             [
              1,
              "#f0f921"
             ]
            ],
            "type": "surface"
           }
          ],
          "table": [
           {
            "cells": {
             "fill": {
              "color": "#EBF0F8"
             },
             "line": {
              "color": "white"
             }
            },
            "header": {
             "fill": {
              "color": "#C8D4E3"
             },
             "line": {
              "color": "white"
             }
            },
            "type": "table"
           }
          ]
         },
         "layout": {
          "annotationdefaults": {
           "arrowcolor": "#2a3f5f",
           "arrowhead": 0,
           "arrowwidth": 1
          },
          "autotypenumbers": "strict",
          "coloraxis": {
           "colorbar": {
            "outlinewidth": 0,
            "ticks": ""
           }
          },
          "colorscale": {
           "diverging": [
            [
             0,
             "#8e0152"
            ],
            [
             0.1,
             "#c51b7d"
            ],
            [
             0.2,
             "#de77ae"
            ],
            [
             0.3,
             "#f1b6da"
            ],
            [
             0.4,
             "#fde0ef"
            ],
            [
             0.5,
             "#f7f7f7"
            ],
            [
             0.6,
             "#e6f5d0"
            ],
            [
             0.7,
             "#b8e186"
            ],
            [
             0.8,
             "#7fbc41"
            ],
            [
             0.9,
             "#4d9221"
            ],
            [
             1,
             "#276419"
            ]
           ],
           "sequential": [
            [
             0,
             "#0d0887"
            ],
            [
             0.1111111111111111,
             "#46039f"
            ],
            [
             0.2222222222222222,
             "#7201a8"
            ],
            [
             0.3333333333333333,
             "#9c179e"
            ],
            [
             0.4444444444444444,
             "#bd3786"
            ],
            [
             0.5555555555555556,
             "#d8576b"
            ],
            [
             0.6666666666666666,
             "#ed7953"
            ],
            [
             0.7777777777777778,
             "#fb9f3a"
            ],
            [
             0.8888888888888888,
             "#fdca26"
            ],
            [
             1,
             "#f0f921"
            ]
           ],
           "sequentialminus": [
            [
             0,
             "#0d0887"
            ],
            [
             0.1111111111111111,
             "#46039f"
            ],
            [
             0.2222222222222222,
             "#7201a8"
            ],
            [
             0.3333333333333333,
             "#9c179e"
            ],
            [
             0.4444444444444444,
             "#bd3786"
            ],
            [
             0.5555555555555556,
             "#d8576b"
            ],
            [
             0.6666666666666666,
             "#ed7953"
            ],
            [
             0.7777777777777778,
             "#fb9f3a"
            ],
            [
             0.8888888888888888,
             "#fdca26"
            ],
            [
             1,
             "#f0f921"
            ]
           ]
          },
          "colorway": [
           "#636efa",
           "#EF553B",
           "#00cc96",
           "#ab63fa",
           "#FFA15A",
           "#19d3f3",
           "#FF6692",
           "#B6E880",
           "#FF97FF",
           "#FECB52"
          ],
          "font": {
           "color": "#2a3f5f"
          },
          "geo": {
           "bgcolor": "white",
           "lakecolor": "white",
           "landcolor": "#E5ECF6",
           "showlakes": true,
           "showland": true,
           "subunitcolor": "white"
          },
          "hoverlabel": {
           "align": "left"
          },
          "hovermode": "closest",
          "mapbox": {
           "style": "light"
          },
          "paper_bgcolor": "white",
          "plot_bgcolor": "#E5ECF6",
          "polar": {
           "angularaxis": {
            "gridcolor": "white",
            "linecolor": "white",
            "ticks": ""
           },
           "bgcolor": "#E5ECF6",
           "radialaxis": {
            "gridcolor": "white",
            "linecolor": "white",
            "ticks": ""
           }
          },
          "scene": {
           "xaxis": {
            "backgroundcolor": "#E5ECF6",
            "gridcolor": "white",
            "gridwidth": 2,
            "linecolor": "white",
            "showbackground": true,
            "ticks": "",
            "zerolinecolor": "white"
           },
           "yaxis": {
            "backgroundcolor": "#E5ECF6",
            "gridcolor": "white",
            "gridwidth": 2,
            "linecolor": "white",
            "showbackground": true,
            "ticks": "",
            "zerolinecolor": "white"
           },
           "zaxis": {
            "backgroundcolor": "#E5ECF6",
            "gridcolor": "white",
            "gridwidth": 2,
            "linecolor": "white",
            "showbackground": true,
            "ticks": "",
            "zerolinecolor": "white"
           }
          },
          "shapedefaults": {
           "line": {
            "color": "#2a3f5f"
           }
          },
          "ternary": {
           "aaxis": {
            "gridcolor": "white",
            "linecolor": "white",
            "ticks": ""
           },
           "baxis": {
            "gridcolor": "white",
            "linecolor": "white",
            "ticks": ""
           },
           "bgcolor": "#E5ECF6",
           "caxis": {
            "gridcolor": "white",
            "linecolor": "white",
            "ticks": ""
           }
          },
          "title": {
           "x": 0.05
          },
          "xaxis": {
           "automargin": true,
           "gridcolor": "white",
           "linecolor": "white",
           "ticks": "",
           "title": {
            "standoff": 15
           },
           "zerolinecolor": "white",
           "zerolinewidth": 2
          },
          "yaxis": {
           "automargin": true,
           "gridcolor": "white",
           "linecolor": "white",
           "ticks": "",
           "title": {
            "standoff": 15
           },
           "zerolinecolor": "white",
           "zerolinewidth": 2
          }
         }
        },
        "title": {
         "text": "<b>Title</b>",
         "x": 0.5,
         "xanchor": "center"
        },
        "xaxis": {
         "anchor": "y",
         "domain": [
          0,
          1
         ],
         "title": {
          "text": "salary"
         }
        },
        "yaxis": {
         "anchor": "x",
         "domain": [
          0,
          1
         ],
         "title": {
          "text": "age"
         }
        }
       }
      },
      "text/html": [
       "<div>                            <div id=\"94fc3dba-7e65-4c1f-a6eb-0887d93767e6\" class=\"plotly-graph-div\" style=\"height:600px; width:100%;\"></div>            <script type=\"text/javascript\">                require([\"plotly\"], function(Plotly) {                    window.PLOTLYENV=window.PLOTLYENV || {};                                    if (document.getElementById(\"94fc3dba-7e65-4c1f-a6eb-0887d93767e6\")) {                    Plotly.newPlot(                        \"94fc3dba-7e65-4c1f-a6eb-0887d93767e6\",                        [{\"hovertemplate\":\"entry_channel=004<br>salary=%{x}<br>age=%{y}<br>Male=%{marker.size}<extra></extra>\",\"legendgroup\":\"004\",\"marker\":{\"color\":\"#636efa\",\"size\":[1.0],\"sizemode\":\"area\",\"sizeref\":0.0025,\"symbol\":\"circle\"},\"mode\":\"markers\",\"name\":\"004\",\"orientation\":\"v\",\"showlegend\":true,\"x\":[402884.04],\"xaxis\":\"x\",\"y\":[88.0],\"yaxis\":\"y\",\"type\":\"scatter\"},{\"hovertemplate\":\"entry_channel=KGX<br>salary=%{x}<br>age=%{y}<br>Male=%{marker.size}<extra></extra>\",\"legendgroup\":\"KGX\",\"marker\":{\"color\":\"#EF553B\",\"size\":[1.0],\"sizemode\":\"area\",\"sizeref\":0.0025,\"symbol\":\"circle\"},\"mode\":\"markers\",\"name\":\"KGX\",\"orientation\":\"v\",\"showlegend\":true,\"x\":[73322.43000000001],\"xaxis\":\"x\",\"y\":[88.0],\"yaxis\":\"y\",\"type\":\"scatter\"},{\"hovertemplate\":\"entry_channel=KFF<br>salary=%{x}<br>age=%{y}<br>Male=%{marker.size}<extra></extra>\",\"legendgroup\":\"KFF\",\"marker\":{\"color\":\"#00cc96\",\"size\":[1.0],\"sizemode\":\"area\",\"sizeref\":0.0025,\"symbol\":\"circle\"},\"mode\":\"markers\",\"name\":\"KFF\",\"orientation\":\"v\",\"showlegend\":true,\"x\":[148900.665],\"xaxis\":\"x\",\"y\":[83.5],\"yaxis\":\"y\",\"type\":\"scatter\"},{\"hovertemplate\":\"entry_channel=007<br>salary=%{x}<br>age=%{y}<br>Male=%{marker.size}<extra></extra>\",\"legendgroup\":\"007\",\"marker\":{\"color\":\"#ab63fa\",\"size\":[1.0],\"sizemode\":\"area\",\"sizeref\":0.0025,\"symbol\":\"circle\"},\"mode\":\"markers\",\"name\":\"007\",\"orientation\":\"v\",\"showlegend\":true,\"x\":[118168.65],\"xaxis\":\"x\",\"y\":[68.0],\"yaxis\":\"y\",\"type\":\"scatter\"},{\"hovertemplate\":\"entry_channel=KAG<br>salary=%{x}<br>age=%{y}<br>Male=%{marker.size}<extra></extra>\",\"legendgroup\":\"KAG\",\"marker\":{\"color\":\"#FFA15A\",\"size\":[1.0],\"sizemode\":\"area\",\"sizeref\":0.0025,\"symbol\":\"circle\"},\"mode\":\"markers\",\"name\":\"KAG\",\"orientation\":\"v\",\"showlegend\":true,\"x\":[127056.81],\"xaxis\":\"x\",\"y\":[62.0],\"yaxis\":\"y\",\"type\":\"scatter\"},{\"hovertemplate\":\"entry_channel=KCI<br>salary=%{x}<br>age=%{y}<br>Male=%{marker.size}<extra></extra>\",\"legendgroup\":\"KCI\",\"marker\":{\"color\":\"#19d3f3\",\"size\":[1.0],\"sizemode\":\"area\",\"sizeref\":0.0025,\"symbol\":\"circle\"},\"mode\":\"markers\",\"name\":\"KCI\",\"orientation\":\"v\",\"showlegend\":true,\"x\":[170924.79],\"xaxis\":\"x\",\"y\":[59.0],\"yaxis\":\"y\",\"type\":\"scatter\"},{\"hovertemplate\":\"entry_channel=KCB<br>salary=%{x}<br>age=%{y}<br>Male=%{marker.size}<extra></extra>\",\"legendgroup\":\"KCB\",\"marker\":{\"color\":\"#FF6692\",\"size\":[1.0],\"sizemode\":\"area\",\"sizeref\":0.0025,\"symbol\":\"circle\"},\"mode\":\"markers\",\"name\":\"KCB\",\"orientation\":\"v\",\"showlegend\":true,\"x\":[78500.1],\"xaxis\":\"x\",\"y\":[59.0],\"yaxis\":\"y\",\"type\":\"scatter\"},{\"hovertemplate\":\"entry_channel=KAW<br>salary=%{x}<br>age=%{y}<br>Male=%{marker.size}<extra></extra>\",\"legendgroup\":\"KAW\",\"marker\":{\"color\":\"#B6E880\",\"size\":[1.0],\"sizemode\":\"area\",\"sizeref\":0.0025,\"symbol\":\"circle\"},\"mode\":\"markers\",\"name\":\"KAW\",\"orientation\":\"v\",\"showlegend\":true,\"x\":[137379.21],\"xaxis\":\"x\",\"y\":[57.0],\"yaxis\":\"y\",\"type\":\"scatter\"},{\"hovertemplate\":\"entry_channel=KDA<br>salary=%{x}<br>age=%{y}<br>Male=%{marker.size}<extra></extra>\",\"legendgroup\":\"KDA\",\"marker\":{\"color\":\"#FF97FF\",\"size\":[1.0],\"sizemode\":\"area\",\"sizeref\":0.0025,\"symbol\":\"circle\"},\"mode\":\"markers\",\"name\":\"KDA\",\"orientation\":\"v\",\"showlegend\":true,\"x\":[118381.38],\"xaxis\":\"x\",\"y\":[57.0],\"yaxis\":\"y\",\"type\":\"scatter\"},{\"hovertemplate\":\"entry_channel=KBU<br>salary=%{x}<br>age=%{y}<br>Male=%{marker.size}<extra></extra>\",\"legendgroup\":\"KBU\",\"marker\":{\"color\":\"#FECB52\",\"size\":[1.0],\"sizemode\":\"area\",\"sizeref\":0.0025,\"symbol\":\"circle\"},\"mode\":\"markers\",\"name\":\"KBU\",\"orientation\":\"v\",\"showlegend\":true,\"x\":[103777.65],\"xaxis\":\"x\",\"y\":[57.0],\"yaxis\":\"y\",\"type\":\"scatter\"},{\"hovertemplate\":\"entry_channel=KFD<br>salary=%{x}<br>age=%{y}<br>Male=%{marker.size}<extra></extra>\",\"legendgroup\":\"KFD\",\"marker\":{\"color\":\"#636efa\",\"size\":[1.0],\"sizemode\":\"area\",\"sizeref\":0.0025,\"symbol\":\"circle\"},\"mode\":\"markers\",\"name\":\"KFD\",\"orientation\":\"v\",\"showlegend\":true,\"x\":[107079.42],\"xaxis\":\"x\",\"y\":[56.0],\"yaxis\":\"y\",\"type\":\"scatter\"},{\"hovertemplate\":\"entry_channel=KAH<br>salary=%{x}<br>age=%{y}<br>Male=%{marker.size}<extra></extra>\",\"legendgroup\":\"KAH\",\"marker\":{\"color\":\"#EF553B\",\"size\":[0.0],\"sizemode\":\"area\",\"sizeref\":0.0025,\"symbol\":\"circle\"},\"mode\":\"markers\",\"name\":\"KAH\",\"orientation\":\"v\",\"showlegend\":true,\"x\":[88217.85],\"xaxis\":\"x\",\"y\":[55.0],\"yaxis\":\"y\",\"type\":\"scatter\"},{\"hovertemplate\":\"entry_channel=KBZ<br>salary=%{x}<br>age=%{y}<br>Male=%{marker.size}<extra></extra>\",\"legendgroup\":\"KBZ\",\"marker\":{\"color\":\"#00cc96\",\"size\":[1.0],\"sizemode\":\"area\",\"sizeref\":0.0025,\"symbol\":\"circle\"},\"mode\":\"markers\",\"name\":\"KBZ\",\"orientation\":\"v\",\"showlegend\":true,\"x\":[200331.54],\"xaxis\":\"x\",\"y\":[55.0],\"yaxis\":\"y\",\"type\":\"scatter\"},{\"hovertemplate\":\"entry_channel=KAR<br>salary=%{x}<br>age=%{y}<br>Male=%{marker.size}<extra></extra>\",\"legendgroup\":\"KAR\",\"marker\":{\"color\":\"#ab63fa\",\"size\":[1.0],\"sizemode\":\"area\",\"sizeref\":0.0025,\"symbol\":\"circle\"},\"mode\":\"markers\",\"name\":\"KAR\",\"orientation\":\"v\",\"showlegend\":true,\"x\":[152779.74],\"xaxis\":\"x\",\"y\":[54.0],\"yaxis\":\"y\",\"type\":\"scatter\"},{\"hovertemplate\":\"entry_channel=KAS<br>salary=%{x}<br>age=%{y}<br>Male=%{marker.size}<extra></extra>\",\"legendgroup\":\"KAS\",\"marker\":{\"color\":\"#FFA15A\",\"size\":[1.0],\"sizemode\":\"area\",\"sizeref\":0.0025,\"symbol\":\"circle\"},\"mode\":\"markers\",\"name\":\"KAS\",\"orientation\":\"v\",\"showlegend\":true,\"x\":[161925.38999999998],\"xaxis\":\"x\",\"y\":[54.0],\"yaxis\":\"y\",\"type\":\"scatter\"},{\"hovertemplate\":\"entry_channel=KAE<br>salary=%{x}<br>age=%{y}<br>Male=%{marker.size}<extra></extra>\",\"legendgroup\":\"KAE\",\"marker\":{\"color\":\"#19d3f3\",\"size\":[1.0],\"sizemode\":\"area\",\"sizeref\":0.0025,\"symbol\":\"circle\"},\"mode\":\"markers\",\"name\":\"KAE\",\"orientation\":\"v\",\"showlegend\":true,\"x\":[47857.26],\"xaxis\":\"x\",\"y\":[53.5],\"yaxis\":\"y\",\"type\":\"scatter\"},{\"hovertemplate\":\"entry_channel=KAB<br>salary=%{x}<br>age=%{y}<br>Male=%{marker.size}<extra></extra>\",\"legendgroup\":\"KAB\",\"marker\":{\"color\":\"#FF6692\",\"size\":[1.0],\"sizemode\":\"area\",\"sizeref\":0.0025,\"symbol\":\"circle\"},\"mode\":\"markers\",\"name\":\"KAB\",\"orientation\":\"v\",\"showlegend\":true,\"x\":[181238.76],\"xaxis\":\"x\",\"y\":[53.0],\"yaxis\":\"y\",\"type\":\"scatter\"},{\"hovertemplate\":\"entry_channel=KCC<br>salary=%{x}<br>age=%{y}<br>Male=%{marker.size}<extra></extra>\",\"legendgroup\":\"KCC\",\"marker\":{\"color\":\"#B6E880\",\"size\":[1.0],\"sizemode\":\"area\",\"sizeref\":0.0025,\"symbol\":\"circle\"},\"mode\":\"markers\",\"name\":\"KCC\",\"orientation\":\"v\",\"showlegend\":true,\"x\":[115332.87],\"xaxis\":\"x\",\"y\":[53.0],\"yaxis\":\"y\",\"type\":\"scatter\"},{\"hovertemplate\":\"entry_channel=KBW<br>salary=%{x}<br>age=%{y}<br>Male=%{marker.size}<extra></extra>\",\"legendgroup\":\"KBW\",\"marker\":{\"color\":\"#FF97FF\",\"size\":[1.0],\"sizemode\":\"area\",\"sizeref\":0.0025,\"symbol\":\"circle\"},\"mode\":\"markers\",\"name\":\"KBW\",\"orientation\":\"v\",\"showlegend\":true,\"x\":[116140.62],\"xaxis\":\"x\",\"y\":[53.0],\"yaxis\":\"y\",\"type\":\"scatter\"},{\"hovertemplate\":\"entry_channel=KAK<br>salary=%{x}<br>age=%{y}<br>Male=%{marker.size}<extra></extra>\",\"legendgroup\":\"KAK\",\"marker\":{\"color\":\"#FECB52\",\"size\":[1.0],\"sizemode\":\"area\",\"sizeref\":0.0025,\"symbol\":\"circle\"},\"mode\":\"markers\",\"name\":\"KAK\",\"orientation\":\"v\",\"showlegend\":true,\"x\":[88036.62],\"xaxis\":\"x\",\"y\":[52.5],\"yaxis\":\"y\",\"type\":\"scatter\"},{\"hovertemplate\":\"entry_channel=KCK<br>salary=%{x}<br>age=%{y}<br>Male=%{marker.size}<extra></extra>\",\"legendgroup\":\"KCK\",\"marker\":{\"color\":\"#636efa\",\"size\":[1.0],\"sizemode\":\"area\",\"sizeref\":0.0025,\"symbol\":\"circle\"},\"mode\":\"markers\",\"name\":\"KCK\",\"orientation\":\"v\",\"showlegend\":true,\"x\":[121974.0],\"xaxis\":\"x\",\"y\":[52.0],\"yaxis\":\"y\",\"type\":\"scatter\"},{\"hovertemplate\":\"entry_channel=KAJ<br>salary=%{x}<br>age=%{y}<br>Male=%{marker.size}<extra></extra>\",\"legendgroup\":\"KAJ\",\"marker\":{\"color\":\"#EF553B\",\"size\":[1.0],\"sizemode\":\"area\",\"sizeref\":0.0025,\"symbol\":\"circle\"},\"mode\":\"markers\",\"name\":\"KAJ\",\"orientation\":\"v\",\"showlegend\":true,\"x\":[104904.63],\"xaxis\":\"x\",\"y\":[52.0],\"yaxis\":\"y\",\"type\":\"scatter\"},{\"hovertemplate\":\"entry_channel=KBH<br>salary=%{x}<br>age=%{y}<br>Male=%{marker.size}<extra></extra>\",\"legendgroup\":\"KBH\",\"marker\":{\"color\":\"#00cc96\",\"size\":[1.0],\"sizemode\":\"area\",\"sizeref\":0.0025,\"symbol\":\"circle\"},\"mode\":\"markers\",\"name\":\"KBH\",\"orientation\":\"v\",\"showlegend\":true,\"x\":[365769.87],\"xaxis\":\"x\",\"y\":[52.0],\"yaxis\":\"y\",\"type\":\"scatter\"},{\"hovertemplate\":\"entry_channel=KAM<br>salary=%{x}<br>age=%{y}<br>Male=%{marker.size}<extra></extra>\",\"legendgroup\":\"KAM\",\"marker\":{\"color\":\"#ab63fa\",\"size\":[1.0],\"sizemode\":\"area\",\"sizeref\":0.0025,\"symbol\":\"circle\"},\"mode\":\"markers\",\"name\":\"KAM\",\"orientation\":\"v\",\"showlegend\":true,\"x\":[117517.62],\"xaxis\":\"x\",\"y\":[51.0],\"yaxis\":\"y\",\"type\":\"scatter\"},{\"hovertemplate\":\"entry_channel=KAF<br>salary=%{x}<br>age=%{y}<br>Male=%{marker.size}<extra></extra>\",\"legendgroup\":\"KAF\",\"marker\":{\"color\":\"#FFA15A\",\"size\":[1.0],\"sizemode\":\"area\",\"sizeref\":0.0025,\"symbol\":\"circle\"},\"mode\":\"markers\",\"name\":\"KAF\",\"orientation\":\"v\",\"showlegend\":true,\"x\":[99812.76],\"xaxis\":\"x\",\"y\":[50.0],\"yaxis\":\"y\",\"type\":\"scatter\"},{\"hovertemplate\":\"entry_channel=KBO<br>salary=%{x}<br>age=%{y}<br>Male=%{marker.size}<extra></extra>\",\"legendgroup\":\"KBO\",\"marker\":{\"color\":\"#19d3f3\",\"size\":[1.0],\"sizemode\":\"area\",\"sizeref\":0.0025,\"symbol\":\"circle\"},\"mode\":\"markers\",\"name\":\"KBO\",\"orientation\":\"v\",\"showlegend\":true,\"x\":[83704.44],\"xaxis\":\"x\",\"y\":[50.0],\"yaxis\":\"y\",\"type\":\"scatter\"},{\"hovertemplate\":\"entry_channel=KAQ<br>salary=%{x}<br>age=%{y}<br>Male=%{marker.size}<extra></extra>\",\"legendgroup\":\"KAQ\",\"marker\":{\"color\":\"#FF6692\",\"size\":[1.0],\"sizemode\":\"area\",\"sizeref\":0.0025,\"symbol\":\"circle\"},\"mode\":\"markers\",\"name\":\"KAQ\",\"orientation\":\"v\",\"showlegend\":true,\"x\":[79654.62],\"xaxis\":\"x\",\"y\":[50.0],\"yaxis\":\"y\",\"type\":\"scatter\"},{\"hovertemplate\":\"entry_channel=KCH<br>salary=%{x}<br>age=%{y}<br>Male=%{marker.size}<extra></extra>\",\"legendgroup\":\"KCH\",\"marker\":{\"color\":\"#B6E880\",\"size\":[1.0],\"sizemode\":\"area\",\"sizeref\":0.0025,\"symbol\":\"circle\"},\"mode\":\"markers\",\"name\":\"KCH\",\"orientation\":\"v\",\"showlegend\":true,\"x\":[120678.51],\"xaxis\":\"x\",\"y\":[49.0],\"yaxis\":\"y\",\"type\":\"scatter\"},{\"hovertemplate\":\"entry_channel=KBE<br>salary=%{x}<br>age=%{y}<br>Male=%{marker.size}<extra></extra>\",\"legendgroup\":\"KBE\",\"marker\":{\"color\":\"#FF97FF\",\"size\":[1.0],\"sizemode\":\"area\",\"sizeref\":0.0025,\"symbol\":\"circle\"},\"mode\":\"markers\",\"name\":\"KBE\",\"orientation\":\"v\",\"showlegend\":true,\"x\":[138581.63999999998],\"xaxis\":\"x\",\"y\":[49.0],\"yaxis\":\"y\",\"type\":\"scatter\"},{\"hovertemplate\":\"entry_channel=013<br>salary=%{x}<br>age=%{y}<br>Male=%{marker.size}<extra></extra>\",\"legendgroup\":\"013\",\"marker\":{\"color\":\"#FECB52\",\"size\":[1.0],\"sizemode\":\"area\",\"sizeref\":0.0025,\"symbol\":\"circle\"},\"mode\":\"markers\",\"name\":\"013\",\"orientation\":\"v\",\"showlegend\":true,\"x\":[141897.36000000002],\"xaxis\":\"x\",\"y\":[47.0],\"yaxis\":\"y\",\"type\":\"scatter\"},{\"hovertemplate\":\"entry_channel=KAY<br>salary=%{x}<br>age=%{y}<br>Male=%{marker.size}<extra></extra>\",\"legendgroup\":\"KAY\",\"marker\":{\"color\":\"#636efa\",\"size\":[1.0],\"sizemode\":\"area\",\"sizeref\":0.0025,\"symbol\":\"circle\"},\"mode\":\"markers\",\"name\":\"KAY\",\"orientation\":\"v\",\"showlegend\":true,\"x\":[61763.06999999999],\"xaxis\":\"x\",\"y\":[47.0],\"yaxis\":\"y\",\"type\":\"scatter\"},{\"hovertemplate\":\"entry_channel=KAA<br>salary=%{x}<br>age=%{y}<br>Male=%{marker.size}<extra></extra>\",\"legendgroup\":\"KAA\",\"marker\":{\"color\":\"#EF553B\",\"size\":[1.0],\"sizemode\":\"area\",\"sizeref\":0.0025,\"symbol\":\"circle\"},\"mode\":\"markers\",\"name\":\"KAA\",\"orientation\":\"v\",\"showlegend\":true,\"x\":[153041.97],\"xaxis\":\"x\",\"y\":[47.0],\"yaxis\":\"y\",\"type\":\"scatter\"},{\"hovertemplate\":\"entry_channel=KDT<br>salary=%{x}<br>age=%{y}<br>Male=%{marker.size}<extra></extra>\",\"legendgroup\":\"KDT\",\"marker\":{\"color\":\"#00cc96\",\"size\":[1.0],\"sizemode\":\"area\",\"sizeref\":0.0025,\"symbol\":\"circle\"},\"mode\":\"markers\",\"name\":\"KDT\",\"orientation\":\"v\",\"showlegend\":true,\"x\":[103704.75],\"xaxis\":\"x\",\"y\":[46.0],\"yaxis\":\"y\",\"type\":\"scatter\"},{\"hovertemplate\":\"entry_channel=KBY<br>salary=%{x}<br>age=%{y}<br>Male=%{marker.size}<extra></extra>\",\"legendgroup\":\"KBY\",\"marker\":{\"color\":\"#ab63fa\",\"size\":[1.0],\"sizemode\":\"area\",\"sizeref\":0.0025,\"symbol\":\"circle\"},\"mode\":\"markers\",\"name\":\"KBY\",\"orientation\":\"v\",\"showlegend\":true,\"x\":[119602.56],\"xaxis\":\"x\",\"y\":[44.0],\"yaxis\":\"y\",\"type\":\"scatter\"},{\"hovertemplate\":\"entry_channel=KDR<br>salary=%{x}<br>age=%{y}<br>Male=%{marker.size}<extra></extra>\",\"legendgroup\":\"KDR\",\"marker\":{\"color\":\"#FFA15A\",\"size\":[1.0],\"sizemode\":\"area\",\"sizeref\":0.0025,\"symbol\":\"circle\"},\"mode\":\"markers\",\"name\":\"KDR\",\"orientation\":\"v\",\"showlegend\":true,\"x\":[151541.91],\"xaxis\":\"x\",\"y\":[42.0],\"yaxis\":\"y\",\"type\":\"scatter\"},{\"hovertemplate\":\"entry_channel=KHC<br>salary=%{x}<br>age=%{y}<br>Male=%{marker.size}<extra></extra>\",\"legendgroup\":\"KHC\",\"marker\":{\"color\":\"#19d3f3\",\"size\":[0.0],\"sizemode\":\"area\",\"sizeref\":0.0025,\"symbol\":\"circle\"},\"mode\":\"markers\",\"name\":\"KHC\",\"orientation\":\"v\",\"showlegend\":true,\"x\":[111482.61000000002],\"xaxis\":\"x\",\"y\":[42.0],\"yaxis\":\"y\",\"type\":\"scatter\"},{\"hovertemplate\":\"entry_channel=KHO<br>salary=%{x}<br>age=%{y}<br>Male=%{marker.size}<extra></extra>\",\"legendgroup\":\"KHO\",\"marker\":{\"color\":\"#FF6692\",\"size\":[1.0],\"sizemode\":\"area\",\"sizeref\":0.0025,\"symbol\":\"circle\"},\"mode\":\"markers\",\"name\":\"KHO\",\"orientation\":\"v\",\"showlegend\":true,\"x\":[123134.67],\"xaxis\":\"x\",\"y\":[42.0],\"yaxis\":\"y\",\"type\":\"scatter\"},{\"hovertemplate\":\"entry_channel=KAZ<br>salary=%{x}<br>age=%{y}<br>Male=%{marker.size}<extra></extra>\",\"legendgroup\":\"KAZ\",\"marker\":{\"color\":\"#B6E880\",\"size\":[0.0],\"sizemode\":\"area\",\"sizeref\":0.0025,\"symbol\":\"circle\"},\"mode\":\"markers\",\"name\":\"KAZ\",\"orientation\":\"v\",\"showlegend\":true,\"x\":[93290.88],\"xaxis\":\"x\",\"y\":[42.0],\"yaxis\":\"y\",\"type\":\"scatter\"},{\"hovertemplate\":\"entry_channel=KCL<br>salary=%{x}<br>age=%{y}<br>Male=%{marker.size}<extra></extra>\",\"legendgroup\":\"KCL\",\"marker\":{\"color\":\"#FF97FF\",\"size\":[1.0],\"sizemode\":\"area\",\"sizeref\":0.0025,\"symbol\":\"circle\"},\"mode\":\"markers\",\"name\":\"KCL\",\"orientation\":\"v\",\"showlegend\":true,\"x\":[140268.15000000002],\"xaxis\":\"x\",\"y\":[41.0],\"yaxis\":\"y\",\"type\":\"scatter\"},{\"hovertemplate\":\"entry_channel=KBG<br>salary=%{x}<br>age=%{y}<br>Male=%{marker.size}<extra></extra>\",\"legendgroup\":\"KBG\",\"marker\":{\"color\":\"#FECB52\",\"size\":[0.0],\"sizemode\":\"area\",\"sizeref\":0.0025,\"symbol\":\"circle\"},\"mode\":\"markers\",\"name\":\"KBG\",\"orientation\":\"v\",\"showlegend\":true,\"x\":[123394.47],\"xaxis\":\"x\",\"y\":[41.0],\"yaxis\":\"y\",\"type\":\"scatter\"},{\"hovertemplate\":\"entry_channel=KFS<br>salary=%{x}<br>age=%{y}<br>Male=%{marker.size}<extra></extra>\",\"legendgroup\":\"KFS\",\"marker\":{\"color\":\"#636efa\",\"size\":[1.0],\"sizemode\":\"area\",\"sizeref\":0.0025,\"symbol\":\"circle\"},\"mode\":\"markers\",\"name\":\"KFS\",\"orientation\":\"v\",\"showlegend\":true,\"x\":[83128.26],\"xaxis\":\"x\",\"y\":[41.0],\"yaxis\":\"y\",\"type\":\"scatter\"},{\"hovertemplate\":\"entry_channel=KEJ<br>salary=%{x}<br>age=%{y}<br>Male=%{marker.size}<extra></extra>\",\"legendgroup\":\"KEJ\",\"marker\":{\"color\":\"#EF553B\",\"size\":[1.0],\"sizemode\":\"area\",\"sizeref\":0.0025,\"symbol\":\"circle\"},\"mode\":\"markers\",\"name\":\"KEJ\",\"orientation\":\"v\",\"showlegend\":true,\"x\":[170212.13999999998],\"xaxis\":\"x\",\"y\":[40.0],\"yaxis\":\"y\",\"type\":\"scatter\"},{\"hovertemplate\":\"entry_channel=KFA<br>salary=%{x}<br>age=%{y}<br>Male=%{marker.size}<extra></extra>\",\"legendgroup\":\"KFA\",\"marker\":{\"color\":\"#00cc96\",\"size\":[1.0],\"sizemode\":\"area\",\"sizeref\":0.0025,\"symbol\":\"circle\"},\"mode\":\"markers\",\"name\":\"KFA\",\"orientation\":\"v\",\"showlegend\":true,\"x\":[130599.6],\"xaxis\":\"x\",\"y\":[40.0],\"yaxis\":\"y\",\"type\":\"scatter\"},{\"hovertemplate\":\"entry_channel=KHL<br>salary=%{x}<br>age=%{y}<br>Male=%{marker.size}<extra></extra>\",\"legendgroup\":\"KHL\",\"marker\":{\"color\":\"#ab63fa\",\"size\":[0.0],\"sizemode\":\"area\",\"sizeref\":0.0025,\"symbol\":\"circle\"},\"mode\":\"markers\",\"name\":\"KHL\",\"orientation\":\"v\",\"showlegend\":true,\"x\":[88055.97],\"xaxis\":\"x\",\"y\":[40.0],\"yaxis\":\"y\",\"type\":\"scatter\"},{\"hovertemplate\":\"entry_channel=KHN<br>salary=%{x}<br>age=%{y}<br>Male=%{marker.size}<extra></extra>\",\"legendgroup\":\"KHN\",\"marker\":{\"color\":\"#FFA15A\",\"size\":[0.0],\"sizemode\":\"area\",\"sizeref\":0.0025,\"symbol\":\"circle\"},\"mode\":\"markers\",\"name\":\"KHN\",\"orientation\":\"v\",\"showlegend\":true,\"x\":[89250.27],\"xaxis\":\"x\",\"y\":[40.0],\"yaxis\":\"y\",\"type\":\"scatter\"},{\"hovertemplate\":\"entry_channel=KAT<br>salary=%{x}<br>age=%{y}<br>Male=%{marker.size}<extra></extra>\",\"legendgroup\":\"KAT\",\"marker\":{\"color\":\"#19d3f3\",\"size\":[0.0],\"sizemode\":\"area\",\"sizeref\":0.0025,\"symbol\":\"circle\"},\"mode\":\"markers\",\"name\":\"KAT\",\"orientation\":\"v\",\"showlegend\":true,\"x\":[95322.81],\"xaxis\":\"x\",\"y\":[38.0],\"yaxis\":\"y\",\"type\":\"scatter\"},{\"hovertemplate\":\"entry_channel=KFC<br>salary=%{x}<br>age=%{y}<br>Male=%{marker.size}<extra></extra>\",\"legendgroup\":\"KFC\",\"marker\":{\"color\":\"#FF6692\",\"size\":[0.0],\"sizemode\":\"area\",\"sizeref\":0.0025,\"symbol\":\"circle\"},\"mode\":\"markers\",\"name\":\"KFC\",\"orientation\":\"v\",\"showlegend\":true,\"x\":[90243.54],\"xaxis\":\"x\",\"y\":[38.0],\"yaxis\":\"y\",\"type\":\"scatter\"},{\"hovertemplate\":\"entry_channel=KHK<br>salary=%{x}<br>age=%{y}<br>Male=%{marker.size}<extra></extra>\",\"legendgroup\":\"KHK\",\"marker\":{\"color\":\"#B6E880\",\"size\":[0.0],\"sizemode\":\"area\",\"sizeref\":0.0025,\"symbol\":\"circle\"},\"mode\":\"markers\",\"name\":\"KHK\",\"orientation\":\"v\",\"showlegend\":true,\"x\":[86887.04999999999],\"xaxis\":\"x\",\"y\":[37.0],\"yaxis\":\"y\",\"type\":\"scatter\"},{\"hovertemplate\":\"entry_channel=KHM<br>salary=%{x}<br>age=%{y}<br>Male=%{marker.size}<extra></extra>\",\"legendgroup\":\"KHM\",\"marker\":{\"color\":\"#FF97FF\",\"size\":[0.0],\"sizemode\":\"area\",\"sizeref\":0.0025,\"symbol\":\"circle\"},\"mode\":\"markers\",\"name\":\"KHM\",\"orientation\":\"v\",\"showlegend\":true,\"x\":[87243.33],\"xaxis\":\"x\",\"y\":[36.0],\"yaxis\":\"y\",\"type\":\"scatter\"},{\"hovertemplate\":\"entry_channel=RED<br>salary=%{x}<br>age=%{y}<br>Male=%{marker.size}<extra></extra>\",\"legendgroup\":\"RED\",\"marker\":{\"color\":\"#FECB52\",\"size\":[0.0],\"sizemode\":\"area\",\"sizeref\":0.0025,\"symbol\":\"circle\"},\"mode\":\"markers\",\"name\":\"RED\",\"orientation\":\"v\",\"showlegend\":true,\"x\":[83484.0],\"xaxis\":\"x\",\"y\":[35.0],\"yaxis\":\"y\",\"type\":\"scatter\"},{\"hovertemplate\":\"entry_channel=KHF<br>salary=%{x}<br>age=%{y}<br>Male=%{marker.size}<extra></extra>\",\"legendgroup\":\"KHF\",\"marker\":{\"color\":\"#636efa\",\"size\":[1.0],\"sizemode\":\"area\",\"sizeref\":0.0025,\"symbol\":\"circle\"},\"mode\":\"markers\",\"name\":\"KHF\",\"orientation\":\"v\",\"showlegend\":true,\"x\":[106957.17],\"xaxis\":\"x\",\"y\":[24.0],\"yaxis\":\"y\",\"type\":\"scatter\"},{\"hovertemplate\":\"entry_channel=KEH<br>salary=%{x}<br>age=%{y}<br>Male=%{marker.size}<extra></extra>\",\"legendgroup\":\"KEH\",\"marker\":{\"color\":\"#EF553B\",\"size\":[1.0],\"sizemode\":\"area\",\"sizeref\":0.0025,\"symbol\":\"circle\"},\"mode\":\"markers\",\"name\":\"KEH\",\"orientation\":\"v\",\"showlegend\":true,\"x\":[85596.48],\"xaxis\":\"x\",\"y\":[24.0],\"yaxis\":\"y\",\"type\":\"scatter\"},{\"hovertemplate\":\"entry_channel=KHE<br>salary=%{x}<br>age=%{y}<br>Male=%{marker.size}<extra></extra>\",\"legendgroup\":\"KHE\",\"marker\":{\"color\":\"#00cc96\",\"size\":[1.0],\"sizemode\":\"area\",\"sizeref\":0.0025,\"symbol\":\"circle\"},\"mode\":\"markers\",\"name\":\"KHE\",\"orientation\":\"v\",\"showlegend\":true,\"x\":[86877.12],\"xaxis\":\"x\",\"y\":[23.0],\"yaxis\":\"y\",\"type\":\"scatter\"},{\"hovertemplate\":\"entry_channel=KHD<br>salary=%{x}<br>age=%{y}<br>Male=%{marker.size}<extra></extra>\",\"legendgroup\":\"KHD\",\"marker\":{\"color\":\"#ab63fa\",\"size\":[1.0],\"sizemode\":\"area\",\"sizeref\":0.0025,\"symbol\":\"circle\"},\"mode\":\"markers\",\"name\":\"KHD\",\"orientation\":\"v\",\"showlegend\":true,\"x\":[90404.88],\"xaxis\":\"x\",\"y\":[23.0],\"yaxis\":\"y\",\"type\":\"scatter\"},{\"hovertemplate\":\"entry_channel=KAD<br>salary=%{x}<br>age=%{y}<br>Male=%{marker.size}<extra></extra>\",\"legendgroup\":\"KAD\",\"marker\":{\"color\":\"#FFA15A\",\"size\":[1.0],\"sizemode\":\"area\",\"sizeref\":0.0025,\"symbol\":\"circle\"},\"mode\":\"markers\",\"name\":\"KAD\",\"orientation\":\"v\",\"showlegend\":true,\"x\":[56112.3],\"xaxis\":\"x\",\"y\":[23.0],\"yaxis\":\"y\",\"type\":\"scatter\"},{\"hovertemplate\":\"entry_channel=KDH<br>salary=%{x}<br>age=%{y}<br>Male=%{marker.size}<extra></extra>\",\"legendgroup\":\"KDH\",\"marker\":{\"color\":\"#19d3f3\",\"size\":[0.0],\"sizemode\":\"area\",\"sizeref\":0.0025,\"symbol\":\"circle\"},\"mode\":\"markers\",\"name\":\"KDH\",\"orientation\":\"v\",\"showlegend\":true,\"x\":[151902.255],\"xaxis\":\"x\",\"y\":[23.0],\"yaxis\":\"y\",\"type\":\"scatter\"},{\"hovertemplate\":\"entry_channel=KFK<br>salary=%{x}<br>age=%{y}<br>Male=%{marker.size}<extra></extra>\",\"legendgroup\":\"KFK\",\"marker\":{\"color\":\"#FF6692\",\"size\":[1.0],\"sizemode\":\"area\",\"sizeref\":0.0025,\"symbol\":\"circle\"},\"mode\":\"markers\",\"name\":\"KFK\",\"orientation\":\"v\",\"showlegend\":true,\"x\":[35870.28],\"xaxis\":\"x\",\"y\":[23.0],\"yaxis\":\"y\",\"type\":\"scatter\"},{\"hovertemplate\":\"entry_channel=KGC<br>salary=%{x}<br>age=%{y}<br>Male=%{marker.size}<extra></extra>\",\"legendgroup\":\"KGC\",\"marker\":{\"color\":\"#B6E880\",\"size\":[1.0],\"sizemode\":\"area\",\"sizeref\":0.0025,\"symbol\":\"circle\"},\"mode\":\"markers\",\"name\":\"KGC\",\"orientation\":\"v\",\"showlegend\":true,\"x\":[32626.89],\"xaxis\":\"x\",\"y\":[22.0],\"yaxis\":\"y\",\"type\":\"scatter\"},{\"hovertemplate\":\"entry_channel=KHP<br>salary=%{x}<br>age=%{y}<br>Male=%{marker.size}<extra></extra>\",\"legendgroup\":\"KHP\",\"marker\":{\"color\":\"#FF97FF\",\"size\":[1.0],\"sizemode\":\"area\",\"sizeref\":0.0025,\"symbol\":\"circle\"},\"mode\":\"markers\",\"name\":\"KHP\",\"orientation\":\"v\",\"showlegend\":true,\"x\":[71173.14],\"xaxis\":\"x\",\"y\":[20.0],\"yaxis\":\"y\",\"type\":\"scatter\"},{\"hovertemplate\":\"entry_channel=KHQ<br>salary=%{x}<br>age=%{y}<br>Male=%{marker.size}<extra></extra>\",\"legendgroup\":\"KHQ\",\"marker\":{\"color\":\"#FECB52\",\"size\":[1.0],\"sizemode\":\"area\",\"sizeref\":0.0025,\"symbol\":\"circle\"},\"mode\":\"markers\",\"name\":\"KHQ\",\"orientation\":\"v\",\"showlegend\":true,\"x\":[86700.36],\"xaxis\":\"x\",\"y\":[20.0],\"yaxis\":\"y\",\"type\":\"scatter\"}],                        {\"template\":{\"data\":{\"histogram2dcontour\":[{\"type\":\"histogram2dcontour\",\"colorbar\":{\"outlinewidth\":0,\"ticks\":\"\"},\"colorscale\":[[0.0,\"#0d0887\"],[0.1111111111111111,\"#46039f\"],[0.2222222222222222,\"#7201a8\"],[0.3333333333333333,\"#9c179e\"],[0.4444444444444444,\"#bd3786\"],[0.5555555555555556,\"#d8576b\"],[0.6666666666666666,\"#ed7953\"],[0.7777777777777778,\"#fb9f3a\"],[0.8888888888888888,\"#fdca26\"],[1.0,\"#f0f921\"]]}],\"choropleth\":[{\"type\":\"choropleth\",\"colorbar\":{\"outlinewidth\":0,\"ticks\":\"\"}}],\"histogram2d\":[{\"type\":\"histogram2d\",\"colorbar\":{\"outlinewidth\":0,\"ticks\":\"\"},\"colorscale\":[[0.0,\"#0d0887\"],[0.1111111111111111,\"#46039f\"],[0.2222222222222222,\"#7201a8\"],[0.3333333333333333,\"#9c179e\"],[0.4444444444444444,\"#bd3786\"],[0.5555555555555556,\"#d8576b\"],[0.6666666666666666,\"#ed7953\"],[0.7777777777777778,\"#fb9f3a\"],[0.8888888888888888,\"#fdca26\"],[1.0,\"#f0f921\"]]}],\"heatmap\":[{\"type\":\"heatmap\",\"colorbar\":{\"outlinewidth\":0,\"ticks\":\"\"},\"colorscale\":[[0.0,\"#0d0887\"],[0.1111111111111111,\"#46039f\"],[0.2222222222222222,\"#7201a8\"],[0.3333333333333333,\"#9c179e\"],[0.4444444444444444,\"#bd3786\"],[0.5555555555555556,\"#d8576b\"],[0.6666666666666666,\"#ed7953\"],[0.7777777777777778,\"#fb9f3a\"],[0.8888888888888888,\"#fdca26\"],[1.0,\"#f0f921\"]]}],\"heatmapgl\":[{\"type\":\"heatmapgl\",\"colorbar\":{\"outlinewidth\":0,\"ticks\":\"\"},\"colorscale\":[[0.0,\"#0d0887\"],[0.1111111111111111,\"#46039f\"],[0.2222222222222222,\"#7201a8\"],[0.3333333333333333,\"#9c179e\"],[0.4444444444444444,\"#bd3786\"],[0.5555555555555556,\"#d8576b\"],[0.6666666666666666,\"#ed7953\"],[0.7777777777777778,\"#fb9f3a\"],[0.8888888888888888,\"#fdca26\"],[1.0,\"#f0f921\"]]}],\"contourcarpet\":[{\"type\":\"contourcarpet\",\"colorbar\":{\"outlinewidth\":0,\"ticks\":\"\"}}],\"contour\":[{\"type\":\"contour\",\"colorbar\":{\"outlinewidth\":0,\"ticks\":\"\"},\"colorscale\":[[0.0,\"#0d0887\"],[0.1111111111111111,\"#46039f\"],[0.2222222222222222,\"#7201a8\"],[0.3333333333333333,\"#9c179e\"],[0.4444444444444444,\"#bd3786\"],[0.5555555555555556,\"#d8576b\"],[0.6666666666666666,\"#ed7953\"],[0.7777777777777778,\"#fb9f3a\"],[0.8888888888888888,\"#fdca26\"],[1.0,\"#f0f921\"]]}],\"surface\":[{\"type\":\"surface\",\"colorbar\":{\"outlinewidth\":0,\"ticks\":\"\"},\"colorscale\":[[0.0,\"#0d0887\"],[0.1111111111111111,\"#46039f\"],[0.2222222222222222,\"#7201a8\"],[0.3333333333333333,\"#9c179e\"],[0.4444444444444444,\"#bd3786\"],[0.5555555555555556,\"#d8576b\"],[0.6666666666666666,\"#ed7953\"],[0.7777777777777778,\"#fb9f3a\"],[0.8888888888888888,\"#fdca26\"],[1.0,\"#f0f921\"]]}],\"mesh3d\":[{\"type\":\"mesh3d\",\"colorbar\":{\"outlinewidth\":0,\"ticks\":\"\"}}],\"scatter\":[{\"fillpattern\":{\"fillmode\":\"overlay\",\"size\":10,\"solidity\":0.2},\"type\":\"scatter\"}],\"parcoords\":[{\"type\":\"parcoords\",\"line\":{\"colorbar\":{\"outlinewidth\":0,\"ticks\":\"\"}}}],\"scatterpolargl\":[{\"type\":\"scatterpolargl\",\"marker\":{\"colorbar\":{\"outlinewidth\":0,\"ticks\":\"\"}}}],\"bar\":[{\"error_x\":{\"color\":\"#2a3f5f\"},\"error_y\":{\"color\":\"#2a3f5f\"},\"marker\":{\"line\":{\"color\":\"#E5ECF6\",\"width\":0.5},\"pattern\":{\"fillmode\":\"overlay\",\"size\":10,\"solidity\":0.2}},\"type\":\"bar\"}],\"scattergeo\":[{\"type\":\"scattergeo\",\"marker\":{\"colorbar\":{\"outlinewidth\":0,\"ticks\":\"\"}}}],\"scatterpolar\":[{\"type\":\"scatterpolar\",\"marker\":{\"colorbar\":{\"outlinewidth\":0,\"ticks\":\"\"}}}],\"histogram\":[{\"marker\":{\"pattern\":{\"fillmode\":\"overlay\",\"size\":10,\"solidity\":0.2}},\"type\":\"histogram\"}],\"scattergl\":[{\"type\":\"scattergl\",\"marker\":{\"colorbar\":{\"outlinewidth\":0,\"ticks\":\"\"}}}],\"scatter3d\":[{\"type\":\"scatter3d\",\"line\":{\"colorbar\":{\"outlinewidth\":0,\"ticks\":\"\"}},\"marker\":{\"colorbar\":{\"outlinewidth\":0,\"ticks\":\"\"}}}],\"scattermapbox\":[{\"type\":\"scattermapbox\",\"marker\":{\"colorbar\":{\"outlinewidth\":0,\"ticks\":\"\"}}}],\"scatterternary\":[{\"type\":\"scatterternary\",\"marker\":{\"colorbar\":{\"outlinewidth\":0,\"ticks\":\"\"}}}],\"scattercarpet\":[{\"type\":\"scattercarpet\",\"marker\":{\"colorbar\":{\"outlinewidth\":0,\"ticks\":\"\"}}}],\"carpet\":[{\"aaxis\":{\"endlinecolor\":\"#2a3f5f\",\"gridcolor\":\"white\",\"linecolor\":\"white\",\"minorgridcolor\":\"white\",\"startlinecolor\":\"#2a3f5f\"},\"baxis\":{\"endlinecolor\":\"#2a3f5f\",\"gridcolor\":\"white\",\"linecolor\":\"white\",\"minorgridcolor\":\"white\",\"startlinecolor\":\"#2a3f5f\"},\"type\":\"carpet\"}],\"table\":[{\"cells\":{\"fill\":{\"color\":\"#EBF0F8\"},\"line\":{\"color\":\"white\"}},\"header\":{\"fill\":{\"color\":\"#C8D4E3\"},\"line\":{\"color\":\"white\"}},\"type\":\"table\"}],\"barpolar\":[{\"marker\":{\"line\":{\"color\":\"#E5ECF6\",\"width\":0.5},\"pattern\":{\"fillmode\":\"overlay\",\"size\":10,\"solidity\":0.2}},\"type\":\"barpolar\"}],\"pie\":[{\"automargin\":true,\"type\":\"pie\"}]},\"layout\":{\"autotypenumbers\":\"strict\",\"colorway\":[\"#636efa\",\"#EF553B\",\"#00cc96\",\"#ab63fa\",\"#FFA15A\",\"#19d3f3\",\"#FF6692\",\"#B6E880\",\"#FF97FF\",\"#FECB52\"],\"font\":{\"color\":\"#2a3f5f\"},\"hovermode\":\"closest\",\"hoverlabel\":{\"align\":\"left\"},\"paper_bgcolor\":\"white\",\"plot_bgcolor\":\"#E5ECF6\",\"polar\":{\"bgcolor\":\"#E5ECF6\",\"angularaxis\":{\"gridcolor\":\"white\",\"linecolor\":\"white\",\"ticks\":\"\"},\"radialaxis\":{\"gridcolor\":\"white\",\"linecolor\":\"white\",\"ticks\":\"\"}},\"ternary\":{\"bgcolor\":\"#E5ECF6\",\"aaxis\":{\"gridcolor\":\"white\",\"linecolor\":\"white\",\"ticks\":\"\"},\"baxis\":{\"gridcolor\":\"white\",\"linecolor\":\"white\",\"ticks\":\"\"},\"caxis\":{\"gridcolor\":\"white\",\"linecolor\":\"white\",\"ticks\":\"\"}},\"coloraxis\":{\"colorbar\":{\"outlinewidth\":0,\"ticks\":\"\"}},\"colorscale\":{\"sequential\":[[0.0,\"#0d0887\"],[0.1111111111111111,\"#46039f\"],[0.2222222222222222,\"#7201a8\"],[0.3333333333333333,\"#9c179e\"],[0.4444444444444444,\"#bd3786\"],[0.5555555555555556,\"#d8576b\"],[0.6666666666666666,\"#ed7953\"],[0.7777777777777778,\"#fb9f3a\"],[0.8888888888888888,\"#fdca26\"],[1.0,\"#f0f921\"]],\"sequentialminus\":[[0.0,\"#0d0887\"],[0.1111111111111111,\"#46039f\"],[0.2222222222222222,\"#7201a8\"],[0.3333333333333333,\"#9c179e\"],[0.4444444444444444,\"#bd3786\"],[0.5555555555555556,\"#d8576b\"],[0.6666666666666666,\"#ed7953\"],[0.7777777777777778,\"#fb9f3a\"],[0.8888888888888888,\"#fdca26\"],[1.0,\"#f0f921\"]],\"diverging\":[[0,\"#8e0152\"],[0.1,\"#c51b7d\"],[0.2,\"#de77ae\"],[0.3,\"#f1b6da\"],[0.4,\"#fde0ef\"],[0.5,\"#f7f7f7\"],[0.6,\"#e6f5d0\"],[0.7,\"#b8e186\"],[0.8,\"#7fbc41\"],[0.9,\"#4d9221\"],[1,\"#276419\"]]},\"xaxis\":{\"gridcolor\":\"white\",\"linecolor\":\"white\",\"ticks\":\"\",\"title\":{\"standoff\":15},\"zerolinecolor\":\"white\",\"automargin\":true,\"zerolinewidth\":2},\"yaxis\":{\"gridcolor\":\"white\",\"linecolor\":\"white\",\"ticks\":\"\",\"title\":{\"standoff\":15},\"zerolinecolor\":\"white\",\"automargin\":true,\"zerolinewidth\":2},\"scene\":{\"xaxis\":{\"backgroundcolor\":\"#E5ECF6\",\"gridcolor\":\"white\",\"linecolor\":\"white\",\"showbackground\":true,\"ticks\":\"\",\"zerolinecolor\":\"white\",\"gridwidth\":2},\"yaxis\":{\"backgroundcolor\":\"#E5ECF6\",\"gridcolor\":\"white\",\"linecolor\":\"white\",\"showbackground\":true,\"ticks\":\"\",\"zerolinecolor\":\"white\",\"gridwidth\":2},\"zaxis\":{\"backgroundcolor\":\"#E5ECF6\",\"gridcolor\":\"white\",\"linecolor\":\"white\",\"showbackground\":true,\"ticks\":\"\",\"zerolinecolor\":\"white\",\"gridwidth\":2}},\"shapedefaults\":{\"line\":{\"color\":\"#2a3f5f\"}},\"annotationdefaults\":{\"arrowcolor\":\"#2a3f5f\",\"arrowhead\":0,\"arrowwidth\":1},\"geo\":{\"bgcolor\":\"white\",\"landcolor\":\"#E5ECF6\",\"subunitcolor\":\"white\",\"showland\":true,\"showlakes\":true,\"lakecolor\":\"white\"},\"title\":{\"x\":0.05},\"mapbox\":{\"style\":\"light\"}}},\"xaxis\":{\"anchor\":\"y\",\"domain\":[0.0,1.0],\"title\":{\"text\":\"salary\"}},\"yaxis\":{\"anchor\":\"x\",\"domain\":[0.0,1.0],\"title\":{\"text\":\"age\"}},\"legend\":{\"title\":{\"text\":\"entry_channel\"},\"tracegroupgap\":0,\"itemsizing\":\"constant\"},\"margin\":{\"t\":60},\"title\":{\"text\":\"<b>Title</b>\",\"x\":0.5,\"xanchor\":\"center\"},\"barmode\":\"overlay\",\"height\":600},                        {\"responsive\": true}                    ).then(function(){\n",
       "                            \n",
       "var gd = document.getElementById('94fc3dba-7e65-4c1f-a6eb-0887d93767e6');\n",
       "var x = new MutationObserver(function (mutations, observer) {{\n",
       "        var display = window.getComputedStyle(gd).display;\n",
       "        if (!display || display === 'none') {{\n",
       "            console.log([gd, 'removed!']);\n",
       "            Plotly.purge(gd);\n",
       "            observer.disconnect();\n",
       "        }}\n",
       "}});\n",
       "\n",
       "// Listen for the removal of the full notebook cells\n",
       "var notebookContainer = gd.closest('#notebook-container');\n",
       "if (notebookContainer) {{\n",
       "    x.observe(notebookContainer, {childList: true});\n",
       "}}\n",
       "\n",
       "// Listen for the clearing of the current output cell\n",
       "var outputEl = gd.closest('.output');\n",
       "if (outputEl) {{\n",
       "    x.observe(outputEl, {childList: true});\n",
       "}}\n",
       "\n",
       "                        })                };                });            </script>        </div>"
      ]
     },
     "metadata": {},
     "output_type": "display_data"
    },
    {
     "data": {
      "image/png": "[encoded data removed]"
     },
     "metadata": {},
     "output_type": "display_data"
    }
   ],
   "source": [
    "# 80-180k + 40-60 years \"cluster\"\n",
    "# around 80k + 20-25 years \"cluster\"\n",
    "\n",
    "four_feature_scatterer(df[df[\"salary\"].notna()], \"entry_channel\", \"salary\", \"age\", \"Male\", title = \"Title\")"
   ]
  },
  {
   "cell_type": "code",
   "execution_count": 98,
   "metadata": {},
   "outputs": [
    {
     "data": {
      "application/vnd.plotly.v1+json": {
       "config": {
        "plotlyServerURL": "https://plot.ly"
       },
       "data": [
        {
         "hovertemplate": "region_code=nan<br>salary=%{x}<br>age=%{y}<br>Male=%{marker.size}<extra></extra>",
         "legendgroup": "nan",
         "marker": {
          "color": "#636efa",
          "size": [
           0
          ],
          "sizemode": "area",
          "sizeref": 0.0025,
          "symbol": "circle"
         },
         "mode": "markers",
         "name": "nan",
         "orientation": "v",
         "showlegend": true,
         "type": "scatter",
         "x": [
          114949.44
         ],
         "xaxis": "x",
         "y": [
          40
         ],
         "yaxis": "y"
        },
        {
         "hovertemplate": "region_code=1.0<br>salary=%{x}<br>age=%{y}<br>Male=%{marker.size}<extra></extra>",
         "legendgroup": "1.0",
         "marker": {
          "color": "#EF553B",
          "size": [
           0
          ],
          "sizemode": "area",
          "sizeref": 0.0025,
          "symbol": "circle"
         },
         "mode": "markers",
         "name": "1.0",
         "orientation": "v",
         "showlegend": true,
         "type": "scatter",
         "x": [
          74453.79000000001
         ],
         "xaxis": "x",
         "y": [
          38
         ],
         "yaxis": "y"
        },
        {
         "hovertemplate": "region_code=38.0<br>salary=%{x}<br>age=%{y}<br>Male=%{marker.size}<extra></extra>",
         "legendgroup": "38.0",
         "marker": {
          "color": "#00cc96",
          "size": [
           0
          ],
          "sizemode": "area",
          "sizeref": 0.0025,
          "symbol": "circle"
         },
         "mode": "markers",
         "name": "38.0",
         "orientation": "v",
         "showlegend": true,
         "type": "scatter",
         "x": [
          76277.61
         ],
         "xaxis": "x",
         "y": [
          37
         ],
         "yaxis": "y"
        },
        {
         "hovertemplate": "region_code=48.0<br>salary=%{x}<br>age=%{y}<br>Male=%{marker.size}<extra></extra>",
         "legendgroup": "48.0",
         "marker": {
          "color": "#ab63fa",
          "size": [
           0
          ],
          "sizemode": "area",
          "sizeref": 0.0025,
          "symbol": "circle"
         },
         "mode": "markers",
         "name": "48.0",
         "orientation": "v",
         "showlegend": true,
         "type": "scatter",
         "x": [
          108659.43
         ],
         "xaxis": "x",
         "y": [
          36
         ],
         "yaxis": "y"
        },
        {
         "hovertemplate": "region_code=20.0<br>salary=%{x}<br>age=%{y}<br>Male=%{marker.size}<extra></extra>",
         "legendgroup": "20.0",
         "marker": {
          "color": "#FFA15A",
          "size": [
           0
          ],
          "sizemode": "area",
          "sizeref": 0.0025,
          "symbol": "circle"
         },
         "mode": "markers",
         "name": "20.0",
         "orientation": "v",
         "showlegend": true,
         "type": "scatter",
         "x": [
          53028.75
         ],
         "xaxis": "x",
         "y": [
          35
         ],
         "yaxis": "y"
        },
        {
         "hovertemplate": "region_code=31.0<br>salary=%{x}<br>age=%{y}<br>Male=%{marker.size}<extra></extra>",
         "legendgroup": "31.0",
         "marker": {
          "color": "#19d3f3",
          "size": [
           1
          ],
          "sizemode": "area",
          "sizeref": 0.0025,
          "symbol": "circle"
         },
         "mode": "markers",
         "name": "31.0",
         "orientation": "v",
         "showlegend": true,
         "type": "scatter",
         "x": [
          77641.98
         ],
         "xaxis": "x",
         "y": [
          34
         ],
         "yaxis": "y"
        },
        {
         "hovertemplate": "region_code=51.0<br>salary=%{x}<br>age=%{y}<br>Male=%{marker.size}<extra></extra>",
         "legendgroup": "51.0",
         "marker": {
          "color": "#FF6692",
          "size": [
           0
          ],
          "sizemode": "area",
          "sizeref": 0.0025,
          "symbol": "circle"
         },
         "mode": "markers",
         "name": "51.0",
         "orientation": "v",
         "showlegend": true,
         "type": "scatter",
         "x": [
          124158.42
         ],
         "xaxis": "x",
         "y": [
          34
         ],
         "yaxis": "y"
        },
        {
         "hovertemplate": "region_code=4.0<br>salary=%{x}<br>age=%{y}<br>Male=%{marker.size}<extra></extra>",
         "legendgroup": "4.0",
         "marker": {
          "color": "#B6E880",
          "size": [
           0
          ],
          "sizemode": "area",
          "sizeref": 0.0025,
          "symbol": "circle"
         },
         "mode": "markers",
         "name": "4.0",
         "orientation": "v",
         "showlegend": true,
         "type": "scatter",
         "x": [
          69529.59
         ],
         "xaxis": "x",
         "y": [
          30
         ],
         "yaxis": "y"
        },
        {
         "hovertemplate": "region_code=28.0<br>salary=%{x}<br>age=%{y}<br>Male=%{marker.size}<extra></extra>",
         "legendgroup": "28.0",
         "marker": {
          "color": "#FF97FF",
          "size": [
           1
          ],
          "sizemode": "area",
          "sizeref": 0.0025,
          "symbol": "circle"
         },
         "mode": "markers",
         "name": "28.0",
         "orientation": "v",
         "showlegend": true,
         "type": "scatter",
         "x": [
          126762.48
         ],
         "xaxis": "x",
         "y": [
          30
         ],
         "yaxis": "y"
        },
        {
         "hovertemplate": "region_code=23.0<br>salary=%{x}<br>age=%{y}<br>Male=%{marker.size}<extra></extra>",
         "legendgroup": "23.0",
         "marker": {
          "color": "#FECB52",
          "size": [
           0
          ],
          "sizemode": "area",
          "sizeref": 0.0025,
          "symbol": "circle"
         },
         "mode": "markers",
         "name": "23.0",
         "orientation": "v",
         "showlegend": true,
         "type": "scatter",
         "x": [
          64164.72
         ],
         "xaxis": "x",
         "y": [
          29
         ],
         "yaxis": "y"
        },
        {
         "hovertemplate": "region_code=7.0<br>salary=%{x}<br>age=%{y}<br>Male=%{marker.size}<extra></extra>",
         "legendgroup": "7.0",
         "marker": {
          "color": "#636efa",
          "size": [
           0
          ],
          "sizemode": "area",
          "sizeref": 0.0025,
          "symbol": "circle"
         },
         "mode": "markers",
         "name": "7.0",
         "orientation": "v",
         "showlegend": true,
         "type": "scatter",
         "x": [
          116585.25
         ],
         "xaxis": "x",
         "y": [
          28
         ],
         "yaxis": "y"
        },
        {
         "hovertemplate": "region_code=24.0<br>salary=%{x}<br>age=%{y}<br>Male=%{marker.size}<extra></extra>",
         "legendgroup": "24.0",
         "marker": {
          "color": "#EF553B",
          "size": [
           1
          ],
          "sizemode": "area",
          "sizeref": 0.0025,
          "symbol": "circle"
         },
         "mode": "markers",
         "name": "24.0",
         "orientation": "v",
         "showlegend": true,
         "type": "scatter",
         "x": [
          73127.45999999999
         ],
         "xaxis": "x",
         "y": [
          28
         ],
         "yaxis": "y"
        },
        {
         "hovertemplate": "region_code=3.0<br>salary=%{x}<br>age=%{y}<br>Male=%{marker.size}<extra></extra>",
         "legendgroup": "3.0",
         "marker": {
          "color": "#00cc96",
          "size": [
           0
          ],
          "sizemode": "area",
          "sizeref": 0.0025,
          "symbol": "circle"
         },
         "mode": "markers",
         "name": "3.0",
         "orientation": "v",
         "showlegend": true,
         "type": "scatter",
         "x": [
          63001.98
         ],
         "xaxis": "x",
         "y": [
          27
         ],
         "yaxis": "y"
        },
        {
         "hovertemplate": "region_code=35.0<br>salary=%{x}<br>age=%{y}<br>Male=%{marker.size}<extra></extra>",
         "legendgroup": "35.0",
         "marker": {
          "color": "#ab63fa",
          "size": [
           0
          ],
          "sizemode": "area",
          "sizeref": 0.0025,
          "symbol": "circle"
         },
         "mode": "markers",
         "name": "35.0",
         "orientation": "v",
         "showlegend": true,
         "type": "scatter",
         "x": [
          77092.31999999999
         ],
         "xaxis": "x",
         "y": [
          27
         ],
         "yaxis": "y"
        },
        {
         "hovertemplate": "region_code=19.0<br>salary=%{x}<br>age=%{y}<br>Male=%{marker.size}<extra></extra>",
         "legendgroup": "19.0",
         "marker": {
          "color": "#FFA15A",
          "size": [
           0
          ],
          "sizemode": "area",
          "sizeref": 0.0025,
          "symbol": "circle"
         },
         "mode": "markers",
         "name": "19.0",
         "orientation": "v",
         "showlegend": true,
         "type": "scatter",
         "x": [
          91690.26
         ],
         "xaxis": "x",
         "y": [
          27
         ],
         "yaxis": "y"
        },
        {
         "hovertemplate": "region_code=52.0<br>salary=%{x}<br>age=%{y}<br>Male=%{marker.size}<extra></extra>",
         "legendgroup": "52.0",
         "marker": {
          "color": "#19d3f3",
          "size": [
           0
          ],
          "sizemode": "area",
          "sizeref": 0.0025,
          "symbol": "circle"
         },
         "mode": "markers",
         "name": "52.0",
         "orientation": "v",
         "showlegend": true,
         "type": "scatter",
         "x": [
          114363.99
         ],
         "xaxis": "x",
         "y": [
          27
         ],
         "yaxis": "y"
        },
        {
         "hovertemplate": "region_code=18.0<br>salary=%{x}<br>age=%{y}<br>Male=%{marker.size}<extra></extra>",
         "legendgroup": "18.0",
         "marker": {
          "color": "#FF6692",
          "size": [
           1
          ],
          "sizemode": "area",
          "sizeref": 0.0025,
          "symbol": "circle"
         },
         "mode": "markers",
         "name": "18.0",
         "orientation": "v",
         "showlegend": true,
         "type": "scatter",
         "x": [
          78106.23
         ],
         "xaxis": "x",
         "y": [
          26
         ],
         "yaxis": "y"
        },
        {
         "hovertemplate": "region_code=21.0<br>salary=%{x}<br>age=%{y}<br>Male=%{marker.size}<extra></extra>",
         "legendgroup": "21.0",
         "marker": {
          "color": "#B6E880",
          "size": [
           1
          ],
          "sizemode": "area",
          "sizeref": 0.0025,
          "symbol": "circle"
         },
         "mode": "markers",
         "name": "21.0",
         "orientation": "v",
         "showlegend": true,
         "type": "scatter",
         "x": [
          67356.51
         ],
         "xaxis": "x",
         "y": [
          25
         ],
         "yaxis": "y"
        },
        {
         "hovertemplate": "region_code=29.0<br>salary=%{x}<br>age=%{y}<br>Male=%{marker.size}<extra></extra>",
         "legendgroup": "29.0",
         "marker": {
          "color": "#FF97FF",
          "size": [
           1
          ],
          "sizemode": "area",
          "sizeref": 0.0025,
          "symbol": "circle"
         },
         "mode": "markers",
         "name": "29.0",
         "orientation": "v",
         "showlegend": true,
         "type": "scatter",
         "x": [
          89968.53
         ],
         "xaxis": "x",
         "y": [
          25
         ],
         "yaxis": "y"
        },
        {
         "hovertemplate": "region_code=41.0<br>salary=%{x}<br>age=%{y}<br>Male=%{marker.size}<extra></extra>",
         "legendgroup": "41.0",
         "marker": {
          "color": "#FECB52",
          "size": [
           1
          ],
          "sizemode": "area",
          "sizeref": 0.0025,
          "symbol": "circle"
         },
         "mode": "markers",
         "name": "41.0",
         "orientation": "v",
         "showlegend": true,
         "type": "scatter",
         "x": [
          86136.03
         ],
         "xaxis": "x",
         "y": [
          25
         ],
         "yaxis": "y"
        },
        {
         "hovertemplate": "region_code=14.0<br>salary=%{x}<br>age=%{y}<br>Male=%{marker.size}<extra></extra>",
         "legendgroup": "14.0",
         "marker": {
          "color": "#636efa",
          "size": [
           1
          ],
          "sizemode": "area",
          "sizeref": 0.0025,
          "symbol": "circle"
         },
         "mode": "markers",
         "name": "14.0",
         "orientation": "v",
         "showlegend": true,
         "type": "scatter",
         "x": [
          64438.98
         ],
         "xaxis": "x",
         "y": [
          25
         ],
         "yaxis": "y"
        },
        {
         "hovertemplate": "region_code=39.0<br>salary=%{x}<br>age=%{y}<br>Male=%{marker.size}<extra></extra>",
         "legendgroup": "39.0",
         "marker": {
          "color": "#EF553B",
          "size": [
           0
          ],
          "sizemode": "area",
          "sizeref": 0.0025,
          "symbol": "circle"
         },
         "mode": "markers",
         "name": "39.0",
         "orientation": "v",
         "showlegend": true,
         "type": "scatter",
         "x": [
          89202
         ],
         "xaxis": "x",
         "y": [
          25
         ],
         "yaxis": "y"
        },
        {
         "hovertemplate": "region_code=33.0<br>salary=%{x}<br>age=%{y}<br>Male=%{marker.size}<extra></extra>",
         "legendgroup": "33.0",
         "marker": {
          "color": "#00cc96",
          "size": [
           1
          ],
          "sizemode": "area",
          "sizeref": 0.0025,
          "symbol": "circle"
         },
         "mode": "markers",
         "name": "33.0",
         "orientation": "v",
         "showlegend": true,
         "type": "scatter",
         "x": [
          83582.13
         ],
         "xaxis": "x",
         "y": [
          25
         ],
         "yaxis": "y"
        },
        {
         "hovertemplate": "region_code=46.0<br>salary=%{x}<br>age=%{y}<br>Male=%{marker.size}<extra></extra>",
         "legendgroup": "46.0",
         "marker": {
          "color": "#ab63fa",
          "size": [
           1
          ],
          "sizemode": "area",
          "sizeref": 0.0025,
          "symbol": "circle"
         },
         "mode": "markers",
         "name": "46.0",
         "orientation": "v",
         "showlegend": true,
         "type": "scatter",
         "x": [
          68052.93000000001
         ],
         "xaxis": "x",
         "y": [
          24
         ],
         "yaxis": "y"
        },
        {
         "hovertemplate": "region_code=45.0<br>salary=%{x}<br>age=%{y}<br>Male=%{marker.size}<extra></extra>",
         "legendgroup": "45.0",
         "marker": {
          "color": "#FFA15A",
          "size": [
           1
          ],
          "sizemode": "area",
          "sizeref": 0.0025,
          "symbol": "circle"
         },
         "mode": "markers",
         "name": "45.0",
         "orientation": "v",
         "showlegend": true,
         "type": "scatter",
         "x": [
          65672.31
         ],
         "xaxis": "x",
         "y": [
          24
         ],
         "yaxis": "y"
        },
        {
         "hovertemplate": "region_code=43.0<br>salary=%{x}<br>age=%{y}<br>Male=%{marker.size}<extra></extra>",
         "legendgroup": "43.0",
         "marker": {
          "color": "#19d3f3",
          "size": [
           1
          ],
          "sizemode": "area",
          "sizeref": 0.0025,
          "symbol": "circle"
         },
         "mode": "markers",
         "name": "43.0",
         "orientation": "v",
         "showlegend": true,
         "type": "scatter",
         "x": [
          83784.95999999999
         ],
         "xaxis": "x",
         "y": [
          24
         ],
         "yaxis": "y"
        },
        {
         "hovertemplate": "region_code=8.0<br>salary=%{x}<br>age=%{y}<br>Male=%{marker.size}<extra></extra>",
         "legendgroup": "8.0",
         "marker": {
          "color": "#FF6692",
          "size": [
           1
          ],
          "sizemode": "area",
          "sizeref": 0.0025,
          "symbol": "circle"
         },
         "mode": "markers",
         "name": "8.0",
         "orientation": "v",
         "showlegend": true,
         "type": "scatter",
         "x": [
          124630.71
         ],
         "xaxis": "x",
         "y": [
          24
         ],
         "yaxis": "y"
        },
        {
         "hovertemplate": "region_code=40.0<br>salary=%{x}<br>age=%{y}<br>Male=%{marker.size}<extra></extra>",
         "legendgroup": "40.0",
         "marker": {
          "color": "#B6E880",
          "size": [
           1
          ],
          "sizemode": "area",
          "sizeref": 0.0025,
          "symbol": "circle"
         },
         "mode": "markers",
         "name": "40.0",
         "orientation": "v",
         "showlegend": true,
         "type": "scatter",
         "x": [
          89031.20999999998
         ],
         "xaxis": "x",
         "y": [
          24
         ],
         "yaxis": "y"
        },
        {
         "hovertemplate": "region_code=9.0<br>salary=%{x}<br>age=%{y}<br>Male=%{marker.size}<extra></extra>",
         "legendgroup": "9.0",
         "marker": {
          "color": "#FF97FF",
          "size": [
           1
          ],
          "sizemode": "area",
          "sizeref": 0.0025,
          "symbol": "circle"
         },
         "mode": "markers",
         "name": "9.0",
         "orientation": "v",
         "showlegend": true,
         "type": "scatter",
         "x": [
          87680.88
         ],
         "xaxis": "x",
         "y": [
          24
         ],
         "yaxis": "y"
        },
        {
         "hovertemplate": "region_code=11.0<br>salary=%{x}<br>age=%{y}<br>Male=%{marker.size}<extra></extra>",
         "legendgroup": "11.0",
         "marker": {
          "color": "#FECB52",
          "size": [
           1
          ],
          "sizemode": "area",
          "sizeref": 0.0025,
          "symbol": "circle"
         },
         "mode": "markers",
         "name": "11.0",
         "orientation": "v",
         "showlegend": true,
         "type": "scatter",
         "x": [
          75568.29000000001
         ],
         "xaxis": "x",
         "y": [
          24
         ],
         "yaxis": "y"
        },
        {
         "hovertemplate": "region_code=12.0<br>salary=%{x}<br>age=%{y}<br>Male=%{marker.size}<extra></extra>",
         "legendgroup": "12.0",
         "marker": {
          "color": "#636efa",
          "size": [
           1
          ],
          "sizemode": "area",
          "sizeref": 0.0025,
          "symbol": "circle"
         },
         "mode": "markers",
         "name": "12.0",
         "orientation": "v",
         "showlegend": true,
         "type": "scatter",
         "x": [
          64863.84
         ],
         "xaxis": "x",
         "y": [
          24
         ],
         "yaxis": "y"
        },
        {
         "hovertemplate": "region_code=30.0<br>salary=%{x}<br>age=%{y}<br>Male=%{marker.size}<extra></extra>",
         "legendgroup": "30.0",
         "marker": {
          "color": "#EF553B",
          "size": [
           1
          ],
          "sizemode": "area",
          "sizeref": 0.0025,
          "symbol": "circle"
         },
         "mode": "markers",
         "name": "30.0",
         "orientation": "v",
         "showlegend": true,
         "type": "scatter",
         "x": [
          65932.26
         ],
         "xaxis": "x",
         "y": [
          24
         ],
         "yaxis": "y"
        },
        {
         "hovertemplate": "region_code=16.0<br>salary=%{x}<br>age=%{y}<br>Male=%{marker.size}<extra></extra>",
         "legendgroup": "16.0",
         "marker": {
          "color": "#00cc96",
          "size": [
           1
          ],
          "sizemode": "area",
          "sizeref": 0.0025,
          "symbol": "circle"
         },
         "mode": "markers",
         "name": "16.0",
         "orientation": "v",
         "showlegend": true,
         "type": "scatter",
         "x": [
          67490.4
         ],
         "xaxis": "x",
         "y": [
          24
         ],
         "yaxis": "y"
        },
        {
         "hovertemplate": "region_code=37.0<br>salary=%{x}<br>age=%{y}<br>Male=%{marker.size}<extra></extra>",
         "legendgroup": "37.0",
         "marker": {
          "color": "#ab63fa",
          "size": [
           1
          ],
          "sizemode": "area",
          "sizeref": 0.0025,
          "symbol": "circle"
         },
         "mode": "markers",
         "name": "37.0",
         "orientation": "v",
         "showlegend": true,
         "type": "scatter",
         "x": [
          86346.95999999999
         ],
         "xaxis": "x",
         "y": [
          23
         ],
         "yaxis": "y"
        },
        {
         "hovertemplate": "region_code=49.0<br>salary=%{x}<br>age=%{y}<br>Male=%{marker.size}<extra></extra>",
         "legendgroup": "49.0",
         "marker": {
          "color": "#FFA15A",
          "size": [
           1
          ],
          "sizemode": "area",
          "sizeref": 0.0025,
          "symbol": "circle"
         },
         "mode": "markers",
         "name": "49.0",
         "orientation": "v",
         "showlegend": true,
         "type": "scatter",
         "x": [
          73414.65
         ],
         "xaxis": "x",
         "y": [
          23
         ],
         "yaxis": "y"
        },
        {
         "hovertemplate": "region_code=13.0<br>salary=%{x}<br>age=%{y}<br>Male=%{marker.size}<extra></extra>",
         "legendgroup": "13.0",
         "marker": {
          "color": "#19d3f3",
          "size": [
           1
          ],
          "sizemode": "area",
          "sizeref": 0.0025,
          "symbol": "circle"
         },
         "mode": "markers",
         "name": "13.0",
         "orientation": "v",
         "showlegend": true,
         "type": "scatter",
         "x": [
          60880.05
         ],
         "xaxis": "x",
         "y": [
          23
         ],
         "yaxis": "y"
        },
        {
         "hovertemplate": "region_code=15.0<br>salary=%{x}<br>age=%{y}<br>Male=%{marker.size}<extra></extra>",
         "legendgroup": "15.0",
         "marker": {
          "color": "#FF6692",
          "size": [
           1
          ],
          "sizemode": "area",
          "sizeref": 0.0025,
          "symbol": "circle"
         },
         "mode": "markers",
         "name": "15.0",
         "orientation": "v",
         "showlegend": true,
         "type": "scatter",
         "x": [
          94066.14
         ],
         "xaxis": "x",
         "y": [
          23
         ],
         "yaxis": "y"
        },
        {
         "hovertemplate": "region_code=6.0<br>salary=%{x}<br>age=%{y}<br>Male=%{marker.size}<extra></extra>",
         "legendgroup": "6.0",
         "marker": {
          "color": "#B6E880",
          "size": [
           1
          ],
          "sizemode": "area",
          "sizeref": 0.0025,
          "symbol": "circle"
         },
         "mode": "markers",
         "name": "6.0",
         "orientation": "v",
         "showlegend": true,
         "type": "scatter",
         "x": [
          60310.89
         ],
         "xaxis": "x",
         "y": [
          23
         ],
         "yaxis": "y"
        },
        {
         "hovertemplate": "region_code=17.0<br>salary=%{x}<br>age=%{y}<br>Male=%{marker.size}<extra></extra>",
         "legendgroup": "17.0",
         "marker": {
          "color": "#FF97FF",
          "size": [
           1
          ],
          "sizemode": "area",
          "sizeref": 0.0025,
          "symbol": "circle"
         },
         "mode": "markers",
         "name": "17.0",
         "orientation": "v",
         "showlegend": true,
         "type": "scatter",
         "x": [
          108188.76
         ],
         "xaxis": "x",
         "y": [
          23
         ],
         "yaxis": "y"
        },
        {
         "hovertemplate": "region_code=2.0<br>salary=%{x}<br>age=%{y}<br>Male=%{marker.size}<extra></extra>",
         "legendgroup": "2.0",
         "marker": {
          "color": "#FECB52",
          "size": [
           1
          ],
          "sizemode": "area",
          "sizeref": 0.0025,
          "symbol": "circle"
         },
         "mode": "markers",
         "name": "2.0",
         "orientation": "v",
         "showlegend": true,
         "type": "scatter",
         "x": [
          76811.73
         ],
         "xaxis": "x",
         "y": [
          23
         ],
         "yaxis": "y"
        },
        {
         "hovertemplate": "region_code=50.0<br>salary=%{x}<br>age=%{y}<br>Male=%{marker.size}<extra></extra>",
         "legendgroup": "50.0",
         "marker": {
          "color": "#636efa",
          "size": [
           0
          ],
          "sizemode": "area",
          "sizeref": 0.0025,
          "symbol": "circle"
         },
         "mode": "markers",
         "name": "50.0",
         "orientation": "v",
         "showlegend": true,
         "type": "scatter",
         "x": [
          96796.23
         ],
         "xaxis": "x",
         "y": [
          23
         ],
         "yaxis": "y"
        },
        {
         "hovertemplate": "region_code=5.0<br>salary=%{x}<br>age=%{y}<br>Male=%{marker.size}<extra></extra>",
         "legendgroup": "5.0",
         "marker": {
          "color": "#EF553B",
          "size": [
           1
          ],
          "sizemode": "area",
          "sizeref": 0.0025,
          "symbol": "circle"
         },
         "mode": "markers",
         "name": "5.0",
         "orientation": "v",
         "showlegend": true,
         "type": "scatter",
         "x": [
          67608.56999999999
         ],
         "xaxis": "x",
         "y": [
          23
         ],
         "yaxis": "y"
        },
        {
         "hovertemplate": "region_code=47.0<br>salary=%{x}<br>age=%{y}<br>Male=%{marker.size}<extra></extra>",
         "legendgroup": "47.0",
         "marker": {
          "color": "#00cc96",
          "size": [
           1
          ],
          "sizemode": "area",
          "sizeref": 0.0025,
          "symbol": "circle"
         },
         "mode": "markers",
         "name": "47.0",
         "orientation": "v",
         "showlegend": true,
         "type": "scatter",
         "x": [
          88935.39
         ],
         "xaxis": "x",
         "y": [
          23
         ],
         "yaxis": "y"
        },
        {
         "hovertemplate": "region_code=22.0<br>salary=%{x}<br>age=%{y}<br>Male=%{marker.size}<extra></extra>",
         "legendgroup": "22.0",
         "marker": {
          "color": "#ab63fa",
          "size": [
           1
          ],
          "sizemode": "area",
          "sizeref": 0.0025,
          "symbol": "circle"
         },
         "mode": "markers",
         "name": "22.0",
         "orientation": "v",
         "showlegend": true,
         "type": "scatter",
         "x": [
          72616.44
         ],
         "xaxis": "x",
         "y": [
          23
         ],
         "yaxis": "y"
        },
        {
         "hovertemplate": "region_code=36.0<br>salary=%{x}<br>age=%{y}<br>Male=%{marker.size}<extra></extra>",
         "legendgroup": "36.0",
         "marker": {
          "color": "#FFA15A",
          "size": [
           1
          ],
          "sizemode": "area",
          "sizeref": 0.0025,
          "symbol": "circle"
         },
         "mode": "markers",
         "name": "36.0",
         "orientation": "v",
         "showlegend": true,
         "type": "scatter",
         "x": [
          96886.86
         ],
         "xaxis": "x",
         "y": [
          23
         ],
         "yaxis": "y"
        },
        {
         "hovertemplate": "region_code=25.0<br>salary=%{x}<br>age=%{y}<br>Male=%{marker.size}<extra></extra>",
         "legendgroup": "25.0",
         "marker": {
          "color": "#19d3f3",
          "size": [
           1
          ],
          "sizemode": "area",
          "sizeref": 0.0025,
          "symbol": "circle"
         },
         "mode": "markers",
         "name": "25.0",
         "orientation": "v",
         "showlegend": true,
         "type": "scatter",
         "x": [
          64152.54
         ],
         "xaxis": "x",
         "y": [
          23
         ],
         "yaxis": "y"
        },
        {
         "hovertemplate": "region_code=26.0<br>salary=%{x}<br>age=%{y}<br>Male=%{marker.size}<extra></extra>",
         "legendgroup": "26.0",
         "marker": {
          "color": "#FF6692",
          "size": [
           1
          ],
          "sizemode": "area",
          "sizeref": 0.0025,
          "symbol": "circle"
         },
         "mode": "markers",
         "name": "26.0",
         "orientation": "v",
         "showlegend": true,
         "type": "scatter",
         "x": [
          85056.24
         ],
         "xaxis": "x",
         "y": [
          23
         ],
         "yaxis": "y"
        },
        {
         "hovertemplate": "region_code=44.0<br>salary=%{x}<br>age=%{y}<br>Male=%{marker.size}<extra></extra>",
         "legendgroup": "44.0",
         "marker": {
          "color": "#B6E880",
          "size": [
           1
          ],
          "sizemode": "area",
          "sizeref": 0.0025,
          "symbol": "circle"
         },
         "mode": "markers",
         "name": "44.0",
         "orientation": "v",
         "showlegend": true,
         "type": "scatter",
         "x": [
          76702.79999999999
         ],
         "xaxis": "x",
         "y": [
          23
         ],
         "yaxis": "y"
        },
        {
         "hovertemplate": "region_code=27.0<br>salary=%{x}<br>age=%{y}<br>Male=%{marker.size}<extra></extra>",
         "legendgroup": "27.0",
         "marker": {
          "color": "#FF97FF",
          "size": [
           1
          ],
          "sizemode": "area",
          "sizeref": 0.0025,
          "symbol": "circle"
         },
         "mode": "markers",
         "name": "27.0",
         "orientation": "v",
         "showlegend": true,
         "type": "scatter",
         "x": [
          64600.71
         ],
         "xaxis": "x",
         "y": [
          23
         ],
         "yaxis": "y"
        },
        {
         "hovertemplate": "region_code=42.0<br>salary=%{x}<br>age=%{y}<br>Male=%{marker.size}<extra></extra>",
         "legendgroup": "42.0",
         "marker": {
          "color": "#FECB52",
          "size": [
           0
          ],
          "sizemode": "area",
          "sizeref": 0.0025,
          "symbol": "circle"
         },
         "mode": "markers",
         "name": "42.0",
         "orientation": "v",
         "showlegend": true,
         "type": "scatter",
         "x": [
          79147.79999999999
         ],
         "xaxis": "x",
         "y": [
          23
         ],
         "yaxis": "y"
        },
        {
         "hovertemplate": "region_code=32.0<br>salary=%{x}<br>age=%{y}<br>Male=%{marker.size}<extra></extra>",
         "legendgroup": "32.0",
         "marker": {
          "color": "#636efa",
          "size": [
           1
          ],
          "sizemode": "area",
          "sizeref": 0.0025,
          "symbol": "circle"
         },
         "mode": "markers",
         "name": "32.0",
         "orientation": "v",
         "showlegend": true,
         "type": "scatter",
         "x": [
          78325.26
         ],
         "xaxis": "x",
         "y": [
          23
         ],
         "yaxis": "y"
        },
        {
         "hovertemplate": "region_code=10.0<br>salary=%{x}<br>age=%{y}<br>Male=%{marker.size}<extra></extra>",
         "legendgroup": "10.0",
         "marker": {
          "color": "#EF553B",
          "size": [
           1
          ],
          "sizemode": "area",
          "sizeref": 0.0025,
          "symbol": "circle"
         },
         "mode": "markers",
         "name": "10.0",
         "orientation": "v",
         "showlegend": true,
         "type": "scatter",
         "x": [
          66398.85
         ],
         "xaxis": "x",
         "y": [
          23
         ],
         "yaxis": "y"
        },
        {
         "hovertemplate": "region_code=34.0<br>salary=%{x}<br>age=%{y}<br>Male=%{marker.size}<extra></extra>",
         "legendgroup": "34.0",
         "marker": {
          "color": "#00cc96",
          "size": [
           1
          ],
          "sizemode": "area",
          "sizeref": 0.0025,
          "symbol": "circle"
         },
         "mode": "markers",
         "name": "34.0",
         "orientation": "v",
         "showlegend": true,
         "type": "scatter",
         "x": [
          84224.01
         ],
         "xaxis": "x",
         "y": [
          23
         ],
         "yaxis": "y"
        }
       ],
       "layout": {
        "barmode": "overlay",
        "height": 600,
        "legend": {
         "itemsizing": "constant",
         "title": {
          "text": "region_code"
         },
         "tracegroupgap": 0
        },
        "margin": {
         "t": 60
        },
        "template": {
         "data": {
          "bar": [
           {
            "error_x": {
             "color": "#2a3f5f"
            },
            "error_y": {
             "color": "#2a3f5f"
            },
            "marker": {
             "line": {
              "color": "#E5ECF6",
              "width": 0.5
             },
             "pattern": {
              "fillmode": "overlay",
              "size": 10,
              "solidity": 0.2
             }
            },
            "type": "bar"
           }
          ],
          "barpolar": [
           {
            "marker": {
             "line": {
              "color": "#E5ECF6",
              "width": 0.5
             },
             "pattern": {
              "fillmode": "overlay",
              "size": 10,
              "solidity": 0.2
             }
            },
            "type": "barpolar"
           }
          ],
          "carpet": [
           {
            "aaxis": {
             "endlinecolor": "#2a3f5f",
             "gridcolor": "white",
             "linecolor": "white",
             "minorgridcolor": "white",
             "startlinecolor": "#2a3f5f"
            },
            "baxis": {
             "endlinecolor": "#2a3f5f",
             "gridcolor": "white",
             "linecolor": "white",
             "minorgridcolor": "white",
             "startlinecolor": "#2a3f5f"
            },
            "type": "carpet"
           }
          ],
          "choropleth": [
           {
            "colorbar": {
             "outlinewidth": 0,
             "ticks": ""
            },
            "type": "choropleth"
           }
          ],
          "contour": [
           {
            "colorbar": {
             "outlinewidth": 0,
             "ticks": ""
            },
            "colorscale": [
             [
              0,
              "#0d0887"
             ],
             [
              0.1111111111111111,
              "#46039f"
             ],
             [
              0.2222222222222222,
              "#7201a8"
             ],
             [
              0.3333333333333333,
              "#9c179e"
             ],
             [
              0.4444444444444444,
              "#bd3786"
             ],
             [
              0.5555555555555556,
              "#d8576b"
             ],
             [
              0.6666666666666666,
              "#ed7953"
             ],
             [
              0.7777777777777778,
              "#fb9f3a"
             ],
             [
              0.8888888888888888,
              "#fdca26"
             ],
             [
              1,
              "#f0f921"
             ]
            ],
            "type": "contour"
           }
          ],
          "contourcarpet": [
           {
            "colorbar": {
             "outlinewidth": 0,
             "ticks": ""
            },
            "type": "contourcarpet"
           }
          ],
          "heatmap": [
           {
            "colorbar": {
             "outlinewidth": 0,
             "ticks": ""
            },
            "colorscale": [
             [
              0,
              "#0d0887"
             ],
             [
              0.1111111111111111,
              "#46039f"
             ],
             [
              0.2222222222222222,
              "#7201a8"
             ],
             [
              0.3333333333333333,
              "#9c179e"
             ],
             [
              0.4444444444444444,
              "#bd3786"
             ],
             [
              0.5555555555555556,
              "#d8576b"
             ],
             [
              0.6666666666666666,
              "#ed7953"
             ],
             [
              0.7777777777777778,
              "#fb9f3a"
             ],
             [
              0.8888888888888888,
              "#fdca26"
             ],
             [
              1,
              "#f0f921"
             ]
            ],
            "type": "heatmap"
           }
          ],
          "heatmapgl": [
           {
            "colorbar": {
             "outlinewidth": 0,
             "ticks": ""
            },
            "colorscale": [
             [
              0,
              "#0d0887"
             ],
             [
              0.1111111111111111,
              "#46039f"
             ],
             [
              0.2222222222222222,
              "#7201a8"
             ],
             [
              0.3333333333333333,
              "#9c179e"
             ],
             [
              0.4444444444444444,
              "#bd3786"
             ],
             [
              0.5555555555555556,
              "#d8576b"
             ],
             [
              0.6666666666666666,
              "#ed7953"
             ],
             [
              0.7777777777777778,
              "#fb9f3a"
             ],
             [
              0.8888888888888888,
              "#fdca26"
             ],
             [
              1,
              "#f0f921"
             ]
            ],
            "type": "heatmapgl"
           }
          ],
          "histogram": [
           {
            "marker": {
             "pattern": {
              "fillmode": "overlay",
              "size": 10,
              "solidity": 0.2
             }
            },
            "type": "histogram"
           }
          ],
          "histogram2d": [
           {
            "colorbar": {
             "outlinewidth": 0,
             "ticks": ""
            },
            "colorscale": [
             [
              0,
              "#0d0887"
             ],
             [
              0.1111111111111111,
              "#46039f"
             ],
             [
              0.2222222222222222,
              "#7201a8"
             ],
             [
              0.3333333333333333,
              "#9c179e"
             ],
             [
              0.4444444444444444,
              "#bd3786"
             ],
             [
              0.5555555555555556,
              "#d8576b"
             ],
             [
              0.6666666666666666,
              "#ed7953"
             ],
             [
              0.7777777777777778,
              "#fb9f3a"
             ],
             [
              0.8888888888888888,
              "#fdca26"
             ],
             [
              1,
              "#f0f921"
             ]
            ],
            "type": "histogram2d"
           }
          ],
          "histogram2dcontour": [
           {
            "colorbar": {
             "outlinewidth": 0,
             "ticks": ""
            },
            "colorscale": [
             [
              0,
              "#0d0887"
             ],
             [
              0.1111111111111111,
              "#46039f"
             ],
             [
              0.2222222222222222,
              "#7201a8"
             ],
             [
              0.3333333333333333,
              "#9c179e"
             ],
             [
              0.4444444444444444,
              "#bd3786"
             ],
             [
              0.5555555555555556,
              "#d8576b"
             ],
             [
              0.6666666666666666,
              "#ed7953"
             ],
             [
              0.7777777777777778,
              "#fb9f3a"
             ],
             [
              0.8888888888888888,
              "#fdca26"
             ],
             [
              1,
              "#f0f921"
             ]
            ],
            "type": "histogram2dcontour"
           }
          ],
          "mesh3d": [
           {
            "colorbar": {
             "outlinewidth": 0,
             "ticks": ""
            },
            "type": "mesh3d"
           }
          ],
          "parcoords": [
           {
            "line": {
             "colorbar": {
              "outlinewidth": 0,
              "ticks": ""
             }
            },
            "type": "parcoords"
           }
          ],
          "pie": [
           {
            "automargin": true,
            "type": "pie"
           }
          ],
          "scatter": [
           {
            "fillpattern": {
             "fillmode": "overlay",
             "size": 10,
             "solidity": 0.2
            },
            "type": "scatter"
           }
          ],
          "scatter3d": [
           {
            "line": {
             "colorbar": {
              "outlinewidth": 0,
              "ticks": ""
             }
            },
            "marker": {
             "colorbar": {
              "outlinewidth": 0,
              "ticks": ""
             }
            },
            "type": "scatter3d"
           }
          ],
          "scattercarpet": [
           {
            "marker": {
             "colorbar": {
              "outlinewidth": 0,
              "ticks": ""
             }
            },
            "type": "scattercarpet"
           }
          ],
          "scattergeo": [
           {
            "marker": {
             "colorbar": {
              "outlinewidth": 0,
              "ticks": ""
             }
            },
            "type": "scattergeo"
           }
          ],
          "scattergl": [
           {
            "marker": {
             "colorbar": {
              "outlinewidth": 0,
              "ticks": ""
             }
            },
            "type": "scattergl"
           }
          ],
          "scattermapbox": [
           {
            "marker": {
             "colorbar": {
              "outlinewidth": 0,
              "ticks": ""
             }
            },
            "type": "scattermapbox"
           }
          ],
          "scatterpolar": [
           {
            "marker": {
             "colorbar": {
              "outlinewidth": 0,
              "ticks": ""
             }
            },
            "type": "scatterpolar"
           }
          ],
          "scatterpolargl": [
           {
            "marker": {
             "colorbar": {
              "outlinewidth": 0,
              "ticks": ""
             }
            },
            "type": "scatterpolargl"
           }
          ],
          "scatterternary": [
           {
            "marker": {
             "colorbar": {
              "outlinewidth": 0,
              "ticks": ""
             }
            },
            "type": "scatterternary"
           }
          ],
          "surface": [
           {
            "colorbar": {
             "outlinewidth": 0,
             "ticks": ""
            },
            "colorscale": [
             [
              0,
              "#0d0887"
             ],
             [
              0.1111111111111111,
              "#46039f"
             ],
             [
              0.2222222222222222,
              "#7201a8"
             ],
             [
              0.3333333333333333,
              "#9c179e"
             ],
             [
              0.4444444444444444,
              "#bd3786"
             ],
             [
              0.5555555555555556,
              "#d8576b"
             ],
             [
              0.6666666666666666,
              "#ed7953"
             ],
             [
              0.7777777777777778,
              "#fb9f3a"
             ],
             [
              0.8888888888888888,
              "#fdca26"
             ],
             [
              1,
              "#f0f921"
             ]
            ],
            "type": "surface"
           }
          ],
          "table": [
           {
            "cells": {
             "fill": {
              "color": "#EBF0F8"
             },
             "line": {
              "color": "white"
             }
            },
            "header": {
             "fill": {
              "color": "#C8D4E3"
             },
             "line": {
              "color": "white"
             }
            },
            "type": "table"
           }
          ]
         },
         "layout": {
          "annotationdefaults": {
           "arrowcolor": "#2a3f5f",
           "arrowhead": 0,
           "arrowwidth": 1
          },
          "autotypenumbers": "strict",
          "coloraxis": {
           "colorbar": {
            "outlinewidth": 0,
            "ticks": ""
           }
          },
          "colorscale": {
           "diverging": [
            [
             0,
             "#8e0152"
            ],
            [
             0.1,
             "#c51b7d"
            ],
            [
             0.2,
             "#de77ae"
            ],
            [
             0.3,
             "#f1b6da"
            ],
            [
             0.4,
             "#fde0ef"
            ],
            [
             0.5,
             "#f7f7f7"
            ],
            [
             0.6,
             "#e6f5d0"
            ],
            [
             0.7,
             "#b8e186"
            ],
            [
             0.8,
             "#7fbc41"
            ],
            [
             0.9,
             "#4d9221"
            ],
            [
             1,
             "#276419"
            ]
           ],
           "sequential": [
            [
             0,
             "#0d0887"
            ],
            [
             0.1111111111111111,
             "#46039f"
            ],
            [
             0.2222222222222222,
             "#7201a8"
            ],
            [
             0.3333333333333333,
             "#9c179e"
            ],
            [
             0.4444444444444444,
             "#bd3786"
            ],
            [
             0.5555555555555556,
             "#d8576b"
            ],
            [
             0.6666666666666666,
             "#ed7953"
            ],
            [
             0.7777777777777778,
             "#fb9f3a"
            ],
            [
             0.8888888888888888,
             "#fdca26"
            ],
            [
             1,
             "#f0f921"
            ]
           ],
           "sequentialminus": [
            [
             0,
             "#0d0887"
            ],
            [
             0.1111111111111111,
             "#46039f"
            ],
            [
             0.2222222222222222,
             "#7201a8"
            ],
            [
             0.3333333333333333,
             "#9c179e"
            ],
            [
             0.4444444444444444,
             "#bd3786"
            ],
            [
             0.5555555555555556,
             "#d8576b"
            ],
            [
             0.6666666666666666,
             "#ed7953"
            ],
            [
             0.7777777777777778,
             "#fb9f3a"
            ],
            [
             0.8888888888888888,
             "#fdca26"
            ],
            [
             1,
             "#f0f921"
            ]
           ]
          },
          "colorway": [
           "#636efa",
           "#EF553B",
           "#00cc96",
           "#ab63fa",
           "#FFA15A",
           "#19d3f3",
           "#FF6692",
           "#B6E880",
           "#FF97FF",
           "#FECB52"
          ],
          "font": {
           "color": "#2a3f5f"
          },
          "geo": {
           "bgcolor": "white",
           "lakecolor": "white",
           "landcolor": "#E5ECF6",
           "showlakes": true,
           "showland": true,
           "subunitcolor": "white"
          },
          "hoverlabel": {
           "align": "left"
          },
          "hovermode": "closest",
          "mapbox": {
           "style": "light"
          },
          "paper_bgcolor": "white",
          "plot_bgcolor": "#E5ECF6",
          "polar": {
           "angularaxis": {
            "gridcolor": "white",
            "linecolor": "white",
            "ticks": ""
           },
           "bgcolor": "#E5ECF6",
           "radialaxis": {
            "gridcolor": "white",
            "linecolor": "white",
            "ticks": ""
           }
          },
          "scene": {
           "xaxis": {
            "backgroundcolor": "#E5ECF6",
            "gridcolor": "white",
            "gridwidth": 2,
            "linecolor": "white",
            "showbackground": true,
            "ticks": "",
            "zerolinecolor": "white"
           },
           "yaxis": {
            "backgroundcolor": "#E5ECF6",
            "gridcolor": "white",
            "gridwidth": 2,
            "linecolor": "white",
            "showbackground": true,
            "ticks": "",
            "zerolinecolor": "white"
           },
           "zaxis": {
            "backgroundcolor": "#E5ECF6",
            "gridcolor": "white",
            "gridwidth": 2,
            "linecolor": "white",
            "showbackground": true,
            "ticks": "",
            "zerolinecolor": "white"
           }
          },
          "shapedefaults": {
           "line": {
            "color": "#2a3f5f"
           }
          },
          "ternary": {
           "aaxis": {
            "gridcolor": "white",
            "linecolor": "white",
            "ticks": ""
           },
           "baxis": {
            "gridcolor": "white",
            "linecolor": "white",
            "ticks": ""
           },
           "bgcolor": "#E5ECF6",
           "caxis": {
            "gridcolor": "white",
            "linecolor": "white",
            "ticks": ""
           }
          },
          "title": {
           "x": 0.05
          },
          "xaxis": {
           "automargin": true,
           "gridcolor": "white",
           "linecolor": "white",
           "ticks": "",
           "title": {
            "standoff": 15
           },
           "zerolinecolor": "white",
           "zerolinewidth": 2
          },
          "yaxis": {
           "automargin": true,
           "gridcolor": "white",
           "linecolor": "white",
           "ticks": "",
           "title": {
            "standoff": 15
           },
           "zerolinecolor": "white",
           "zerolinewidth": 2
          }
         }
        },
        "title": {
         "text": "<b>Title</b>",
         "x": 0.5,
         "xanchor": "center"
        },
        "xaxis": {
         "anchor": "y",
         "domain": [
          0,
          1
         ],
         "title": {
          "text": "salary"
         }
        },
        "yaxis": {
         "anchor": "x",
         "domain": [
          0,
          1
         ],
         "title": {
          "text": "age"
         }
        }
       }
      },
      "text/html": [
       "<div>                            <div id=\"83614460-ddf1-40d4-b5f3-ba35c50d9dde\" class=\"plotly-graph-div\" style=\"height:600px; width:100%;\"></div>            <script type=\"text/javascript\">                require([\"plotly\"], function(Plotly) {                    window.PLOTLYENV=window.PLOTLYENV || {};                                    if (document.getElementById(\"83614460-ddf1-40d4-b5f3-ba35c50d9dde\")) {                    Plotly.newPlot(                        \"83614460-ddf1-40d4-b5f3-ba35c50d9dde\",                        [{\"hovertemplate\":\"region_code=nan<br>salary=%{x}<br>age=%{y}<br>Male=%{marker.size}<extra></extra>\",\"legendgroup\":\"nan\",\"marker\":{\"color\":\"#636efa\",\"size\":[0.0],\"sizemode\":\"area\",\"sizeref\":0.0025,\"symbol\":\"circle\"},\"mode\":\"markers\",\"name\":\"nan\",\"orientation\":\"v\",\"showlegend\":true,\"x\":[114949.44],\"xaxis\":\"x\",\"y\":[40.0],\"yaxis\":\"y\",\"type\":\"scatter\"},{\"hovertemplate\":\"region_code=1.0<br>salary=%{x}<br>age=%{y}<br>Male=%{marker.size}<extra></extra>\",\"legendgroup\":\"1.0\",\"marker\":{\"color\":\"#EF553B\",\"size\":[0.0],\"sizemode\":\"area\",\"sizeref\":0.0025,\"symbol\":\"circle\"},\"mode\":\"markers\",\"name\":\"1.0\",\"orientation\":\"v\",\"showlegend\":true,\"x\":[74453.79000000001],\"xaxis\":\"x\",\"y\":[38.0],\"yaxis\":\"y\",\"type\":\"scatter\"},{\"hovertemplate\":\"region_code=38.0<br>salary=%{x}<br>age=%{y}<br>Male=%{marker.size}<extra></extra>\",\"legendgroup\":\"38.0\",\"marker\":{\"color\":\"#00cc96\",\"size\":[0.0],\"sizemode\":\"area\",\"sizeref\":0.0025,\"symbol\":\"circle\"},\"mode\":\"markers\",\"name\":\"38.0\",\"orientation\":\"v\",\"showlegend\":true,\"x\":[76277.61],\"xaxis\":\"x\",\"y\":[37.0],\"yaxis\":\"y\",\"type\":\"scatter\"},{\"hovertemplate\":\"region_code=48.0<br>salary=%{x}<br>age=%{y}<br>Male=%{marker.size}<extra></extra>\",\"legendgroup\":\"48.0\",\"marker\":{\"color\":\"#ab63fa\",\"size\":[0.0],\"sizemode\":\"area\",\"sizeref\":0.0025,\"symbol\":\"circle\"},\"mode\":\"markers\",\"name\":\"48.0\",\"orientation\":\"v\",\"showlegend\":true,\"x\":[108659.43],\"xaxis\":\"x\",\"y\":[36.0],\"yaxis\":\"y\",\"type\":\"scatter\"},{\"hovertemplate\":\"region_code=20.0<br>salary=%{x}<br>age=%{y}<br>Male=%{marker.size}<extra></extra>\",\"legendgroup\":\"20.0\",\"marker\":{\"color\":\"#FFA15A\",\"size\":[0.0],\"sizemode\":\"area\",\"sizeref\":0.0025,\"symbol\":\"circle\"},\"mode\":\"markers\",\"name\":\"20.0\",\"orientation\":\"v\",\"showlegend\":true,\"x\":[53028.75],\"xaxis\":\"x\",\"y\":[35.0],\"yaxis\":\"y\",\"type\":\"scatter\"},{\"hovertemplate\":\"region_code=31.0<br>salary=%{x}<br>age=%{y}<br>Male=%{marker.size}<extra></extra>\",\"legendgroup\":\"31.0\",\"marker\":{\"color\":\"#19d3f3\",\"size\":[1.0],\"sizemode\":\"area\",\"sizeref\":0.0025,\"symbol\":\"circle\"},\"mode\":\"markers\",\"name\":\"31.0\",\"orientation\":\"v\",\"showlegend\":true,\"x\":[77641.98],\"xaxis\":\"x\",\"y\":[34.0],\"yaxis\":\"y\",\"type\":\"scatter\"},{\"hovertemplate\":\"region_code=51.0<br>salary=%{x}<br>age=%{y}<br>Male=%{marker.size}<extra></extra>\",\"legendgroup\":\"51.0\",\"marker\":{\"color\":\"#FF6692\",\"size\":[0.0],\"sizemode\":\"area\",\"sizeref\":0.0025,\"symbol\":\"circle\"},\"mode\":\"markers\",\"name\":\"51.0\",\"orientation\":\"v\",\"showlegend\":true,\"x\":[124158.42],\"xaxis\":\"x\",\"y\":[34.0],\"yaxis\":\"y\",\"type\":\"scatter\"},{\"hovertemplate\":\"region_code=4.0<br>salary=%{x}<br>age=%{y}<br>Male=%{marker.size}<extra></extra>\",\"legendgroup\":\"4.0\",\"marker\":{\"color\":\"#B6E880\",\"size\":[0.0],\"sizemode\":\"area\",\"sizeref\":0.0025,\"symbol\":\"circle\"},\"mode\":\"markers\",\"name\":\"4.0\",\"orientation\":\"v\",\"showlegend\":true,\"x\":[69529.59],\"xaxis\":\"x\",\"y\":[30.0],\"yaxis\":\"y\",\"type\":\"scatter\"},{\"hovertemplate\":\"region_code=28.0<br>salary=%{x}<br>age=%{y}<br>Male=%{marker.size}<extra></extra>\",\"legendgroup\":\"28.0\",\"marker\":{\"color\":\"#FF97FF\",\"size\":[1.0],\"sizemode\":\"area\",\"sizeref\":0.0025,\"symbol\":\"circle\"},\"mode\":\"markers\",\"name\":\"28.0\",\"orientation\":\"v\",\"showlegend\":true,\"x\":[126762.48],\"xaxis\":\"x\",\"y\":[30.0],\"yaxis\":\"y\",\"type\":\"scatter\"},{\"hovertemplate\":\"region_code=23.0<br>salary=%{x}<br>age=%{y}<br>Male=%{marker.size}<extra></extra>\",\"legendgroup\":\"23.0\",\"marker\":{\"color\":\"#FECB52\",\"size\":[0.0],\"sizemode\":\"area\",\"sizeref\":0.0025,\"symbol\":\"circle\"},\"mode\":\"markers\",\"name\":\"23.0\",\"orientation\":\"v\",\"showlegend\":true,\"x\":[64164.72],\"xaxis\":\"x\",\"y\":[29.0],\"yaxis\":\"y\",\"type\":\"scatter\"},{\"hovertemplate\":\"region_code=7.0<br>salary=%{x}<br>age=%{y}<br>Male=%{marker.size}<extra></extra>\",\"legendgroup\":\"7.0\",\"marker\":{\"color\":\"#636efa\",\"size\":[0.0],\"sizemode\":\"area\",\"sizeref\":0.0025,\"symbol\":\"circle\"},\"mode\":\"markers\",\"name\":\"7.0\",\"orientation\":\"v\",\"showlegend\":true,\"x\":[116585.25],\"xaxis\":\"x\",\"y\":[28.0],\"yaxis\":\"y\",\"type\":\"scatter\"},{\"hovertemplate\":\"region_code=24.0<br>salary=%{x}<br>age=%{y}<br>Male=%{marker.size}<extra></extra>\",\"legendgroup\":\"24.0\",\"marker\":{\"color\":\"#EF553B\",\"size\":[1.0],\"sizemode\":\"area\",\"sizeref\":0.0025,\"symbol\":\"circle\"},\"mode\":\"markers\",\"name\":\"24.0\",\"orientation\":\"v\",\"showlegend\":true,\"x\":[73127.45999999999],\"xaxis\":\"x\",\"y\":[28.0],\"yaxis\":\"y\",\"type\":\"scatter\"},{\"hovertemplate\":\"region_code=3.0<br>salary=%{x}<br>age=%{y}<br>Male=%{marker.size}<extra></extra>\",\"legendgroup\":\"3.0\",\"marker\":{\"color\":\"#00cc96\",\"size\":[0.0],\"sizemode\":\"area\",\"sizeref\":0.0025,\"symbol\":\"circle\"},\"mode\":\"markers\",\"name\":\"3.0\",\"orientation\":\"v\",\"showlegend\":true,\"x\":[63001.98],\"xaxis\":\"x\",\"y\":[27.0],\"yaxis\":\"y\",\"type\":\"scatter\"},{\"hovertemplate\":\"region_code=35.0<br>salary=%{x}<br>age=%{y}<br>Male=%{marker.size}<extra></extra>\",\"legendgroup\":\"35.0\",\"marker\":{\"color\":\"#ab63fa\",\"size\":[0.0],\"sizemode\":\"area\",\"sizeref\":0.0025,\"symbol\":\"circle\"},\"mode\":\"markers\",\"name\":\"35.0\",\"orientation\":\"v\",\"showlegend\":true,\"x\":[77092.31999999999],\"xaxis\":\"x\",\"y\":[27.0],\"yaxis\":\"y\",\"type\":\"scatter\"},{\"hovertemplate\":\"region_code=19.0<br>salary=%{x}<br>age=%{y}<br>Male=%{marker.size}<extra></extra>\",\"legendgroup\":\"19.0\",\"marker\":{\"color\":\"#FFA15A\",\"size\":[0.0],\"sizemode\":\"area\",\"sizeref\":0.0025,\"symbol\":\"circle\"},\"mode\":\"markers\",\"name\":\"19.0\",\"orientation\":\"v\",\"showlegend\":true,\"x\":[91690.26],\"xaxis\":\"x\",\"y\":[27.0],\"yaxis\":\"y\",\"type\":\"scatter\"},{\"hovertemplate\":\"region_code=52.0<br>salary=%{x}<br>age=%{y}<br>Male=%{marker.size}<extra></extra>\",\"legendgroup\":\"52.0\",\"marker\":{\"color\":\"#19d3f3\",\"size\":[0.0],\"sizemode\":\"area\",\"sizeref\":0.0025,\"symbol\":\"circle\"},\"mode\":\"markers\",\"name\":\"52.0\",\"orientation\":\"v\",\"showlegend\":true,\"x\":[114363.99],\"xaxis\":\"x\",\"y\":[27.0],\"yaxis\":\"y\",\"type\":\"scatter\"},{\"hovertemplate\":\"region_code=18.0<br>salary=%{x}<br>age=%{y}<br>Male=%{marker.size}<extra></extra>\",\"legendgroup\":\"18.0\",\"marker\":{\"color\":\"#FF6692\",\"size\":[1.0],\"sizemode\":\"area\",\"sizeref\":0.0025,\"symbol\":\"circle\"},\"mode\":\"markers\",\"name\":\"18.0\",\"orientation\":\"v\",\"showlegend\":true,\"x\":[78106.23],\"xaxis\":\"x\",\"y\":[26.0],\"yaxis\":\"y\",\"type\":\"scatter\"},{\"hovertemplate\":\"region_code=21.0<br>salary=%{x}<br>age=%{y}<br>Male=%{marker.size}<extra></extra>\",\"legendgroup\":\"21.0\",\"marker\":{\"color\":\"#B6E880\",\"size\":[1.0],\"sizemode\":\"area\",\"sizeref\":0.0025,\"symbol\":\"circle\"},\"mode\":\"markers\",\"name\":\"21.0\",\"orientation\":\"v\",\"showlegend\":true,\"x\":[67356.51],\"xaxis\":\"x\",\"y\":[25.0],\"yaxis\":\"y\",\"type\":\"scatter\"},{\"hovertemplate\":\"region_code=29.0<br>salary=%{x}<br>age=%{y}<br>Male=%{marker.size}<extra></extra>\",\"legendgroup\":\"29.0\",\"marker\":{\"color\":\"#FF97FF\",\"size\":[1.0],\"sizemode\":\"area\",\"sizeref\":0.0025,\"symbol\":\"circle\"},\"mode\":\"markers\",\"name\":\"29.0\",\"orientation\":\"v\",\"showlegend\":true,\"x\":[89968.53],\"xaxis\":\"x\",\"y\":[25.0],\"yaxis\":\"y\",\"type\":\"scatter\"},{\"hovertemplate\":\"region_code=41.0<br>salary=%{x}<br>age=%{y}<br>Male=%{marker.size}<extra></extra>\",\"legendgroup\":\"41.0\",\"marker\":{\"color\":\"#FECB52\",\"size\":[1.0],\"sizemode\":\"area\",\"sizeref\":0.0025,\"symbol\":\"circle\"},\"mode\":\"markers\",\"name\":\"41.0\",\"orientation\":\"v\",\"showlegend\":true,\"x\":[86136.03],\"xaxis\":\"x\",\"y\":[25.0],\"yaxis\":\"y\",\"type\":\"scatter\"},{\"hovertemplate\":\"region_code=14.0<br>salary=%{x}<br>age=%{y}<br>Male=%{marker.size}<extra></extra>\",\"legendgroup\":\"14.0\",\"marker\":{\"color\":\"#636efa\",\"size\":[1.0],\"sizemode\":\"area\",\"sizeref\":0.0025,\"symbol\":\"circle\"},\"mode\":\"markers\",\"name\":\"14.0\",\"orientation\":\"v\",\"showlegend\":true,\"x\":[64438.98],\"xaxis\":\"x\",\"y\":[25.0],\"yaxis\":\"y\",\"type\":\"scatter\"},{\"hovertemplate\":\"region_code=39.0<br>salary=%{x}<br>age=%{y}<br>Male=%{marker.size}<extra></extra>\",\"legendgroup\":\"39.0\",\"marker\":{\"color\":\"#EF553B\",\"size\":[0.0],\"sizemode\":\"area\",\"sizeref\":0.0025,\"symbol\":\"circle\"},\"mode\":\"markers\",\"name\":\"39.0\",\"orientation\":\"v\",\"showlegend\":true,\"x\":[89202.0],\"xaxis\":\"x\",\"y\":[25.0],\"yaxis\":\"y\",\"type\":\"scatter\"},{\"hovertemplate\":\"region_code=33.0<br>salary=%{x}<br>age=%{y}<br>Male=%{marker.size}<extra></extra>\",\"legendgroup\":\"33.0\",\"marker\":{\"color\":\"#00cc96\",\"size\":[1.0],\"sizemode\":\"area\",\"sizeref\":0.0025,\"symbol\":\"circle\"},\"mode\":\"markers\",\"name\":\"33.0\",\"orientation\":\"v\",\"showlegend\":true,\"x\":[83582.13],\"xaxis\":\"x\",\"y\":[25.0],\"yaxis\":\"y\",\"type\":\"scatter\"},{\"hovertemplate\":\"region_code=46.0<br>salary=%{x}<br>age=%{y}<br>Male=%{marker.size}<extra></extra>\",\"legendgroup\":\"46.0\",\"marker\":{\"color\":\"#ab63fa\",\"size\":[1.0],\"sizemode\":\"area\",\"sizeref\":0.0025,\"symbol\":\"circle\"},\"mode\":\"markers\",\"name\":\"46.0\",\"orientation\":\"v\",\"showlegend\":true,\"x\":[68052.93000000001],\"xaxis\":\"x\",\"y\":[24.0],\"yaxis\":\"y\",\"type\":\"scatter\"},{\"hovertemplate\":\"region_code=45.0<br>salary=%{x}<br>age=%{y}<br>Male=%{marker.size}<extra></extra>\",\"legendgroup\":\"45.0\",\"marker\":{\"color\":\"#FFA15A\",\"size\":[1.0],\"sizemode\":\"area\",\"sizeref\":0.0025,\"symbol\":\"circle\"},\"mode\":\"markers\",\"name\":\"45.0\",\"orientation\":\"v\",\"showlegend\":true,\"x\":[65672.31],\"xaxis\":\"x\",\"y\":[24.0],\"yaxis\":\"y\",\"type\":\"scatter\"},{\"hovertemplate\":\"region_code=43.0<br>salary=%{x}<br>age=%{y}<br>Male=%{marker.size}<extra></extra>\",\"legendgroup\":\"43.0\",\"marker\":{\"color\":\"#19d3f3\",\"size\":[1.0],\"sizemode\":\"area\",\"sizeref\":0.0025,\"symbol\":\"circle\"},\"mode\":\"markers\",\"name\":\"43.0\",\"orientation\":\"v\",\"showlegend\":true,\"x\":[83784.95999999999],\"xaxis\":\"x\",\"y\":[24.0],\"yaxis\":\"y\",\"type\":\"scatter\"},{\"hovertemplate\":\"region_code=8.0<br>salary=%{x}<br>age=%{y}<br>Male=%{marker.size}<extra></extra>\",\"legendgroup\":\"8.0\",\"marker\":{\"color\":\"#FF6692\",\"size\":[1.0],\"sizemode\":\"area\",\"sizeref\":0.0025,\"symbol\":\"circle\"},\"mode\":\"markers\",\"name\":\"8.0\",\"orientation\":\"v\",\"showlegend\":true,\"x\":[124630.71],\"xaxis\":\"x\",\"y\":[24.0],\"yaxis\":\"y\",\"type\":\"scatter\"},{\"hovertemplate\":\"region_code=40.0<br>salary=%{x}<br>age=%{y}<br>Male=%{marker.size}<extra></extra>\",\"legendgroup\":\"40.0\",\"marker\":{\"color\":\"#B6E880\",\"size\":[1.0],\"sizemode\":\"area\",\"sizeref\":0.0025,\"symbol\":\"circle\"},\"mode\":\"markers\",\"name\":\"40.0\",\"orientation\":\"v\",\"showlegend\":true,\"x\":[89031.20999999998],\"xaxis\":\"x\",\"y\":[24.0],\"yaxis\":\"y\",\"type\":\"scatter\"},{\"hovertemplate\":\"region_code=9.0<br>salary=%{x}<br>age=%{y}<br>Male=%{marker.size}<extra></extra>\",\"legendgroup\":\"9.0\",\"marker\":{\"color\":\"#FF97FF\",\"size\":[1.0],\"sizemode\":\"area\",\"sizeref\":0.0025,\"symbol\":\"circle\"},\"mode\":\"markers\",\"name\":\"9.0\",\"orientation\":\"v\",\"showlegend\":true,\"x\":[87680.88],\"xaxis\":\"x\",\"y\":[24.0],\"yaxis\":\"y\",\"type\":\"scatter\"},{\"hovertemplate\":\"region_code=11.0<br>salary=%{x}<br>age=%{y}<br>Male=%{marker.size}<extra></extra>\",\"legendgroup\":\"11.0\",\"marker\":{\"color\":\"#FECB52\",\"size\":[1.0],\"sizemode\":\"area\",\"sizeref\":0.0025,\"symbol\":\"circle\"},\"mode\":\"markers\",\"name\":\"11.0\",\"orientation\":\"v\",\"showlegend\":true,\"x\":[75568.29000000001],\"xaxis\":\"x\",\"y\":[24.0],\"yaxis\":\"y\",\"type\":\"scatter\"},{\"hovertemplate\":\"region_code=12.0<br>salary=%{x}<br>age=%{y}<br>Male=%{marker.size}<extra></extra>\",\"legendgroup\":\"12.0\",\"marker\":{\"color\":\"#636efa\",\"size\":[1.0],\"sizemode\":\"area\",\"sizeref\":0.0025,\"symbol\":\"circle\"},\"mode\":\"markers\",\"name\":\"12.0\",\"orientation\":\"v\",\"showlegend\":true,\"x\":[64863.84],\"xaxis\":\"x\",\"y\":[24.0],\"yaxis\":\"y\",\"type\":\"scatter\"},{\"hovertemplate\":\"region_code=30.0<br>salary=%{x}<br>age=%{y}<br>Male=%{marker.size}<extra></extra>\",\"legendgroup\":\"30.0\",\"marker\":{\"color\":\"#EF553B\",\"size\":[1.0],\"sizemode\":\"area\",\"sizeref\":0.0025,\"symbol\":\"circle\"},\"mode\":\"markers\",\"name\":\"30.0\",\"orientation\":\"v\",\"showlegend\":true,\"x\":[65932.26],\"xaxis\":\"x\",\"y\":[24.0],\"yaxis\":\"y\",\"type\":\"scatter\"},{\"hovertemplate\":\"region_code=16.0<br>salary=%{x}<br>age=%{y}<br>Male=%{marker.size}<extra></extra>\",\"legendgroup\":\"16.0\",\"marker\":{\"color\":\"#00cc96\",\"size\":[1.0],\"sizemode\":\"area\",\"sizeref\":0.0025,\"symbol\":\"circle\"},\"mode\":\"markers\",\"name\":\"16.0\",\"orientation\":\"v\",\"showlegend\":true,\"x\":[67490.4],\"xaxis\":\"x\",\"y\":[24.0],\"yaxis\":\"y\",\"type\":\"scatter\"},{\"hovertemplate\":\"region_code=37.0<br>salary=%{x}<br>age=%{y}<br>Male=%{marker.size}<extra></extra>\",\"legendgroup\":\"37.0\",\"marker\":{\"color\":\"#ab63fa\",\"size\":[1.0],\"sizemode\":\"area\",\"sizeref\":0.0025,\"symbol\":\"circle\"},\"mode\":\"markers\",\"name\":\"37.0\",\"orientation\":\"v\",\"showlegend\":true,\"x\":[86346.95999999999],\"xaxis\":\"x\",\"y\":[23.0],\"yaxis\":\"y\",\"type\":\"scatter\"},{\"hovertemplate\":\"region_code=49.0<br>salary=%{x}<br>age=%{y}<br>Male=%{marker.size}<extra></extra>\",\"legendgroup\":\"49.0\",\"marker\":{\"color\":\"#FFA15A\",\"size\":[1.0],\"sizemode\":\"area\",\"sizeref\":0.0025,\"symbol\":\"circle\"},\"mode\":\"markers\",\"name\":\"49.0\",\"orientation\":\"v\",\"showlegend\":true,\"x\":[73414.65],\"xaxis\":\"x\",\"y\":[23.0],\"yaxis\":\"y\",\"type\":\"scatter\"},{\"hovertemplate\":\"region_code=13.0<br>salary=%{x}<br>age=%{y}<br>Male=%{marker.size}<extra></extra>\",\"legendgroup\":\"13.0\",\"marker\":{\"color\":\"#19d3f3\",\"size\":[1.0],\"sizemode\":\"area\",\"sizeref\":0.0025,\"symbol\":\"circle\"},\"mode\":\"markers\",\"name\":\"13.0\",\"orientation\":\"v\",\"showlegend\":true,\"x\":[60880.05],\"xaxis\":\"x\",\"y\":[23.0],\"yaxis\":\"y\",\"type\":\"scatter\"},{\"hovertemplate\":\"region_code=15.0<br>salary=%{x}<br>age=%{y}<br>Male=%{marker.size}<extra></extra>\",\"legendgroup\":\"15.0\",\"marker\":{\"color\":\"#FF6692\",\"size\":[1.0],\"sizemode\":\"area\",\"sizeref\":0.0025,\"symbol\":\"circle\"},\"mode\":\"markers\",\"name\":\"15.0\",\"orientation\":\"v\",\"showlegend\":true,\"x\":[94066.14],\"xaxis\":\"x\",\"y\":[23.0],\"yaxis\":\"y\",\"type\":\"scatter\"},{\"hovertemplate\":\"region_code=6.0<br>salary=%{x}<br>age=%{y}<br>Male=%{marker.size}<extra></extra>\",\"legendgroup\":\"6.0\",\"marker\":{\"color\":\"#B6E880\",\"size\":[1.0],\"sizemode\":\"area\",\"sizeref\":0.0025,\"symbol\":\"circle\"},\"mode\":\"markers\",\"name\":\"6.0\",\"orientation\":\"v\",\"showlegend\":true,\"x\":[60310.89],\"xaxis\":\"x\",\"y\":[23.0],\"yaxis\":\"y\",\"type\":\"scatter\"},{\"hovertemplate\":\"region_code=17.0<br>salary=%{x}<br>age=%{y}<br>Male=%{marker.size}<extra></extra>\",\"legendgroup\":\"17.0\",\"marker\":{\"color\":\"#FF97FF\",\"size\":[1.0],\"sizemode\":\"area\",\"sizeref\":0.0025,\"symbol\":\"circle\"},\"mode\":\"markers\",\"name\":\"17.0\",\"orientation\":\"v\",\"showlegend\":true,\"x\":[108188.76],\"xaxis\":\"x\",\"y\":[23.0],\"yaxis\":\"y\",\"type\":\"scatter\"},{\"hovertemplate\":\"region_code=2.0<br>salary=%{x}<br>age=%{y}<br>Male=%{marker.size}<extra></extra>\",\"legendgroup\":\"2.0\",\"marker\":{\"color\":\"#FECB52\",\"size\":[1.0],\"sizemode\":\"area\",\"sizeref\":0.0025,\"symbol\":\"circle\"},\"mode\":\"markers\",\"name\":\"2.0\",\"orientation\":\"v\",\"showlegend\":true,\"x\":[76811.73],\"xaxis\":\"x\",\"y\":[23.0],\"yaxis\":\"y\",\"type\":\"scatter\"},{\"hovertemplate\":\"region_code=50.0<br>salary=%{x}<br>age=%{y}<br>Male=%{marker.size}<extra></extra>\",\"legendgroup\":\"50.0\",\"marker\":{\"color\":\"#636efa\",\"size\":[0.0],\"sizemode\":\"area\",\"sizeref\":0.0025,\"symbol\":\"circle\"},\"mode\":\"markers\",\"name\":\"50.0\",\"orientation\":\"v\",\"showlegend\":true,\"x\":[96796.23],\"xaxis\":\"x\",\"y\":[23.0],\"yaxis\":\"y\",\"type\":\"scatter\"},{\"hovertemplate\":\"region_code=5.0<br>salary=%{x}<br>age=%{y}<br>Male=%{marker.size}<extra></extra>\",\"legendgroup\":\"5.0\",\"marker\":{\"color\":\"#EF553B\",\"size\":[1.0],\"sizemode\":\"area\",\"sizeref\":0.0025,\"symbol\":\"circle\"},\"mode\":\"markers\",\"name\":\"5.0\",\"orientation\":\"v\",\"showlegend\":true,\"x\":[67608.56999999999],\"xaxis\":\"x\",\"y\":[23.0],\"yaxis\":\"y\",\"type\":\"scatter\"},{\"hovertemplate\":\"region_code=47.0<br>salary=%{x}<br>age=%{y}<br>Male=%{marker.size}<extra></extra>\",\"legendgroup\":\"47.0\",\"marker\":{\"color\":\"#00cc96\",\"size\":[1.0],\"sizemode\":\"area\",\"sizeref\":0.0025,\"symbol\":\"circle\"},\"mode\":\"markers\",\"name\":\"47.0\",\"orientation\":\"v\",\"showlegend\":true,\"x\":[88935.39],\"xaxis\":\"x\",\"y\":[23.0],\"yaxis\":\"y\",\"type\":\"scatter\"},{\"hovertemplate\":\"region_code=22.0<br>salary=%{x}<br>age=%{y}<br>Male=%{marker.size}<extra></extra>\",\"legendgroup\":\"22.0\",\"marker\":{\"color\":\"#ab63fa\",\"size\":[1.0],\"sizemode\":\"area\",\"sizeref\":0.0025,\"symbol\":\"circle\"},\"mode\":\"markers\",\"name\":\"22.0\",\"orientation\":\"v\",\"showlegend\":true,\"x\":[72616.44],\"xaxis\":\"x\",\"y\":[23.0],\"yaxis\":\"y\",\"type\":\"scatter\"},{\"hovertemplate\":\"region_code=36.0<br>salary=%{x}<br>age=%{y}<br>Male=%{marker.size}<extra></extra>\",\"legendgroup\":\"36.0\",\"marker\":{\"color\":\"#FFA15A\",\"size\":[1.0],\"sizemode\":\"area\",\"sizeref\":0.0025,\"symbol\":\"circle\"},\"mode\":\"markers\",\"name\":\"36.0\",\"orientation\":\"v\",\"showlegend\":true,\"x\":[96886.86],\"xaxis\":\"x\",\"y\":[23.0],\"yaxis\":\"y\",\"type\":\"scatter\"},{\"hovertemplate\":\"region_code=25.0<br>salary=%{x}<br>age=%{y}<br>Male=%{marker.size}<extra></extra>\",\"legendgroup\":\"25.0\",\"marker\":{\"color\":\"#19d3f3\",\"size\":[1.0],\"sizemode\":\"area\",\"sizeref\":0.0025,\"symbol\":\"circle\"},\"mode\":\"markers\",\"name\":\"25.0\",\"orientation\":\"v\",\"showlegend\":true,\"x\":[64152.54],\"xaxis\":\"x\",\"y\":[23.0],\"yaxis\":\"y\",\"type\":\"scatter\"},{\"hovertemplate\":\"region_code=26.0<br>salary=%{x}<br>age=%{y}<br>Male=%{marker.size}<extra></extra>\",\"legendgroup\":\"26.0\",\"marker\":{\"color\":\"#FF6692\",\"size\":[1.0],\"sizemode\":\"area\",\"sizeref\":0.0025,\"symbol\":\"circle\"},\"mode\":\"markers\",\"name\":\"26.0\",\"orientation\":\"v\",\"showlegend\":true,\"x\":[85056.24],\"xaxis\":\"x\",\"y\":[23.0],\"yaxis\":\"y\",\"type\":\"scatter\"},{\"hovertemplate\":\"region_code=44.0<br>salary=%{x}<br>age=%{y}<br>Male=%{marker.size}<extra></extra>\",\"legendgroup\":\"44.0\",\"marker\":{\"color\":\"#B6E880\",\"size\":[1.0],\"sizemode\":\"area\",\"sizeref\":0.0025,\"symbol\":\"circle\"},\"mode\":\"markers\",\"name\":\"44.0\",\"orientation\":\"v\",\"showlegend\":true,\"x\":[76702.79999999999],\"xaxis\":\"x\",\"y\":[23.0],\"yaxis\":\"y\",\"type\":\"scatter\"},{\"hovertemplate\":\"region_code=27.0<br>salary=%{x}<br>age=%{y}<br>Male=%{marker.size}<extra></extra>\",\"legendgroup\":\"27.0\",\"marker\":{\"color\":\"#FF97FF\",\"size\":[1.0],\"sizemode\":\"area\",\"sizeref\":0.0025,\"symbol\":\"circle\"},\"mode\":\"markers\",\"name\":\"27.0\",\"orientation\":\"v\",\"showlegend\":true,\"x\":[64600.71],\"xaxis\":\"x\",\"y\":[23.0],\"yaxis\":\"y\",\"type\":\"scatter\"},{\"hovertemplate\":\"region_code=42.0<br>salary=%{x}<br>age=%{y}<br>Male=%{marker.size}<extra></extra>\",\"legendgroup\":\"42.0\",\"marker\":{\"color\":\"#FECB52\",\"size\":[0.0],\"sizemode\":\"area\",\"sizeref\":0.0025,\"symbol\":\"circle\"},\"mode\":\"markers\",\"name\":\"42.0\",\"orientation\":\"v\",\"showlegend\":true,\"x\":[79147.79999999999],\"xaxis\":\"x\",\"y\":[23.0],\"yaxis\":\"y\",\"type\":\"scatter\"},{\"hovertemplate\":\"region_code=32.0<br>salary=%{x}<br>age=%{y}<br>Male=%{marker.size}<extra></extra>\",\"legendgroup\":\"32.0\",\"marker\":{\"color\":\"#636efa\",\"size\":[1.0],\"sizemode\":\"area\",\"sizeref\":0.0025,\"symbol\":\"circle\"},\"mode\":\"markers\",\"name\":\"32.0\",\"orientation\":\"v\",\"showlegend\":true,\"x\":[78325.26],\"xaxis\":\"x\",\"y\":[23.0],\"yaxis\":\"y\",\"type\":\"scatter\"},{\"hovertemplate\":\"region_code=10.0<br>salary=%{x}<br>age=%{y}<br>Male=%{marker.size}<extra></extra>\",\"legendgroup\":\"10.0\",\"marker\":{\"color\":\"#EF553B\",\"size\":[1.0],\"sizemode\":\"area\",\"sizeref\":0.0025,\"symbol\":\"circle\"},\"mode\":\"markers\",\"name\":\"10.0\",\"orientation\":\"v\",\"showlegend\":true,\"x\":[66398.85],\"xaxis\":\"x\",\"y\":[23.0],\"yaxis\":\"y\",\"type\":\"scatter\"},{\"hovertemplate\":\"region_code=34.0<br>salary=%{x}<br>age=%{y}<br>Male=%{marker.size}<extra></extra>\",\"legendgroup\":\"34.0\",\"marker\":{\"color\":\"#00cc96\",\"size\":[1.0],\"sizemode\":\"area\",\"sizeref\":0.0025,\"symbol\":\"circle\"},\"mode\":\"markers\",\"name\":\"34.0\",\"orientation\":\"v\",\"showlegend\":true,\"x\":[84224.01],\"xaxis\":\"x\",\"y\":[23.0],\"yaxis\":\"y\",\"type\":\"scatter\"}],                        {\"template\":{\"data\":{\"histogram2dcontour\":[{\"type\":\"histogram2dcontour\",\"colorbar\":{\"outlinewidth\":0,\"ticks\":\"\"},\"colorscale\":[[0.0,\"#0d0887\"],[0.1111111111111111,\"#46039f\"],[0.2222222222222222,\"#7201a8\"],[0.3333333333333333,\"#9c179e\"],[0.4444444444444444,\"#bd3786\"],[0.5555555555555556,\"#d8576b\"],[0.6666666666666666,\"#ed7953\"],[0.7777777777777778,\"#fb9f3a\"],[0.8888888888888888,\"#fdca26\"],[1.0,\"#f0f921\"]]}],\"choropleth\":[{\"type\":\"choropleth\",\"colorbar\":{\"outlinewidth\":0,\"ticks\":\"\"}}],\"histogram2d\":[{\"type\":\"histogram2d\",\"colorbar\":{\"outlinewidth\":0,\"ticks\":\"\"},\"colorscale\":[[0.0,\"#0d0887\"],[0.1111111111111111,\"#46039f\"],[0.2222222222222222,\"#7201a8\"],[0.3333333333333333,\"#9c179e\"],[0.4444444444444444,\"#bd3786\"],[0.5555555555555556,\"#d8576b\"],[0.6666666666666666,\"#ed7953\"],[0.7777777777777778,\"#fb9f3a\"],[0.8888888888888888,\"#fdca26\"],[1.0,\"#f0f921\"]]}],\"heatmap\":[{\"type\":\"heatmap\",\"colorbar\":{\"outlinewidth\":0,\"ticks\":\"\"},\"colorscale\":[[0.0,\"#0d0887\"],[0.1111111111111111,\"#46039f\"],[0.2222222222222222,\"#7201a8\"],[0.3333333333333333,\"#9c179e\"],[0.4444444444444444,\"#bd3786\"],[0.5555555555555556,\"#d8576b\"],[0.6666666666666666,\"#ed7953\"],[0.7777777777777778,\"#fb9f3a\"],[0.8888888888888888,\"#fdca26\"],[1.0,\"#f0f921\"]]}],\"heatmapgl\":[{\"type\":\"heatmapgl\",\"colorbar\":{\"outlinewidth\":0,\"ticks\":\"\"},\"colorscale\":[[0.0,\"#0d0887\"],[0.1111111111111111,\"#46039f\"],[0.2222222222222222,\"#7201a8\"],[0.3333333333333333,\"#9c179e\"],[0.4444444444444444,\"#bd3786\"],[0.5555555555555556,\"#d8576b\"],[0.6666666666666666,\"#ed7953\"],[0.7777777777777778,\"#fb9f3a\"],[0.8888888888888888,\"#fdca26\"],[1.0,\"#f0f921\"]]}],\"contourcarpet\":[{\"type\":\"contourcarpet\",\"colorbar\":{\"outlinewidth\":0,\"ticks\":\"\"}}],\"contour\":[{\"type\":\"contour\",\"colorbar\":{\"outlinewidth\":0,\"ticks\":\"\"},\"colorscale\":[[0.0,\"#0d0887\"],[0.1111111111111111,\"#46039f\"],[0.2222222222222222,\"#7201a8\"],[0.3333333333333333,\"#9c179e\"],[0.4444444444444444,\"#bd3786\"],[0.5555555555555556,\"#d8576b\"],[0.6666666666666666,\"#ed7953\"],[0.7777777777777778,\"#fb9f3a\"],[0.8888888888888888,\"#fdca26\"],[1.0,\"#f0f921\"]]}],\"surface\":[{\"type\":\"surface\",\"colorbar\":{\"outlinewidth\":0,\"ticks\":\"\"},\"colorscale\":[[0.0,\"#0d0887\"],[0.1111111111111111,\"#46039f\"],[0.2222222222222222,\"#7201a8\"],[0.3333333333333333,\"#9c179e\"],[0.4444444444444444,\"#bd3786\"],[0.5555555555555556,\"#d8576b\"],[0.6666666666666666,\"#ed7953\"],[0.7777777777777778,\"#fb9f3a\"],[0.8888888888888888,\"#fdca26\"],[1.0,\"#f0f921\"]]}],\"mesh3d\":[{\"type\":\"mesh3d\",\"colorbar\":{\"outlinewidth\":0,\"ticks\":\"\"}}],\"scatter\":[{\"fillpattern\":{\"fillmode\":\"overlay\",\"size\":10,\"solidity\":0.2},\"type\":\"scatter\"}],\"parcoords\":[{\"type\":\"parcoords\",\"line\":{\"colorbar\":{\"outlinewidth\":0,\"ticks\":\"\"}}}],\"scatterpolargl\":[{\"type\":\"scatterpolargl\",\"marker\":{\"colorbar\":{\"outlinewidth\":0,\"ticks\":\"\"}}}],\"bar\":[{\"error_x\":{\"color\":\"#2a3f5f\"},\"error_y\":{\"color\":\"#2a3f5f\"},\"marker\":{\"line\":{\"color\":\"#E5ECF6\",\"width\":0.5},\"pattern\":{\"fillmode\":\"overlay\",\"size\":10,\"solidity\":0.2}},\"type\":\"bar\"}],\"scattergeo\":[{\"type\":\"scattergeo\",\"marker\":{\"colorbar\":{\"outlinewidth\":0,\"ticks\":\"\"}}}],\"scatterpolar\":[{\"type\":\"scatterpolar\",\"marker\":{\"colorbar\":{\"outlinewidth\":0,\"ticks\":\"\"}}}],\"histogram\":[{\"marker\":{\"pattern\":{\"fillmode\":\"overlay\",\"size\":10,\"solidity\":0.2}},\"type\":\"histogram\"}],\"scattergl\":[{\"type\":\"scattergl\",\"marker\":{\"colorbar\":{\"outlinewidth\":0,\"ticks\":\"\"}}}],\"scatter3d\":[{\"type\":\"scatter3d\",\"line\":{\"colorbar\":{\"outlinewidth\":0,\"ticks\":\"\"}},\"marker\":{\"colorbar\":{\"outlinewidth\":0,\"ticks\":\"\"}}}],\"scattermapbox\":[{\"type\":\"scattermapbox\",\"marker\":{\"colorbar\":{\"outlinewidth\":0,\"ticks\":\"\"}}}],\"scatterternary\":[{\"type\":\"scatterternary\",\"marker\":{\"colorbar\":{\"outlinewidth\":0,\"ticks\":\"\"}}}],\"scattercarpet\":[{\"type\":\"scattercarpet\",\"marker\":{\"colorbar\":{\"outlinewidth\":0,\"ticks\":\"\"}}}],\"carpet\":[{\"aaxis\":{\"endlinecolor\":\"#2a3f5f\",\"gridcolor\":\"white\",\"linecolor\":\"white\",\"minorgridcolor\":\"white\",\"startlinecolor\":\"#2a3f5f\"},\"baxis\":{\"endlinecolor\":\"#2a3f5f\",\"gridcolor\":\"white\",\"linecolor\":\"white\",\"minorgridcolor\":\"white\",\"startlinecolor\":\"#2a3f5f\"},\"type\":\"carpet\"}],\"table\":[{\"cells\":{\"fill\":{\"color\":\"#EBF0F8\"},\"line\":{\"color\":\"white\"}},\"header\":{\"fill\":{\"color\":\"#C8D4E3\"},\"line\":{\"color\":\"white\"}},\"type\":\"table\"}],\"barpolar\":[{\"marker\":{\"line\":{\"color\":\"#E5ECF6\",\"width\":0.5},\"pattern\":{\"fillmode\":\"overlay\",\"size\":10,\"solidity\":0.2}},\"type\":\"barpolar\"}],\"pie\":[{\"automargin\":true,\"type\":\"pie\"}]},\"layout\":{\"autotypenumbers\":\"strict\",\"colorway\":[\"#636efa\",\"#EF553B\",\"#00cc96\",\"#ab63fa\",\"#FFA15A\",\"#19d3f3\",\"#FF6692\",\"#B6E880\",\"#FF97FF\",\"#FECB52\"],\"font\":{\"color\":\"#2a3f5f\"},\"hovermode\":\"closest\",\"hoverlabel\":{\"align\":\"left\"},\"paper_bgcolor\":\"white\",\"plot_bgcolor\":\"#E5ECF6\",\"polar\":{\"bgcolor\":\"#E5ECF6\",\"angularaxis\":{\"gridcolor\":\"white\",\"linecolor\":\"white\",\"ticks\":\"\"},\"radialaxis\":{\"gridcolor\":\"white\",\"linecolor\":\"white\",\"ticks\":\"\"}},\"ternary\":{\"bgcolor\":\"#E5ECF6\",\"aaxis\":{\"gridcolor\":\"white\",\"linecolor\":\"white\",\"ticks\":\"\"},\"baxis\":{\"gridcolor\":\"white\",\"linecolor\":\"white\",\"ticks\":\"\"},\"caxis\":{\"gridcolor\":\"white\",\"linecolor\":\"white\",\"ticks\":\"\"}},\"coloraxis\":{\"colorbar\":{\"outlinewidth\":0,\"ticks\":\"\"}},\"colorscale\":{\"sequential\":[[0.0,\"#0d0887\"],[0.1111111111111111,\"#46039f\"],[0.2222222222222222,\"#7201a8\"],[0.3333333333333333,\"#9c179e\"],[0.4444444444444444,\"#bd3786\"],[0.5555555555555556,\"#d8576b\"],[0.6666666666666666,\"#ed7953\"],[0.7777777777777778,\"#fb9f3a\"],[0.8888888888888888,\"#fdca26\"],[1.0,\"#f0f921\"]],\"sequentialminus\":[[0.0,\"#0d0887\"],[0.1111111111111111,\"#46039f\"],[0.2222222222222222,\"#7201a8\"],[0.3333333333333333,\"#9c179e\"],[0.4444444444444444,\"#bd3786\"],[0.5555555555555556,\"#d8576b\"],[0.6666666666666666,\"#ed7953\"],[0.7777777777777778,\"#fb9f3a\"],[0.8888888888888888,\"#fdca26\"],[1.0,\"#f0f921\"]],\"diverging\":[[0,\"#8e0152\"],[0.1,\"#c51b7d\"],[0.2,\"#de77ae\"],[0.3,\"#f1b6da\"],[0.4,\"#fde0ef\"],[0.5,\"#f7f7f7\"],[0.6,\"#e6f5d0\"],[0.7,\"#b8e186\"],[0.8,\"#7fbc41\"],[0.9,\"#4d9221\"],[1,\"#276419\"]]},\"xaxis\":{\"gridcolor\":\"white\",\"linecolor\":\"white\",\"ticks\":\"\",\"title\":{\"standoff\":15},\"zerolinecolor\":\"white\",\"automargin\":true,\"zerolinewidth\":2},\"yaxis\":{\"gridcolor\":\"white\",\"linecolor\":\"white\",\"ticks\":\"\",\"title\":{\"standoff\":15},\"zerolinecolor\":\"white\",\"automargin\":true,\"zerolinewidth\":2},\"scene\":{\"xaxis\":{\"backgroundcolor\":\"#E5ECF6\",\"gridcolor\":\"white\",\"linecolor\":\"white\",\"showbackground\":true,\"ticks\":\"\",\"zerolinecolor\":\"white\",\"gridwidth\":2},\"yaxis\":{\"backgroundcolor\":\"#E5ECF6\",\"gridcolor\":\"white\",\"linecolor\":\"white\",\"showbackground\":true,\"ticks\":\"\",\"zerolinecolor\":\"white\",\"gridwidth\":2},\"zaxis\":{\"backgroundcolor\":\"#E5ECF6\",\"gridcolor\":\"white\",\"linecolor\":\"white\",\"showbackground\":true,\"ticks\":\"\",\"zerolinecolor\":\"white\",\"gridwidth\":2}},\"shapedefaults\":{\"line\":{\"color\":\"#2a3f5f\"}},\"annotationdefaults\":{\"arrowcolor\":\"#2a3f5f\",\"arrowhead\":0,\"arrowwidth\":1},\"geo\":{\"bgcolor\":\"white\",\"landcolor\":\"#E5ECF6\",\"subunitcolor\":\"white\",\"showland\":true,\"showlakes\":true,\"lakecolor\":\"white\"},\"title\":{\"x\":0.05},\"mapbox\":{\"style\":\"light\"}}},\"xaxis\":{\"anchor\":\"y\",\"domain\":[0.0,1.0],\"title\":{\"text\":\"salary\"}},\"yaxis\":{\"anchor\":\"x\",\"domain\":[0.0,1.0],\"title\":{\"text\":\"age\"}},\"legend\":{\"title\":{\"text\":\"region_code\"},\"tracegroupgap\":0,\"itemsizing\":\"constant\"},\"margin\":{\"t\":60},\"title\":{\"text\":\"<b>Title</b>\",\"x\":0.5,\"xanchor\":\"center\"},\"barmode\":\"overlay\",\"height\":600},                        {\"responsive\": true}                    ).then(function(){\n",
       "                            \n",
       "var gd = document.getElementById('83614460-ddf1-40d4-b5f3-ba35c50d9dde');\n",
       "var x = new MutationObserver(function (mutations, observer) {{\n",
       "        var display = window.getComputedStyle(gd).display;\n",
       "        if (!display || display === 'none') {{\n",
       "            console.log([gd, 'removed!']);\n",
       "            Plotly.purge(gd);\n",
       "            observer.disconnect();\n",
       "        }}\n",
       "}});\n",
       "\n",
       "// Listen for the removal of the full notebook cells\n",
       "var notebookContainer = gd.closest('#notebook-container');\n",
       "if (notebookContainer) {{\n",
       "    x.observe(notebookContainer, {childList: true});\n",
       "}}\n",
       "\n",
       "// Listen for the clearing of the current output cell\n",
       "var outputEl = gd.closest('.output');\n",
       "if (outputEl) {{\n",
       "    x.observe(outputEl, {childList: true});\n",
       "}}\n",
       "\n",
       "                        })                };                });            </script>        </div>"
      ]
     },
     "metadata": {},
     "output_type": "display_data"
    },
    {
     "data": {
      "image/png": "[encoded data removed]"
     },
     "metadata": {},
     "output_type": "display_data"
    }
   ],
   "source": [
    "# 1. Provided salary only for age range 22-40\n",
    "# 2. Majority of the customers below 26 years old\n",
    "# 3. Majority of the customers between 60 and 90k salary\n",
    "\n",
    "four_feature_scatterer(df[df[\"salary\"].notna()], \"region_code\", \"salary\", \"age\", \"Male\", title = \"Title\")"
   ]
  },
  {
   "cell_type": "code",
   "execution_count": 63,
   "metadata": {},
   "outputs": [
    {
     "data": {
      "text/plain": [
       "1    4381602\n",
       "0    1581322\n",
       "Name: em_acount, dtype: int64"
      ]
     },
     "execution_count": 63,
     "metadata": {},
     "output_type": "execute_result"
    }
   ],
   "source": [
    "df[\"em_acount\"].value_counts()"
   ]
  },
  {
   "cell_type": "code",
   "execution_count": 87,
   "metadata": {},
   "outputs": [
    {
     "data": {
      "text/plain": [
       "array(['1050613', '1050680', '1050693', '1050660', '1050642', '1050651',\n",
       "       '1050652', '1050658', '1050659', '1050553', '1050565', '1050537',\n",
       "       '1050857', '1050869', '1050911', '1050914', '1050920', '1050141',\n",
       "       '1050091', '1050155', '1050389', '1050337', '1050360', '1050358',\n",
       "       '1051851', '1051852', '1051853', '1051854', '1051920', '1051968'],\n",
       "      dtype=object)"
      ]
     },
     "execution_count": 87,
     "metadata": {},
     "output_type": "execute_result"
    }
   ],
   "source": [
    "df[df[\"em_acount\"] == 0][\"pk_cid\"].unique()[:30]"
   ]
  },
  {
   "cell_type": "code",
   "execution_count": 94,
   "metadata": {},
   "outputs": [
    {
     "data": {
      "image/png": "[encoded data removed]",
      "text/plain": [
       "<Figure size 640x480 with 1 Axes>"
      ]
     },
     "metadata": {},
     "output_type": "display_data"
    }
   ],
   "source": [
    "df_monthly = df[df[\"pk_cid\"] == \"1050358\"].resample(\"M\", on = \"pk_partition\").sum()\n",
    "plt.plot(df_monthly.index, df_monthly[['Male', 'deceased', 'short_term_deposit', 'loans', 'mortgage', 'funds','securities', 'long_term_deposit', 'credit_card', 'payroll','pension_plan', 'payroll_account', 'emc_account', 'debit_card', 'em_account_p', 'em_acount', 'active_customer']].sum(axis=1))\n",
    "\n",
    "plt.xlabel(\"Month\")\n",
    "plt.ylabel(\"Sum of binary features\")\n",
    "plt.title(\"Sum of binary features every month\")\n",
    "plt.xticks(rotation=45)\n",
    "plt.show()"
   ]
  },
  {
   "cell_type": "code",
   "execution_count": 95,
   "metadata": {},
   "outputs": [
    {
     "data": {
      "text/html": [
       "<div>\n",
       "<style scoped>\n",
       "    .dataframe tbody tr th:only-of-type {\n",
       "        vertical-align: middle;\n",
       "    }\n",
       "\n",
       "    .dataframe tbody tr th {\n",
       "        vertical-align: top;\n",
       "    }\n",
       "\n",
       "    .dataframe thead th {\n",
       "        text-align: right;\n",
       "    }\n",
       "</style>\n",
       "<table border=\"1\" class=\"dataframe\">\n",
       "  <thead>\n",
       "    <tr style=\"text-align: right;\">\n",
       "      <th></th>\n",
       "      <th>606</th>\n",
       "      <th>473364</th>\n",
       "      <th>693955</th>\n",
       "      <th>969315</th>\n",
       "      <th>1007575</th>\n",
       "      <th>1258629</th>\n",
       "      <th>1583493</th>\n",
       "      <th>2050193</th>\n",
       "      <th>2330537</th>\n",
       "      <th>2673371</th>\n",
       "      <th>3335322</th>\n",
       "      <th>3416664</th>\n",
       "      <th>4163025</th>\n",
       "      <th>4547377</th>\n",
       "      <th>5074378</th>\n",
       "      <th>5270466</th>\n",
       "      <th>5775321</th>\n",
       "    </tr>\n",
       "  </thead>\n",
       "  <tbody>\n",
       "    <tr>\n",
       "      <th>pk_cid</th>\n",
       "      <td>1050358</td>\n",
       "      <td>1050358</td>\n",
       "      <td>1050358</td>\n",
       "      <td>1050358</td>\n",
       "      <td>1050358</td>\n",
       "      <td>1050358</td>\n",
       "      <td>1050358</td>\n",
       "      <td>1050358</td>\n",
       "      <td>1050358</td>\n",
       "      <td>1050358</td>\n",
       "      <td>1050358</td>\n",
       "      <td>1050358</td>\n",
       "      <td>1050358</td>\n",
       "      <td>1050358</td>\n",
       "      <td>1050358</td>\n",
       "      <td>1050358</td>\n",
       "      <td>1050358</td>\n",
       "    </tr>\n",
       "    <tr>\n",
       "      <th>pk_partition</th>\n",
       "      <td>2018-01-28 00:00:00</td>\n",
       "      <td>2018-02-28 00:00:00</td>\n",
       "      <td>2018-03-28 00:00:00</td>\n",
       "      <td>2018-04-28 00:00:00</td>\n",
       "      <td>2018-05-28 00:00:00</td>\n",
       "      <td>2018-06-28 00:00:00</td>\n",
       "      <td>2018-07-28 00:00:00</td>\n",
       "      <td>2018-08-28 00:00:00</td>\n",
       "      <td>2018-09-28 00:00:00</td>\n",
       "      <td>2018-10-28 00:00:00</td>\n",
       "      <td>2018-11-28 00:00:00</td>\n",
       "      <td>2018-12-28 00:00:00</td>\n",
       "      <td>2019-01-28 00:00:00</td>\n",
       "      <td>2019-02-28 00:00:00</td>\n",
       "      <td>2019-03-28 00:00:00</td>\n",
       "      <td>2019-04-28 00:00:00</td>\n",
       "      <td>2019-05-28 00:00:00</td>\n",
       "    </tr>\n",
       "    <tr>\n",
       "      <th>country_id</th>\n",
       "      <td>ES</td>\n",
       "      <td>ES</td>\n",
       "      <td>ES</td>\n",
       "      <td>ES</td>\n",
       "      <td>ES</td>\n",
       "      <td>ES</td>\n",
       "      <td>ES</td>\n",
       "      <td>ES</td>\n",
       "      <td>ES</td>\n",
       "      <td>ES</td>\n",
       "      <td>ES</td>\n",
       "      <td>ES</td>\n",
       "      <td>ES</td>\n",
       "      <td>ES</td>\n",
       "      <td>ES</td>\n",
       "      <td>ES</td>\n",
       "      <td>ES</td>\n",
       "    </tr>\n",
       "    <tr>\n",
       "      <th>region_code</th>\n",
       "      <td>28.0</td>\n",
       "      <td>28.0</td>\n",
       "      <td>28.0</td>\n",
       "      <td>28.0</td>\n",
       "      <td>28.0</td>\n",
       "      <td>28.0</td>\n",
       "      <td>28.0</td>\n",
       "      <td>28.0</td>\n",
       "      <td>28.0</td>\n",
       "      <td>28.0</td>\n",
       "      <td>28.0</td>\n",
       "      <td>28.0</td>\n",
       "      <td>28.0</td>\n",
       "      <td>28.0</td>\n",
       "      <td>28.0</td>\n",
       "      <td>28.0</td>\n",
       "      <td>28.0</td>\n",
       "    </tr>\n",
       "    <tr>\n",
       "      <th>Male</th>\n",
       "      <td>0</td>\n",
       "      <td>0</td>\n",
       "      <td>0</td>\n",
       "      <td>0</td>\n",
       "      <td>0</td>\n",
       "      <td>0</td>\n",
       "      <td>0</td>\n",
       "      <td>0</td>\n",
       "      <td>0</td>\n",
       "      <td>0</td>\n",
       "      <td>0</td>\n",
       "      <td>0</td>\n",
       "      <td>0</td>\n",
       "      <td>0</td>\n",
       "      <td>0</td>\n",
       "      <td>0</td>\n",
       "      <td>0</td>\n",
       "    </tr>\n",
       "    <tr>\n",
       "      <th>age</th>\n",
       "      <td>31</td>\n",
       "      <td>31</td>\n",
       "      <td>31</td>\n",
       "      <td>31</td>\n",
       "      <td>31</td>\n",
       "      <td>31</td>\n",
       "      <td>31</td>\n",
       "      <td>31</td>\n",
       "      <td>31</td>\n",
       "      <td>32</td>\n",
       "      <td>32</td>\n",
       "      <td>32</td>\n",
       "      <td>32</td>\n",
       "      <td>32</td>\n",
       "      <td>32</td>\n",
       "      <td>32</td>\n",
       "      <td>32</td>\n",
       "    </tr>\n",
       "    <tr>\n",
       "      <th>deceased</th>\n",
       "      <td>0</td>\n",
       "      <td>0</td>\n",
       "      <td>0</td>\n",
       "      <td>0</td>\n",
       "      <td>0</td>\n",
       "      <td>0</td>\n",
       "      <td>0</td>\n",
       "      <td>0</td>\n",
       "      <td>0</td>\n",
       "      <td>0</td>\n",
       "      <td>0</td>\n",
       "      <td>0</td>\n",
       "      <td>0</td>\n",
       "      <td>0</td>\n",
       "      <td>0</td>\n",
       "      <td>0</td>\n",
       "      <td>0</td>\n",
       "    </tr>\n",
       "    <tr>\n",
       "      <th>salary</th>\n",
       "      <td>70,641.48</td>\n",
       "      <td>70,641.48</td>\n",
       "      <td>70,641.48</td>\n",
       "      <td>70,641.48</td>\n",
       "      <td>70,641.48</td>\n",
       "      <td>70,641.48</td>\n",
       "      <td>70,641.48</td>\n",
       "      <td>70,641.48</td>\n",
       "      <td>70,641.48</td>\n",
       "      <td>70,641.48</td>\n",
       "      <td>70,641.48</td>\n",
       "      <td>70,641.48</td>\n",
       "      <td>70,641.48</td>\n",
       "      <td>70,641.48</td>\n",
       "      <td>70,641.48</td>\n",
       "      <td>70,641.48</td>\n",
       "      <td>70,641.48</td>\n",
       "    </tr>\n",
       "    <tr>\n",
       "      <th>short_term_deposit</th>\n",
       "      <td>0</td>\n",
       "      <td>0</td>\n",
       "      <td>0</td>\n",
       "      <td>0</td>\n",
       "      <td>0</td>\n",
       "      <td>0</td>\n",
       "      <td>0</td>\n",
       "      <td>0</td>\n",
       "      <td>0</td>\n",
       "      <td>0</td>\n",
       "      <td>0</td>\n",
       "      <td>0</td>\n",
       "      <td>0</td>\n",
       "      <td>0</td>\n",
       "      <td>0</td>\n",
       "      <td>0</td>\n",
       "      <td>0</td>\n",
       "    </tr>\n",
       "    <tr>\n",
       "      <th>loans</th>\n",
       "      <td>0</td>\n",
       "      <td>0</td>\n",
       "      <td>0</td>\n",
       "      <td>0</td>\n",
       "      <td>0</td>\n",
       "      <td>0</td>\n",
       "      <td>0</td>\n",
       "      <td>0</td>\n",
       "      <td>0</td>\n",
       "      <td>0</td>\n",
       "      <td>0</td>\n",
       "      <td>0</td>\n",
       "      <td>0</td>\n",
       "      <td>0</td>\n",
       "      <td>0</td>\n",
       "      <td>0</td>\n",
       "      <td>0</td>\n",
       "    </tr>\n",
       "    <tr>\n",
       "      <th>mortgage</th>\n",
       "      <td>0</td>\n",
       "      <td>0</td>\n",
       "      <td>0</td>\n",
       "      <td>0</td>\n",
       "      <td>0</td>\n",
       "      <td>0</td>\n",
       "      <td>0</td>\n",
       "      <td>0</td>\n",
       "      <td>0</td>\n",
       "      <td>0</td>\n",
       "      <td>0</td>\n",
       "      <td>0</td>\n",
       "      <td>0</td>\n",
       "      <td>0</td>\n",
       "      <td>0</td>\n",
       "      <td>0</td>\n",
       "      <td>0</td>\n",
       "    </tr>\n",
       "    <tr>\n",
       "      <th>funds</th>\n",
       "      <td>0</td>\n",
       "      <td>0</td>\n",
       "      <td>0</td>\n",
       "      <td>0</td>\n",
       "      <td>0</td>\n",
       "      <td>0</td>\n",
       "      <td>0</td>\n",
       "      <td>0</td>\n",
       "      <td>0</td>\n",
       "      <td>0</td>\n",
       "      <td>0</td>\n",
       "      <td>0</td>\n",
       "      <td>0</td>\n",
       "      <td>0</td>\n",
       "      <td>0</td>\n",
       "      <td>0</td>\n",
       "      <td>0</td>\n",
       "    </tr>\n",
       "    <tr>\n",
       "      <th>securities</th>\n",
       "      <td>0</td>\n",
       "      <td>0</td>\n",
       "      <td>0</td>\n",
       "      <td>0</td>\n",
       "      <td>0</td>\n",
       "      <td>0</td>\n",
       "      <td>0</td>\n",
       "      <td>0</td>\n",
       "      <td>0</td>\n",
       "      <td>0</td>\n",
       "      <td>0</td>\n",
       "      <td>0</td>\n",
       "      <td>0</td>\n",
       "      <td>0</td>\n",
       "      <td>0</td>\n",
       "      <td>0</td>\n",
       "      <td>0</td>\n",
       "    </tr>\n",
       "    <tr>\n",
       "      <th>long_term_deposit</th>\n",
       "      <td>0</td>\n",
       "      <td>0</td>\n",
       "      <td>0</td>\n",
       "      <td>0</td>\n",
       "      <td>0</td>\n",
       "      <td>0</td>\n",
       "      <td>0</td>\n",
       "      <td>0</td>\n",
       "      <td>0</td>\n",
       "      <td>0</td>\n",
       "      <td>0</td>\n",
       "      <td>0</td>\n",
       "      <td>0</td>\n",
       "      <td>0</td>\n",
       "      <td>0</td>\n",
       "      <td>0</td>\n",
       "      <td>0</td>\n",
       "    </tr>\n",
       "    <tr>\n",
       "      <th>em_account_pp</th>\n",
       "      <td>0</td>\n",
       "      <td>0</td>\n",
       "      <td>0</td>\n",
       "      <td>0</td>\n",
       "      <td>0</td>\n",
       "      <td>0</td>\n",
       "      <td>0</td>\n",
       "      <td>0</td>\n",
       "      <td>0</td>\n",
       "      <td>0</td>\n",
       "      <td>0</td>\n",
       "      <td>0</td>\n",
       "      <td>0</td>\n",
       "      <td>0</td>\n",
       "      <td>0</td>\n",
       "      <td>0</td>\n",
       "      <td>0</td>\n",
       "    </tr>\n",
       "    <tr>\n",
       "      <th>credit_card</th>\n",
       "      <td>0</td>\n",
       "      <td>0</td>\n",
       "      <td>0</td>\n",
       "      <td>0</td>\n",
       "      <td>0</td>\n",
       "      <td>0</td>\n",
       "      <td>0</td>\n",
       "      <td>0</td>\n",
       "      <td>0</td>\n",
       "      <td>0</td>\n",
       "      <td>0</td>\n",
       "      <td>0</td>\n",
       "      <td>0</td>\n",
       "      <td>0</td>\n",
       "      <td>0</td>\n",
       "      <td>0</td>\n",
       "      <td>0</td>\n",
       "    </tr>\n",
       "    <tr>\n",
       "      <th>payroll</th>\n",
       "      <td>1.00</td>\n",
       "      <td>1.00</td>\n",
       "      <td>1.00</td>\n",
       "      <td>1.00</td>\n",
       "      <td>1.00</td>\n",
       "      <td>1.00</td>\n",
       "      <td>1.00</td>\n",
       "      <td>1.00</td>\n",
       "      <td>1.00</td>\n",
       "      <td>1.00</td>\n",
       "      <td>1.00</td>\n",
       "      <td>1.00</td>\n",
       "      <td>0.00</td>\n",
       "      <td>0.00</td>\n",
       "      <td>0.00</td>\n",
       "      <td>0.00</td>\n",
       "      <td>0.00</td>\n",
       "    </tr>\n",
       "    <tr>\n",
       "      <th>pension_plan</th>\n",
       "      <td>1.00</td>\n",
       "      <td>1.00</td>\n",
       "      <td>1.00</td>\n",
       "      <td>1.00</td>\n",
       "      <td>1.00</td>\n",
       "      <td>1.00</td>\n",
       "      <td>1.00</td>\n",
       "      <td>1.00</td>\n",
       "      <td>1.00</td>\n",
       "      <td>1.00</td>\n",
       "      <td>1.00</td>\n",
       "      <td>1.00</td>\n",
       "      <td>0.00</td>\n",
       "      <td>0.00</td>\n",
       "      <td>0.00</td>\n",
       "      <td>0.00</td>\n",
       "      <td>0.00</td>\n",
       "    </tr>\n",
       "    <tr>\n",
       "      <th>payroll_account</th>\n",
       "      <td>1</td>\n",
       "      <td>1</td>\n",
       "      <td>0</td>\n",
       "      <td>0</td>\n",
       "      <td>0</td>\n",
       "      <td>0</td>\n",
       "      <td>0</td>\n",
       "      <td>0</td>\n",
       "      <td>0</td>\n",
       "      <td>0</td>\n",
       "      <td>0</td>\n",
       "      <td>1</td>\n",
       "      <td>0</td>\n",
       "      <td>0</td>\n",
       "      <td>0</td>\n",
       "      <td>0</td>\n",
       "      <td>0</td>\n",
       "    </tr>\n",
       "    <tr>\n",
       "      <th>emc_account</th>\n",
       "      <td>0</td>\n",
       "      <td>0</td>\n",
       "      <td>0</td>\n",
       "      <td>1</td>\n",
       "      <td>1</td>\n",
       "      <td>1</td>\n",
       "      <td>1</td>\n",
       "      <td>1</td>\n",
       "      <td>1</td>\n",
       "      <td>1</td>\n",
       "      <td>1</td>\n",
       "      <td>1</td>\n",
       "      <td>1</td>\n",
       "      <td>0</td>\n",
       "      <td>0</td>\n",
       "      <td>1</td>\n",
       "      <td>1</td>\n",
       "    </tr>\n",
       "    <tr>\n",
       "      <th>debit_card</th>\n",
       "      <td>0</td>\n",
       "      <td>0</td>\n",
       "      <td>0</td>\n",
       "      <td>0</td>\n",
       "      <td>0</td>\n",
       "      <td>0</td>\n",
       "      <td>0</td>\n",
       "      <td>0</td>\n",
       "      <td>0</td>\n",
       "      <td>0</td>\n",
       "      <td>0</td>\n",
       "      <td>0</td>\n",
       "      <td>0</td>\n",
       "      <td>0</td>\n",
       "      <td>0</td>\n",
       "      <td>0</td>\n",
       "      <td>0</td>\n",
       "    </tr>\n",
       "    <tr>\n",
       "      <th>em_account_p</th>\n",
       "      <td>0</td>\n",
       "      <td>0</td>\n",
       "      <td>0</td>\n",
       "      <td>0</td>\n",
       "      <td>0</td>\n",
       "      <td>0</td>\n",
       "      <td>0</td>\n",
       "      <td>0</td>\n",
       "      <td>0</td>\n",
       "      <td>0</td>\n",
       "      <td>0</td>\n",
       "      <td>0</td>\n",
       "      <td>0</td>\n",
       "      <td>0</td>\n",
       "      <td>0</td>\n",
       "      <td>0</td>\n",
       "      <td>0</td>\n",
       "    </tr>\n",
       "    <tr>\n",
       "      <th>em_acount</th>\n",
       "      <td>0</td>\n",
       "      <td>0</td>\n",
       "      <td>0</td>\n",
       "      <td>0</td>\n",
       "      <td>0</td>\n",
       "      <td>0</td>\n",
       "      <td>0</td>\n",
       "      <td>0</td>\n",
       "      <td>0</td>\n",
       "      <td>0</td>\n",
       "      <td>0</td>\n",
       "      <td>0</td>\n",
       "      <td>0</td>\n",
       "      <td>0</td>\n",
       "      <td>0</td>\n",
       "      <td>0</td>\n",
       "      <td>0</td>\n",
       "    </tr>\n",
       "    <tr>\n",
       "      <th>entry_date</th>\n",
       "      <td>2015-08-10 00:00:00</td>\n",
       "      <td>2015-08-10 00:00:00</td>\n",
       "      <td>2015-08-10 00:00:00</td>\n",
       "      <td>2015-08-10 00:00:00</td>\n",
       "      <td>2015-08-10 00:00:00</td>\n",
       "      <td>2015-08-10 00:00:00</td>\n",
       "      <td>2015-08-10 00:00:00</td>\n",
       "      <td>2015-08-10 00:00:00</td>\n",
       "      <td>2015-08-10 00:00:00</td>\n",
       "      <td>2015-08-10 00:00:00</td>\n",
       "      <td>2015-08-10 00:00:00</td>\n",
       "      <td>2015-08-10 00:00:00</td>\n",
       "      <td>2015-08-10 00:00:00</td>\n",
       "      <td>2015-08-10 00:00:00</td>\n",
       "      <td>2015-08-10 00:00:00</td>\n",
       "      <td>2015-08-10 00:00:00</td>\n",
       "      <td>2015-08-10 00:00:00</td>\n",
       "    </tr>\n",
       "    <tr>\n",
       "      <th>entry_channel</th>\n",
       "      <td>KHE</td>\n",
       "      <td>KHE</td>\n",
       "      <td>KHE</td>\n",
       "      <td>KHE</td>\n",
       "      <td>KHE</td>\n",
       "      <td>KHE</td>\n",
       "      <td>KHE</td>\n",
       "      <td>KHE</td>\n",
       "      <td>KHE</td>\n",
       "      <td>KHE</td>\n",
       "      <td>KHE</td>\n",
       "      <td>KHE</td>\n",
       "      <td>KHE</td>\n",
       "      <td>KHE</td>\n",
       "      <td>KHE</td>\n",
       "      <td>KHE</td>\n",
       "      <td>KHE</td>\n",
       "    </tr>\n",
       "    <tr>\n",
       "      <th>active_customer</th>\n",
       "      <td>1.00</td>\n",
       "      <td>1.00</td>\n",
       "      <td>1.00</td>\n",
       "      <td>1.00</td>\n",
       "      <td>1.00</td>\n",
       "      <td>1.00</td>\n",
       "      <td>1.00</td>\n",
       "      <td>1.00</td>\n",
       "      <td>1.00</td>\n",
       "      <td>1.00</td>\n",
       "      <td>1.00</td>\n",
       "      <td>1.00</td>\n",
       "      <td>1.00</td>\n",
       "      <td>0.00</td>\n",
       "      <td>0.00</td>\n",
       "      <td>1.00</td>\n",
       "      <td>1.00</td>\n",
       "    </tr>\n",
       "    <tr>\n",
       "      <th>segment</th>\n",
       "      <td>03 - UNIVERSITARIO</td>\n",
       "      <td>03 - UNIVERSITARIO</td>\n",
       "      <td>03 - UNIVERSITARIO</td>\n",
       "      <td>03 - UNIVERSITARIO</td>\n",
       "      <td>03 - UNIVERSITARIO</td>\n",
       "      <td>03 - UNIVERSITARIO</td>\n",
       "      <td>03 - UNIVERSITARIO</td>\n",
       "      <td>03 - UNIVERSITARIO</td>\n",
       "      <td>03 - UNIVERSITARIO</td>\n",
       "      <td>03 - UNIVERSITARIO</td>\n",
       "      <td>03 - UNIVERSITARIO</td>\n",
       "      <td>03 - UNIVERSITARIO</td>\n",
       "      <td>03 - UNIVERSITARIO</td>\n",
       "      <td>03 - UNIVERSITARIO</td>\n",
       "      <td>03 - UNIVERSITARIO</td>\n",
       "      <td>03 - UNIVERSITARIO</td>\n",
       "      <td>03 - UNIVERSITARIO</td>\n",
       "    </tr>\n",
       "  </tbody>\n",
       "</table>\n",
       "</div>"
      ],
      "text/plain": [
       "                                606                  473364   \\\n",
       "pk_cid                          1050358              1050358   \n",
       "pk_partition        2018-01-28 00:00:00  2018-02-28 00:00:00   \n",
       "country_id                           ES                   ES   \n",
       "region_code                        28.0                 28.0   \n",
       "Male                                  0                    0   \n",
       "age                                  31                   31   \n",
       "deceased                              0                    0   \n",
       "salary                        70,641.48            70,641.48   \n",
       "short_term_deposit                    0                    0   \n",
       "loans                                 0                    0   \n",
       "mortgage                              0                    0   \n",
       "funds                                 0                    0   \n",
       "securities                            0                    0   \n",
       "long_term_deposit                     0                    0   \n",
       "em_account_pp                         0                    0   \n",
       "credit_card                           0                    0   \n",
       "payroll                            1.00                 1.00   \n",
       "pension_plan                       1.00                 1.00   \n",
       "payroll_account                       1                    1   \n",
       "emc_account                           0                    0   \n",
       "debit_card                            0                    0   \n",
       "em_account_p                          0                    0   \n",
       "em_acount                             0                    0   \n",
       "entry_date          2015-08-10 00:00:00  2015-08-10 00:00:00   \n",
       "entry_channel                       KHE                  KHE   \n",
       "active_customer                    1.00                 1.00   \n",
       "segment              03 - UNIVERSITARIO   03 - UNIVERSITARIO   \n",
       "\n",
       "                                693955               969315   \\\n",
       "pk_cid                          1050358              1050358   \n",
       "pk_partition        2018-03-28 00:00:00  2018-04-28 00:00:00   \n",
       "country_id                           ES                   ES   \n",
       "region_code                        28.0                 28.0   \n",
       "Male                                  0                    0   \n",
       "age                                  31                   31   \n",
       "deceased                              0                    0   \n",
       "salary                        70,641.48            70,641.48   \n",
       "short_term_deposit                    0                    0   \n",
       "loans                                 0                    0   \n",
       "mortgage                              0                    0   \n",
       "funds                                 0                    0   \n",
       "securities                            0                    0   \n",
       "long_term_deposit                     0                    0   \n",
       "em_account_pp                         0                    0   \n",
       "credit_card                           0                    0   \n",
       "payroll                            1.00                 1.00   \n",
       "pension_plan                       1.00                 1.00   \n",
       "payroll_account                       0                    0   \n",
       "emc_account                           0                    1   \n",
       "debit_card                            0                    0   \n",
       "em_account_p                          0                    0   \n",
       "em_acount                             0                    0   \n",
       "entry_date          2015-08-10 00:00:00  2015-08-10 00:00:00   \n",
       "entry_channel                       KHE                  KHE   \n",
       "active_customer                    1.00                 1.00   \n",
       "segment              03 - UNIVERSITARIO   03 - UNIVERSITARIO   \n",
       "\n",
       "                                1007575              1258629  \\\n",
       "pk_cid                          1050358              1050358   \n",
       "pk_partition        2018-05-28 00:00:00  2018-06-28 00:00:00   \n",
       "country_id                           ES                   ES   \n",
       "region_code                        28.0                 28.0   \n",
       "Male                                  0                    0   \n",
       "age                                  31                   31   \n",
       "deceased                              0                    0   \n",
       "salary                        70,641.48            70,641.48   \n",
       "short_term_deposit                    0                    0   \n",
       "loans                                 0                    0   \n",
       "mortgage                              0                    0   \n",
       "funds                                 0                    0   \n",
       "securities                            0                    0   \n",
       "long_term_deposit                     0                    0   \n",
       "em_account_pp                         0                    0   \n",
       "credit_card                           0                    0   \n",
       "payroll                            1.00                 1.00   \n",
       "pension_plan                       1.00                 1.00   \n",
       "payroll_account                       0                    0   \n",
       "emc_account                           1                    1   \n",
       "debit_card                            0                    0   \n",
       "em_account_p                          0                    0   \n",
       "em_acount                             0                    0   \n",
       "entry_date          2015-08-10 00:00:00  2015-08-10 00:00:00   \n",
       "entry_channel                       KHE                  KHE   \n",
       "active_customer                    1.00                 1.00   \n",
       "segment              03 - UNIVERSITARIO   03 - UNIVERSITARIO   \n",
       "\n",
       "                                1583493              2050193  \\\n",
       "pk_cid                          1050358              1050358   \n",
       "pk_partition        2018-07-28 00:00:00  2018-08-28 00:00:00   \n",
       "country_id                           ES                   ES   \n",
       "region_code                        28.0                 28.0   \n",
       "Male                                  0                    0   \n",
       "age                                  31                   31   \n",
       "deceased                              0                    0   \n",
       "salary                        70,641.48            70,641.48   \n",
       "short_term_deposit                    0                    0   \n",
       "loans                                 0                    0   \n",
       "mortgage                              0                    0   \n",
       "funds                                 0                    0   \n",
       "securities                            0                    0   \n",
       "long_term_deposit                     0                    0   \n",
       "em_account_pp                         0                    0   \n",
       "credit_card                           0                    0   \n",
       "payroll                            1.00                 1.00   \n",
       "pension_plan                       1.00                 1.00   \n",
       "payroll_account                       0                    0   \n",
       "emc_account                           1                    1   \n",
       "debit_card                            0                    0   \n",
       "em_account_p                          0                    0   \n",
       "em_acount                             0                    0   \n",
       "entry_date          2015-08-10 00:00:00  2015-08-10 00:00:00   \n",
       "entry_channel                       KHE                  KHE   \n",
       "active_customer                    1.00                 1.00   \n",
       "segment              03 - UNIVERSITARIO   03 - UNIVERSITARIO   \n",
       "\n",
       "                                2330537              2673371  \\\n",
       "pk_cid                          1050358              1050358   \n",
       "pk_partition        2018-09-28 00:00:00  2018-10-28 00:00:00   \n",
       "country_id                           ES                   ES   \n",
       "region_code                        28.0                 28.0   \n",
       "Male                                  0                    0   \n",
       "age                                  31                   32   \n",
       "deceased                              0                    0   \n",
       "salary                        70,641.48            70,641.48   \n",
       "short_term_deposit                    0                    0   \n",
       "loans                                 0                    0   \n",
       "mortgage                              0                    0   \n",
       "funds                                 0                    0   \n",
       "securities                            0                    0   \n",
       "long_term_deposit                     0                    0   \n",
       "em_account_pp                         0                    0   \n",
       "credit_card                           0                    0   \n",
       "payroll                            1.00                 1.00   \n",
       "pension_plan                       1.00                 1.00   \n",
       "payroll_account                       0                    0   \n",
       "emc_account                           1                    1   \n",
       "debit_card                            0                    0   \n",
       "em_account_p                          0                    0   \n",
       "em_acount                             0                    0   \n",
       "entry_date          2015-08-10 00:00:00  2015-08-10 00:00:00   \n",
       "entry_channel                       KHE                  KHE   \n",
       "active_customer                    1.00                 1.00   \n",
       "segment              03 - UNIVERSITARIO   03 - UNIVERSITARIO   \n",
       "\n",
       "                                3335322              3416664  \\\n",
       "pk_cid                          1050358              1050358   \n",
       "pk_partition        2018-11-28 00:00:00  2018-12-28 00:00:00   \n",
       "country_id                           ES                   ES   \n",
       "region_code                        28.0                 28.0   \n",
       "Male                                  0                    0   \n",
       "age                                  32                   32   \n",
       "deceased                              0                    0   \n",
       "salary                        70,641.48            70,641.48   \n",
       "short_term_deposit                    0                    0   \n",
       "loans                                 0                    0   \n",
       "mortgage                              0                    0   \n",
       "funds                                 0                    0   \n",
       "securities                            0                    0   \n",
       "long_term_deposit                     0                    0   \n",
       "em_account_pp                         0                    0   \n",
       "credit_card                           0                    0   \n",
       "payroll                            1.00                 1.00   \n",
       "pension_plan                       1.00                 1.00   \n",
       "payroll_account                       0                    1   \n",
       "emc_account                           1                    1   \n",
       "debit_card                            0                    0   \n",
       "em_account_p                          0                    0   \n",
       "em_acount                             0                    0   \n",
       "entry_date          2015-08-10 00:00:00  2015-08-10 00:00:00   \n",
       "entry_channel                       KHE                  KHE   \n",
       "active_customer                    1.00                 1.00   \n",
       "segment              03 - UNIVERSITARIO   03 - UNIVERSITARIO   \n",
       "\n",
       "                                4163025              4547377  \\\n",
       "pk_cid                          1050358              1050358   \n",
       "pk_partition        2019-01-28 00:00:00  2019-02-28 00:00:00   \n",
       "country_id                           ES                   ES   \n",
       "region_code                        28.0                 28.0   \n",
       "Male                                  0                    0   \n",
       "age                                  32                   32   \n",
       "deceased                              0                    0   \n",
       "salary                        70,641.48            70,641.48   \n",
       "short_term_deposit                    0                    0   \n",
       "loans                                 0                    0   \n",
       "mortgage                              0                    0   \n",
       "funds                                 0                    0   \n",
       "securities                            0                    0   \n",
       "long_term_deposit                     0                    0   \n",
       "em_account_pp                         0                    0   \n",
       "credit_card                           0                    0   \n",
       "payroll                            0.00                 0.00   \n",
       "pension_plan                       0.00                 0.00   \n",
       "payroll_account                       0                    0   \n",
       "emc_account                           1                    0   \n",
       "debit_card                            0                    0   \n",
       "em_account_p                          0                    0   \n",
       "em_acount                             0                    0   \n",
       "entry_date          2015-08-10 00:00:00  2015-08-10 00:00:00   \n",
       "entry_channel                       KHE                  KHE   \n",
       "active_customer                    1.00                 0.00   \n",
       "segment              03 - UNIVERSITARIO   03 - UNIVERSITARIO   \n",
       "\n",
       "                                5074378              5270466  \\\n",
       "pk_cid                          1050358              1050358   \n",
       "pk_partition        2019-03-28 00:00:00  2019-04-28 00:00:00   \n",
       "country_id                           ES                   ES   \n",
       "region_code                        28.0                 28.0   \n",
       "Male                                  0                    0   \n",
       "age                                  32                   32   \n",
       "deceased                              0                    0   \n",
       "salary                        70,641.48            70,641.48   \n",
       "short_term_deposit                    0                    0   \n",
       "loans                                 0                    0   \n",
       "mortgage                              0                    0   \n",
       "funds                                 0                    0   \n",
       "securities                            0                    0   \n",
       "long_term_deposit                     0                    0   \n",
       "em_account_pp                         0                    0   \n",
       "credit_card                           0                    0   \n",
       "payroll                            0.00                 0.00   \n",
       "pension_plan                       0.00                 0.00   \n",
       "payroll_account                       0                    0   \n",
       "emc_account                           0                    1   \n",
       "debit_card                            0                    0   \n",
       "em_account_p                          0                    0   \n",
       "em_acount                             0                    0   \n",
       "entry_date          2015-08-10 00:00:00  2015-08-10 00:00:00   \n",
       "entry_channel                       KHE                  KHE   \n",
       "active_customer                    0.00                 1.00   \n",
       "segment              03 - UNIVERSITARIO   03 - UNIVERSITARIO   \n",
       "\n",
       "                                5775321  \n",
       "pk_cid                          1050358  \n",
       "pk_partition        2019-05-28 00:00:00  \n",
       "country_id                           ES  \n",
       "region_code                        28.0  \n",
       "Male                                  0  \n",
       "age                                  32  \n",
       "deceased                              0  \n",
       "salary                        70,641.48  \n",
       "short_term_deposit                    0  \n",
       "loans                                 0  \n",
       "mortgage                              0  \n",
       "funds                                 0  \n",
       "securities                            0  \n",
       "long_term_deposit                     0  \n",
       "em_account_pp                         0  \n",
       "credit_card                           0  \n",
       "payroll                            0.00  \n",
       "pension_plan                       0.00  \n",
       "payroll_account                       0  \n",
       "emc_account                           1  \n",
       "debit_card                            0  \n",
       "em_account_p                          0  \n",
       "em_acount                             0  \n",
       "entry_date          2015-08-10 00:00:00  \n",
       "entry_channel                       KHE  \n",
       "active_customer                    1.00  \n",
       "segment              03 - UNIVERSITARIO  "
      ]
     },
     "execution_count": 95,
     "metadata": {},
     "output_type": "execute_result"
    }
   ],
   "source": [
    "df[df[\"pk_cid\"] == \"1050358\"].T"
   ]
  }
 ],
 "metadata": {
  "kernelspec": {
   "display_name": "base",
   "language": "python",
   "name": "python3"
  },
  "language_info": {
   "codemirror_mode": {
    "name": "ipython",
    "version": 3
   },
   "file_extension": ".py",
   "mimetype": "text/x-python",
   "name": "python",
   "nbconvert_exporter": "python",
   "pygments_lexer": "ipython3",
   "version": "3.9.13"
  },
  "orig_nbformat": 4,
  "vscode": {
   "interpreter": {
    "hash": "bf26a67949d1045d176220045f1879bd40fe3fcae6da0e73db280a872502b2ae"
   }
  }
 },
 "nbformat": 4,
 "nbformat_minor": 2
}
